{
 "cells": [
  {
   "cell_type": "code",
   "execution_count": 174,
   "id": "d2cb7af2",
   "metadata": {},
   "outputs": [],
   "source": [
    "import numpy as np\n",
    "import pandas as pd\n",
    "import plotly.graph_objects as go\n",
    "from plotly.subplots import make_subplots\n"
   ]
  },
  {
   "cell_type": "code",
   "execution_count": 175,
   "id": "8a57dc4e",
   "metadata": {},
   "outputs": [
    {
     "name": "stdout",
     "output_type": "stream",
     "text": [
      "            Date       Meal  Calories  Fat (g)  Saturated Fat  \\\n",
      "0     2024-02-28      Lunch     530.7     19.8            3.2   \n",
      "1     2024-02-29     Dinner      47.4      2.0            1.3   \n",
      "2     2024-03-01  Breakfast     195.0     10.8            6.9   \n",
      "3     2024-03-01      Lunch     576.9     34.1            7.5   \n",
      "4     2024-03-02     Dinner     652.0     30.4           14.2   \n",
      "...          ...        ...       ...      ...            ...   \n",
      "1082  2025-06-29      Lunch     449.6     19.9            6.4   \n",
      "1083  2025-06-29     Snacks     155.0     10.0            8.3   \n",
      "1084  2025-06-30  Breakfast     229.4     12.1            6.5   \n",
      "1085  2025-06-30      Lunch     585.4     31.4            5.2   \n",
      "1086  2025-06-30     Snacks      50.0      3.0            1.5   \n",
      "\n",
      "      Polyunsaturated Fat  Monounsaturated Fat  Trans Fat  Cholesterol  \\\n",
      "0                     0.8                  3.7        0.0         20.0   \n",
      "1                     0.0                  0.0        0.0          0.0   \n",
      "2                     0.0                  0.0        0.0          0.0   \n",
      "3                     6.5                 17.9        0.0        159.8   \n",
      "4                     3.0                  9.7        0.0          9.0   \n",
      "...                   ...                  ...        ...          ...   \n",
      "1082                  0.0                  0.0        0.0         45.0   \n",
      "1083                  0.0                  0.0        0.0          0.0   \n",
      "1084                  0.0                  0.0        0.0          0.0   \n",
      "1085                  0.0                  0.0        0.0          0.0   \n",
      "1086                  0.0                  0.0        0.0         15.0   \n",
      "\n",
      "      Sodium (mg)  ...  zero_calorie  zero_protein  zero_carbs  zero_fats  \\\n",
      "0          1021.8  ...         False         False       False      False   \n",
      "1             7.8  ...         False         False       False      False   \n",
      "2           120.0  ...         False         False       False      False   \n",
      "3           812.6  ...         False         False       False      False   \n",
      "4           180.5  ...         False         False       False      False   \n",
      "...           ...  ...           ...           ...         ...        ...   \n",
      "1082       1356.0  ...         False         False       False      False   \n",
      "1083         30.0  ...         False         False       False      False   \n",
      "1084        264.0  ...         False         False       False      False   \n",
      "1085        924.7  ...         False         False       False      False   \n",
      "1086        160.0  ...         False         False        True      False   \n",
      "\n",
      "      cal_macro_discrepancy  macro_pct_diff  macro_mismatch  likely_alcohol  \\\n",
      "0                       1.7        0.003203           False           False   \n",
      "1                       0.6        0.012658           False           False   \n",
      "2                      -5.4        0.027692           False           False   \n",
      "3                      26.0        0.045068           False           False   \n",
      "4                     -17.2        0.026380           False           False   \n",
      "...                     ...             ...             ...             ...   \n",
      "1082                    2.9        0.006450           False           False   \n",
      "1083                    1.8        0.011613           False           False   \n",
      "1084                   -7.1        0.030950           False           False   \n",
      "1085                   -5.6        0.009566           False           False   \n",
      "1086                   -1.0        0.020000           False           False   \n",
      "\n",
      "      Estimated Alcohol (g)  missing_main_meal  \n",
      "0                       0.0               True  \n",
      "1                       0.0               True  \n",
      "2                       0.0               True  \n",
      "3                       0.0               True  \n",
      "4                       0.0               True  \n",
      "...                     ...                ...  \n",
      "1082                    0.0              False  \n",
      "1083                    0.0              False  \n",
      "1084                    0.0               True  \n",
      "1085                    0.0               True  \n",
      "1086                    0.0               True  \n",
      "\n",
      "[1087 rows x 30 columns]\n",
      "           Date  Calories\n",
      "0    2024-03-19    1203.9\n",
      "1    2024-06-02    1430.1\n",
      "2    2024-06-03    1497.6\n",
      "3    2024-06-04    1146.9\n",
      "4    2024-06-05    1529.6\n",
      "..          ...       ...\n",
      "275  2025-06-25    1542.5\n",
      "276  2025-06-26    1503.6\n",
      "277  2025-06-27    1709.2\n",
      "278  2025-06-28     761.4\n",
      "279  2025-06-29    1468.4\n",
      "\n",
      "[280 rows x 2 columns]\n"
     ]
    },
    {
     "data": {
      "application/vnd.plotly.v1+json": {
       "config": {
        "plotlyServerURL": "https://plot.ly"
       },
       "data": [
        {
         "type": "bar",
         "x": [
          "2024-03-19",
          "2024-06-02",
          "2024-06-03",
          "2024-06-04",
          "2024-06-05",
          "2024-06-06",
          "2024-06-07",
          "2024-06-09",
          "2024-06-10",
          "2024-06-11",
          "2024-06-12",
          "2024-06-13",
          "2024-06-14",
          "2024-06-15",
          "2024-06-16",
          "2024-06-17",
          "2024-06-18",
          "2024-06-19",
          "2024-06-20",
          "2024-06-22",
          "2024-06-23",
          "2024-06-24",
          "2024-06-25",
          "2024-06-26",
          "2024-06-27",
          "2024-06-28",
          "2024-06-29",
          "2024-06-30",
          "2024-07-01",
          "2024-07-02",
          "2024-07-03",
          "2024-07-04",
          "2024-07-05",
          "2024-07-06",
          "2024-07-07",
          "2024-07-08",
          "2024-07-09",
          "2024-07-10",
          "2024-07-11",
          "2024-07-12",
          "2024-07-13",
          "2024-07-14",
          "2024-07-15",
          "2024-07-16",
          "2024-07-17",
          "2024-07-18",
          "2024-07-19",
          "2024-07-20",
          "2024-07-21",
          "2024-07-22",
          "2024-07-23",
          "2024-07-24",
          "2024-07-25",
          "2024-07-28",
          "2024-07-29",
          "2024-07-31",
          "2024-08-01",
          "2024-08-05",
          "2024-08-06",
          "2024-08-07",
          "2024-08-08",
          "2024-08-09",
          "2024-08-10",
          "2024-08-11",
          "2024-08-12",
          "2024-08-13",
          "2024-08-15",
          "2024-08-17",
          "2024-08-18",
          "2024-08-19",
          "2024-08-21",
          "2024-09-03",
          "2024-09-23",
          "2024-10-28",
          "2024-10-29",
          "2024-10-30",
          "2024-10-31",
          "2024-11-01",
          "2024-11-02",
          "2024-11-03",
          "2024-11-04",
          "2024-11-05",
          "2024-11-06",
          "2024-11-07",
          "2024-11-08",
          "2024-11-09",
          "2024-11-10",
          "2024-11-11",
          "2024-11-12",
          "2024-11-13",
          "2024-11-18",
          "2024-11-20",
          "2024-11-21",
          "2024-11-22",
          "2024-11-23",
          "2024-12-02",
          "2024-12-03",
          "2024-12-04",
          "2024-12-05",
          "2024-12-06",
          "2024-12-07",
          "2024-12-08",
          "2024-12-09",
          "2024-12-12",
          "2024-12-13",
          "2024-12-14",
          "2024-12-15",
          "2024-12-16",
          "2024-12-17",
          "2024-12-18",
          "2024-12-19",
          "2024-12-20",
          "2024-12-21",
          "2024-12-22",
          "2024-12-23",
          "2025-01-02",
          "2025-01-03",
          "2025-01-04",
          "2025-01-05",
          "2025-01-06",
          "2025-01-07",
          "2025-01-08",
          "2025-01-09",
          "2025-01-10",
          "2025-01-11",
          "2025-01-12",
          "2025-01-13",
          "2025-01-15",
          "2025-01-16",
          "2025-01-17",
          "2025-01-18",
          "2025-01-19",
          "2025-01-20",
          "2025-01-21",
          "2025-01-22",
          "2025-01-23",
          "2025-01-24",
          "2025-01-25",
          "2025-01-26",
          "2025-01-27",
          "2025-01-28",
          "2025-01-29",
          "2025-01-30",
          "2025-01-31",
          "2025-02-01",
          "2025-02-02",
          "2025-02-03",
          "2025-02-04",
          "2025-02-05",
          "2025-02-06",
          "2025-02-07",
          "2025-02-08",
          "2025-02-09",
          "2025-02-10",
          "2025-02-11",
          "2025-02-12",
          "2025-02-13",
          "2025-02-14",
          "2025-02-15",
          "2025-02-16",
          "2025-02-17",
          "2025-02-18",
          "2025-02-19",
          "2025-02-20",
          "2025-02-21",
          "2025-02-22",
          "2025-02-23",
          "2025-02-24",
          "2025-02-25",
          "2025-02-26",
          "2025-02-27",
          "2025-02-28",
          "2025-03-01",
          "2025-03-02",
          "2025-03-03",
          "2025-03-04",
          "2025-03-05",
          "2025-03-06",
          "2025-03-07",
          "2025-03-08",
          "2025-03-09",
          "2025-03-10",
          "2025-03-11",
          "2025-03-12",
          "2025-03-13",
          "2025-03-14",
          "2025-03-15",
          "2025-03-16",
          "2025-03-17",
          "2025-03-18",
          "2025-03-19",
          "2025-03-20",
          "2025-03-21",
          "2025-03-22",
          "2025-03-23",
          "2025-03-24",
          "2025-03-25",
          "2025-03-26",
          "2025-03-27",
          "2025-03-28",
          "2025-03-29",
          "2025-03-30",
          "2025-03-31",
          "2025-04-01",
          "2025-04-02",
          "2025-04-03",
          "2025-04-04",
          "2025-04-05",
          "2025-04-06",
          "2025-04-07",
          "2025-04-08",
          "2025-04-09",
          "2025-04-10",
          "2025-04-11",
          "2025-04-12",
          "2025-04-13",
          "2025-04-14",
          "2025-04-15",
          "2025-04-16",
          "2025-04-17",
          "2025-04-18",
          "2025-04-20",
          "2025-04-21",
          "2025-04-22",
          "2025-04-23",
          "2025-04-24",
          "2025-04-25",
          "2025-04-26",
          "2025-04-27",
          "2025-04-28",
          "2025-04-29",
          "2025-04-30",
          "2025-05-01",
          "2025-05-02",
          "2025-05-06",
          "2025-05-07",
          "2025-05-08",
          "2025-05-09",
          "2025-05-10",
          "2025-05-11",
          "2025-05-12",
          "2025-05-13",
          "2025-05-14",
          "2025-05-15",
          "2025-05-16",
          "2025-05-17",
          "2025-05-18",
          "2025-05-19",
          "2025-05-20",
          "2025-05-21",
          "2025-05-22",
          "2025-05-23",
          "2025-05-24",
          "2025-05-25",
          "2025-05-26",
          "2025-05-27",
          "2025-05-28",
          "2025-05-29",
          "2025-05-30",
          "2025-05-31",
          "2025-06-01",
          "2025-06-02",
          "2025-06-03",
          "2025-06-04",
          "2025-06-05",
          "2025-06-06",
          "2025-06-07",
          "2025-06-08",
          "2025-06-09",
          "2025-06-10",
          "2025-06-11",
          "2025-06-12",
          "2025-06-13",
          "2025-06-23",
          "2025-06-24",
          "2025-06-25",
          "2025-06-26",
          "2025-06-27",
          "2025-06-28",
          "2025-06-29"
         ],
         "y": {
          "bdata": "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",
          "dtype": "f8"
         }
        },
        {
         "line": {
          "color": "purple",
          "dash": "dash"
         },
         "mode": "lines",
         "name": "Avg: 1410 kcal",
         "type": "scatter",
         "x": [
          "2024-03-19",
          "2025-06-29"
         ],
         "y": [
          1409.9135714285715,
          1409.9135714285715
         ]
        }
       ],
       "layout": {
        "template": {
         "data": {
          "bar": [
           {
            "error_x": {
             "color": "#2a3f5f"
            },
            "error_y": {
             "color": "#2a3f5f"
            },
            "marker": {
             "line": {
              "color": "#E5ECF6",
              "width": 0.5
             },
             "pattern": {
              "fillmode": "overlay",
              "size": 10,
              "solidity": 0.2
             }
            },
            "type": "bar"
           }
          ],
          "barpolar": [
           {
            "marker": {
             "line": {
              "color": "#E5ECF6",
              "width": 0.5
             },
             "pattern": {
              "fillmode": "overlay",
              "size": 10,
              "solidity": 0.2
             }
            },
            "type": "barpolar"
           }
          ],
          "carpet": [
           {
            "aaxis": {
             "endlinecolor": "#2a3f5f",
             "gridcolor": "white",
             "linecolor": "white",
             "minorgridcolor": "white",
             "startlinecolor": "#2a3f5f"
            },
            "baxis": {
             "endlinecolor": "#2a3f5f",
             "gridcolor": "white",
             "linecolor": "white",
             "minorgridcolor": "white",
             "startlinecolor": "#2a3f5f"
            },
            "type": "carpet"
           }
          ],
          "choropleth": [
           {
            "colorbar": {
             "outlinewidth": 0,
             "ticks": ""
            },
            "type": "choropleth"
           }
          ],
          "contour": [
           {
            "colorbar": {
             "outlinewidth": 0,
             "ticks": ""
            },
            "colorscale": [
             [
              0,
              "#0d0887"
             ],
             [
              0.1111111111111111,
              "#46039f"
             ],
             [
              0.2222222222222222,
              "#7201a8"
             ],
             [
              0.3333333333333333,
              "#9c179e"
             ],
             [
              0.4444444444444444,
              "#bd3786"
             ],
             [
              0.5555555555555556,
              "#d8576b"
             ],
             [
              0.6666666666666666,
              "#ed7953"
             ],
             [
              0.7777777777777778,
              "#fb9f3a"
             ],
             [
              0.8888888888888888,
              "#fdca26"
             ],
             [
              1,
              "#f0f921"
             ]
            ],
            "type": "contour"
           }
          ],
          "contourcarpet": [
           {
            "colorbar": {
             "outlinewidth": 0,
             "ticks": ""
            },
            "type": "contourcarpet"
           }
          ],
          "heatmap": [
           {
            "colorbar": {
             "outlinewidth": 0,
             "ticks": ""
            },
            "colorscale": [
             [
              0,
              "#0d0887"
             ],
             [
              0.1111111111111111,
              "#46039f"
             ],
             [
              0.2222222222222222,
              "#7201a8"
             ],
             [
              0.3333333333333333,
              "#9c179e"
             ],
             [
              0.4444444444444444,
              "#bd3786"
             ],
             [
              0.5555555555555556,
              "#d8576b"
             ],
             [
              0.6666666666666666,
              "#ed7953"
             ],
             [
              0.7777777777777778,
              "#fb9f3a"
             ],
             [
              0.8888888888888888,
              "#fdca26"
             ],
             [
              1,
              "#f0f921"
             ]
            ],
            "type": "heatmap"
           }
          ],
          "histogram": [
           {
            "marker": {
             "pattern": {
              "fillmode": "overlay",
              "size": 10,
              "solidity": 0.2
             }
            },
            "type": "histogram"
           }
          ],
          "histogram2d": [
           {
            "colorbar": {
             "outlinewidth": 0,
             "ticks": ""
            },
            "colorscale": [
             [
              0,
              "#0d0887"
             ],
             [
              0.1111111111111111,
              "#46039f"
             ],
             [
              0.2222222222222222,
              "#7201a8"
             ],
             [
              0.3333333333333333,
              "#9c179e"
             ],
             [
              0.4444444444444444,
              "#bd3786"
             ],
             [
              0.5555555555555556,
              "#d8576b"
             ],
             [
              0.6666666666666666,
              "#ed7953"
             ],
             [
              0.7777777777777778,
              "#fb9f3a"
             ],
             [
              0.8888888888888888,
              "#fdca26"
             ],
             [
              1,
              "#f0f921"
             ]
            ],
            "type": "histogram2d"
           }
          ],
          "histogram2dcontour": [
           {
            "colorbar": {
             "outlinewidth": 0,
             "ticks": ""
            },
            "colorscale": [
             [
              0,
              "#0d0887"
             ],
             [
              0.1111111111111111,
              "#46039f"
             ],
             [
              0.2222222222222222,
              "#7201a8"
             ],
             [
              0.3333333333333333,
              "#9c179e"
             ],
             [
              0.4444444444444444,
              "#bd3786"
             ],
             [
              0.5555555555555556,
              "#d8576b"
             ],
             [
              0.6666666666666666,
              "#ed7953"
             ],
             [
              0.7777777777777778,
              "#fb9f3a"
             ],
             [
              0.8888888888888888,
              "#fdca26"
             ],
             [
              1,
              "#f0f921"
             ]
            ],
            "type": "histogram2dcontour"
           }
          ],
          "mesh3d": [
           {
            "colorbar": {
             "outlinewidth": 0,
             "ticks": ""
            },
            "type": "mesh3d"
           }
          ],
          "parcoords": [
           {
            "line": {
             "colorbar": {
              "outlinewidth": 0,
              "ticks": ""
             }
            },
            "type": "parcoords"
           }
          ],
          "pie": [
           {
            "automargin": true,
            "type": "pie"
           }
          ],
          "scatter": [
           {
            "fillpattern": {
             "fillmode": "overlay",
             "size": 10,
             "solidity": 0.2
            },
            "type": "scatter"
           }
          ],
          "scatter3d": [
           {
            "line": {
             "colorbar": {
              "outlinewidth": 0,
              "ticks": ""
             }
            },
            "marker": {
             "colorbar": {
              "outlinewidth": 0,
              "ticks": ""
             }
            },
            "type": "scatter3d"
           }
          ],
          "scattercarpet": [
           {
            "marker": {
             "colorbar": {
              "outlinewidth": 0,
              "ticks": ""
             }
            },
            "type": "scattercarpet"
           }
          ],
          "scattergeo": [
           {
            "marker": {
             "colorbar": {
              "outlinewidth": 0,
              "ticks": ""
             }
            },
            "type": "scattergeo"
           }
          ],
          "scattergl": [
           {
            "marker": {
             "colorbar": {
              "outlinewidth": 0,
              "ticks": ""
             }
            },
            "type": "scattergl"
           }
          ],
          "scattermap": [
           {
            "marker": {
             "colorbar": {
              "outlinewidth": 0,
              "ticks": ""
             }
            },
            "type": "scattermap"
           }
          ],
          "scattermapbox": [
           {
            "marker": {
             "colorbar": {
              "outlinewidth": 0,
              "ticks": ""
             }
            },
            "type": "scattermapbox"
           }
          ],
          "scatterpolar": [
           {
            "marker": {
             "colorbar": {
              "outlinewidth": 0,
              "ticks": ""
             }
            },
            "type": "scatterpolar"
           }
          ],
          "scatterpolargl": [
           {
            "marker": {
             "colorbar": {
              "outlinewidth": 0,
              "ticks": ""
             }
            },
            "type": "scatterpolargl"
           }
          ],
          "scatterternary": [
           {
            "marker": {
             "colorbar": {
              "outlinewidth": 0,
              "ticks": ""
             }
            },
            "type": "scatterternary"
           }
          ],
          "surface": [
           {
            "colorbar": {
             "outlinewidth": 0,
             "ticks": ""
            },
            "colorscale": [
             [
              0,
              "#0d0887"
             ],
             [
              0.1111111111111111,
              "#46039f"
             ],
             [
              0.2222222222222222,
              "#7201a8"
             ],
             [
              0.3333333333333333,
              "#9c179e"
             ],
             [
              0.4444444444444444,
              "#bd3786"
             ],
             [
              0.5555555555555556,
              "#d8576b"
             ],
             [
              0.6666666666666666,
              "#ed7953"
             ],
             [
              0.7777777777777778,
              "#fb9f3a"
             ],
             [
              0.8888888888888888,
              "#fdca26"
             ],
             [
              1,
              "#f0f921"
             ]
            ],
            "type": "surface"
           }
          ],
          "table": [
           {
            "cells": {
             "fill": {
              "color": "#EBF0F8"
             },
             "line": {
              "color": "white"
             }
            },
            "header": {
             "fill": {
              "color": "#C8D4E3"
             },
             "line": {
              "color": "white"
             }
            },
            "type": "table"
           }
          ]
         },
         "layout": {
          "annotationdefaults": {
           "arrowcolor": "#2a3f5f",
           "arrowhead": 0,
           "arrowwidth": 1
          },
          "autotypenumbers": "strict",
          "coloraxis": {
           "colorbar": {
            "outlinewidth": 0,
            "ticks": ""
           }
          },
          "colorscale": {
           "diverging": [
            [
             0,
             "#8e0152"
            ],
            [
             0.1,
             "#c51b7d"
            ],
            [
             0.2,
             "#de77ae"
            ],
            [
             0.3,
             "#f1b6da"
            ],
            [
             0.4,
             "#fde0ef"
            ],
            [
             0.5,
             "#f7f7f7"
            ],
            [
             0.6,
             "#e6f5d0"
            ],
            [
             0.7,
             "#b8e186"
            ],
            [
             0.8,
             "#7fbc41"
            ],
            [
             0.9,
             "#4d9221"
            ],
            [
             1,
             "#276419"
            ]
           ],
           "sequential": [
            [
             0,
             "#0d0887"
            ],
            [
             0.1111111111111111,
             "#46039f"
            ],
            [
             0.2222222222222222,
             "#7201a8"
            ],
            [
             0.3333333333333333,
             "#9c179e"
            ],
            [
             0.4444444444444444,
             "#bd3786"
            ],
            [
             0.5555555555555556,
             "#d8576b"
            ],
            [
             0.6666666666666666,
             "#ed7953"
            ],
            [
             0.7777777777777778,
             "#fb9f3a"
            ],
            [
             0.8888888888888888,
             "#fdca26"
            ],
            [
             1,
             "#f0f921"
            ]
           ],
           "sequentialminus": [
            [
             0,
             "#0d0887"
            ],
            [
             0.1111111111111111,
             "#46039f"
            ],
            [
             0.2222222222222222,
             "#7201a8"
            ],
            [
             0.3333333333333333,
             "#9c179e"
            ],
            [
             0.4444444444444444,
             "#bd3786"
            ],
            [
             0.5555555555555556,
             "#d8576b"
            ],
            [
             0.6666666666666666,
             "#ed7953"
            ],
            [
             0.7777777777777778,
             "#fb9f3a"
            ],
            [
             0.8888888888888888,
             "#fdca26"
            ],
            [
             1,
             "#f0f921"
            ]
           ]
          },
          "colorway": [
           "#636efa",
           "#EF553B",
           "#00cc96",
           "#ab63fa",
           "#FFA15A",
           "#19d3f3",
           "#FF6692",
           "#B6E880",
           "#FF97FF",
           "#FECB52"
          ],
          "font": {
           "color": "#2a3f5f"
          },
          "geo": {
           "bgcolor": "white",
           "lakecolor": "white",
           "landcolor": "#E5ECF6",
           "showlakes": true,
           "showland": true,
           "subunitcolor": "white"
          },
          "hoverlabel": {
           "align": "left"
          },
          "hovermode": "closest",
          "mapbox": {
           "style": "light"
          },
          "paper_bgcolor": "white",
          "plot_bgcolor": "#E5ECF6",
          "polar": {
           "angularaxis": {
            "gridcolor": "white",
            "linecolor": "white",
            "ticks": ""
           },
           "bgcolor": "#E5ECF6",
           "radialaxis": {
            "gridcolor": "white",
            "linecolor": "white",
            "ticks": ""
           }
          },
          "scene": {
           "xaxis": {
            "backgroundcolor": "#E5ECF6",
            "gridcolor": "white",
            "gridwidth": 2,
            "linecolor": "white",
            "showbackground": true,
            "ticks": "",
            "zerolinecolor": "white"
           },
           "yaxis": {
            "backgroundcolor": "#E5ECF6",
            "gridcolor": "white",
            "gridwidth": 2,
            "linecolor": "white",
            "showbackground": true,
            "ticks": "",
            "zerolinecolor": "white"
           },
           "zaxis": {
            "backgroundcolor": "#E5ECF6",
            "gridcolor": "white",
            "gridwidth": 2,
            "linecolor": "white",
            "showbackground": true,
            "ticks": "",
            "zerolinecolor": "white"
           }
          },
          "shapedefaults": {
           "line": {
            "color": "#2a3f5f"
           }
          },
          "ternary": {
           "aaxis": {
            "gridcolor": "white",
            "linecolor": "white",
            "ticks": ""
           },
           "baxis": {
            "gridcolor": "white",
            "linecolor": "white",
            "ticks": ""
           },
           "bgcolor": "#E5ECF6",
           "caxis": {
            "gridcolor": "white",
            "linecolor": "white",
            "ticks": ""
           }
          },
          "title": {
           "x": 0.05
          },
          "xaxis": {
           "automargin": true,
           "gridcolor": "white",
           "linecolor": "white",
           "ticks": "",
           "title": {
            "standoff": 15
           },
           "zerolinecolor": "white",
           "zerolinewidth": 2
          },
          "yaxis": {
           "automargin": true,
           "gridcolor": "white",
           "linecolor": "white",
           "ticks": "",
           "title": {
            "standoff": 15
           },
           "zerolinecolor": "white",
           "zerolinewidth": 2
          }
         }
        },
        "title": {
         "text": "Daily Calories over time"
        }
       }
      }
     },
     "metadata": {},
     "output_type": "display_data"
    }
   ],
   "source": [
    "df = pd.read_csv('../data/myfitnesspal/cleaned/mfp_nutrition_cleaned.csv')\n",
    "print(df)\n",
    "\n",
    "df = df[df['missing_main_meal'] == False]\n",
    "daily_cal_df = df.groupby(['Date'])['Calories'].sum().reset_index()\n",
    "average_daily_cals = daily_cal_df['Calories'].mean()\n",
    "print(daily_cal_df)\n",
    "\n",
    "fig = go.Figure()\n",
    "\n",
    "x_data = daily_cal_df['Date']\n",
    "y_data = daily_cal_df['Calories']\n",
    "\n",
    "fig.add_trace(go.Bar(x=x_data,y=y_data))\n",
    "# fig.add_hline(y=average_daily_cals, line=dict(color='purple', dash='dash'),name ='Average Calories')\n",
    "\n",
    "fig.add_trace(\n",
    "    go.Scatter(\n",
    "        x=[df['Date'].min(), df['Date'].max()],\n",
    "        y=[average_daily_cals, average_daily_cals],\n",
    "        mode='lines',\n",
    "        line=dict(color='purple', dash='dash'),\n",
    "        name=f'Avg: {average_daily_cals:.0f} kcal'\n",
    "    )\n",
    ")\n",
    "fig.update_layout(title='Daily Calories over time')\n",
    "fig.show()"
   ]
  },
  {
   "cell_type": "code",
   "execution_count": 176,
   "id": "c108aba8",
   "metadata": {},
   "outputs": [
    {
     "name": "stdout",
     "output_type": "stream",
     "text": [
      "           Date  Calories  Protein (g)  Carbohydrates (g)  Fat (g)  \\\n",
      "0    2024-02-28     530.7         31.6               56.1     19.8   \n",
      "1    2024-02-29      47.4          3.1                4.1      2.0   \n",
      "2    2024-03-01     771.9         44.2               42.6     44.9   \n",
      "3    2024-03-02    1055.5         53.9              115.1     43.1   \n",
      "4    2024-03-07     560.2          4.8               39.2     17.0   \n",
      "..          ...       ...          ...                ...      ...   \n",
      "336  2025-06-26    1503.6        100.7              126.0     66.9   \n",
      "337  2025-06-27    1709.2         99.1              203.1     57.6   \n",
      "338  2025-06-28     761.4         38.4               82.0     33.5   \n",
      "339  2025-06-29    1468.4         57.1              142.6     75.0   \n",
      "340  2025-06-30     864.8         44.2               70.8     46.5   \n",
      "\n",
      "     Estimated Alcohol (g)  missing_main_meal  Meal  \n",
      "0                 0.000000               True     1  \n",
      "1                 0.000000               True     1  \n",
      "2                 0.000000               True     2  \n",
      "3                 0.000000               True     2  \n",
      "4                33.214286               True     2  \n",
      "..                     ...                ...   ...  \n",
      "336               0.000000              False     4  \n",
      "337               0.000000              False     3  \n",
      "338               0.000000              False     2  \n",
      "339               0.000000              False     4  \n",
      "340               0.000000               True     3  \n",
      "\n",
      "[341 rows x 8 columns]\n",
      "           Date  Calories  Protein (g)  Carbohydrates (g)  Fat (g)  \\\n",
      "6    2024-03-19    1203.9         71.9              128.2     49.2   \n",
      "15   2024-06-02    1430.1        112.4              104.3     67.8   \n",
      "16   2024-06-03    1497.6        117.4              170.4     43.5   \n",
      "17   2024-06-04    1146.9        104.9               70.4     50.9   \n",
      "18   2024-06-05    1529.6        119.9              109.9     70.8   \n",
      "..          ...       ...          ...                ...      ...   \n",
      "335  2025-06-25    1542.5        104.0              136.1     66.4   \n",
      "336  2025-06-26    1503.6        100.7              126.0     66.9   \n",
      "337  2025-06-27    1709.2         99.1              203.1     57.6   \n",
      "338  2025-06-28     761.4         38.4               82.0     33.5   \n",
      "339  2025-06-29    1468.4         57.1              142.6     75.0   \n",
      "\n",
      "     Estimated Alcohol (g)  missing_main_meal  Meal  \n",
      "6                      0.0              False     2  \n",
      "15                     0.0              False     4  \n",
      "16                     0.0              False     4  \n",
      "17                     0.0              False     3  \n",
      "18                     0.0              False     4  \n",
      "..                     ...                ...   ...  \n",
      "335                    0.0              False     4  \n",
      "336                    0.0              False     4  \n",
      "337                    0.0              False     3  \n",
      "338                    0.0              False     2  \n",
      "339                    0.0              False     4  \n",
      "\n",
      "[280 rows x 8 columns]\n"
     ]
    },
    {
     "data": {
      "application/vnd.plotly.v1+json": {
       "config": {
        "plotlyServerURL": "https://plot.ly"
       },
       "data": [
        {
         "type": "bar",
         "x": [
          "2024-03-19",
          "2024-06-02",
          "2024-06-03",
          "2024-06-04",
          "2024-06-05",
          "2024-06-06",
          "2024-06-07",
          "2024-06-09",
          "2024-06-10",
          "2024-06-11",
          "2024-06-12",
          "2024-06-13",
          "2024-06-14",
          "2024-06-15",
          "2024-06-16",
          "2024-06-17",
          "2024-06-18",
          "2024-06-19",
          "2024-06-20",
          "2024-06-22",
          "2024-06-23",
          "2024-06-24",
          "2024-06-25",
          "2024-06-26",
          "2024-06-27",
          "2024-06-28",
          "2024-06-29",
          "2024-06-30",
          "2024-07-01",
          "2024-07-02",
          "2024-07-03",
          "2024-07-04",
          "2024-07-05",
          "2024-07-06",
          "2024-07-07",
          "2024-07-08",
          "2024-07-09",
          "2024-07-10",
          "2024-07-11",
          "2024-07-12",
          "2024-07-13",
          "2024-07-14",
          "2024-07-15",
          "2024-07-16",
          "2024-07-17",
          "2024-07-18",
          "2024-07-19",
          "2024-07-20",
          "2024-07-21",
          "2024-07-22",
          "2024-07-23",
          "2024-07-24",
          "2024-07-25",
          "2024-07-28",
          "2024-07-29",
          "2024-07-31",
          "2024-08-01",
          "2024-08-05",
          "2024-08-06",
          "2024-08-07",
          "2024-08-08",
          "2024-08-09",
          "2024-08-10",
          "2024-08-11",
          "2024-08-12",
          "2024-08-13",
          "2024-08-15",
          "2024-08-17",
          "2024-08-18",
          "2024-08-19",
          "2024-08-21",
          "2024-09-03",
          "2024-09-23",
          "2024-10-28",
          "2024-10-29",
          "2024-10-30",
          "2024-10-31",
          "2024-11-01",
          "2024-11-02",
          "2024-11-03",
          "2024-11-04",
          "2024-11-05",
          "2024-11-06",
          "2024-11-07",
          "2024-11-08",
          "2024-11-09",
          "2024-11-10",
          "2024-11-11",
          "2024-11-12",
          "2024-11-13",
          "2024-11-18",
          "2024-11-20",
          "2024-11-21",
          "2024-11-22",
          "2024-11-23",
          "2024-12-02",
          "2024-12-03",
          "2024-12-04",
          "2024-12-05",
          "2024-12-06",
          "2024-12-07",
          "2024-12-08",
          "2024-12-09",
          "2024-12-12",
          "2024-12-13",
          "2024-12-14",
          "2024-12-15",
          "2024-12-16",
          "2024-12-17",
          "2024-12-18",
          "2024-12-19",
          "2024-12-20",
          "2024-12-21",
          "2024-12-22",
          "2024-12-23",
          "2025-01-02",
          "2025-01-03",
          "2025-01-04",
          "2025-01-05",
          "2025-01-06",
          "2025-01-07",
          "2025-01-08",
          "2025-01-09",
          "2025-01-10",
          "2025-01-11",
          "2025-01-12",
          "2025-01-13",
          "2025-01-15",
          "2025-01-16",
          "2025-01-17",
          "2025-01-18",
          "2025-01-19",
          "2025-01-20",
          "2025-01-21",
          "2025-01-22",
          "2025-01-23",
          "2025-01-24",
          "2025-01-25",
          "2025-01-26",
          "2025-01-27",
          "2025-01-28",
          "2025-01-29",
          "2025-01-30",
          "2025-01-31",
          "2025-02-01",
          "2025-02-02",
          "2025-02-03",
          "2025-02-04",
          "2025-02-05",
          "2025-02-06",
          "2025-02-07",
          "2025-02-08",
          "2025-02-09",
          "2025-02-10",
          "2025-02-11",
          "2025-02-12",
          "2025-02-13",
          "2025-02-14",
          "2025-02-15",
          "2025-02-16",
          "2025-02-17",
          "2025-02-18",
          "2025-02-19",
          "2025-02-20",
          "2025-02-21",
          "2025-02-22",
          "2025-02-23",
          "2025-02-24",
          "2025-02-25",
          "2025-02-26",
          "2025-02-27",
          "2025-02-28",
          "2025-03-01",
          "2025-03-02",
          "2025-03-03",
          "2025-03-04",
          "2025-03-05",
          "2025-03-06",
          "2025-03-07",
          "2025-03-08",
          "2025-03-09",
          "2025-03-10",
          "2025-03-11",
          "2025-03-12",
          "2025-03-13",
          "2025-03-14",
          "2025-03-15",
          "2025-03-16",
          "2025-03-17",
          "2025-03-18",
          "2025-03-19",
          "2025-03-20",
          "2025-03-21",
          "2025-03-22",
          "2025-03-23",
          "2025-03-24",
          "2025-03-25",
          "2025-03-26",
          "2025-03-27",
          "2025-03-28",
          "2025-03-29",
          "2025-03-30",
          "2025-03-31",
          "2025-04-01",
          "2025-04-02",
          "2025-04-03",
          "2025-04-04",
          "2025-04-05",
          "2025-04-06",
          "2025-04-07",
          "2025-04-08",
          "2025-04-09",
          "2025-04-10",
          "2025-04-11",
          "2025-04-12",
          "2025-04-13",
          "2025-04-14",
          "2025-04-15",
          "2025-04-16",
          "2025-04-17",
          "2025-04-18",
          "2025-04-20",
          "2025-04-21",
          "2025-04-22",
          "2025-04-23",
          "2025-04-24",
          "2025-04-25",
          "2025-04-26",
          "2025-04-27",
          "2025-04-28",
          "2025-04-29",
          "2025-04-30",
          "2025-05-01",
          "2025-05-02",
          "2025-05-06",
          "2025-05-07",
          "2025-05-08",
          "2025-05-09",
          "2025-05-10",
          "2025-05-11",
          "2025-05-12",
          "2025-05-13",
          "2025-05-14",
          "2025-05-15",
          "2025-05-16",
          "2025-05-17",
          "2025-05-18",
          "2025-05-19",
          "2025-05-20",
          "2025-05-21",
          "2025-05-22",
          "2025-05-23",
          "2025-05-24",
          "2025-05-25",
          "2025-05-26",
          "2025-05-27",
          "2025-05-28",
          "2025-05-29",
          "2025-05-30",
          "2025-05-31",
          "2025-06-01",
          "2025-06-02",
          "2025-06-03",
          "2025-06-04",
          "2025-06-05",
          "2025-06-06",
          "2025-06-07",
          "2025-06-08",
          "2025-06-09",
          "2025-06-10",
          "2025-06-11",
          "2025-06-12",
          "2025-06-13",
          "2025-06-23",
          "2025-06-24",
          "2025-06-25",
          "2025-06-26",
          "2025-06-27",
          "2025-06-28",
          "2025-06-29"
         ],
         "y": {
          "bdata": "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",
          "dtype": "f8"
         }
        },
        {
         "line": {
          "color": "purple",
          "dash": "dash"
         },
         "mode": "lines",
         "name": "Avg: 1410 kcal",
         "type": "scatter",
         "x": [
          "2024-03-19",
          "2025-06-29"
         ],
         "y": [
          1409.9135714285715,
          1409.9135714285715
         ]
        }
       ],
       "layout": {
        "shapes": [
         {
          "line": {
           "color": "purple",
           "dash": "dash"
          },
          "name": "Average Calories",
          "type": "line",
          "x0": 0,
          "x1": 1,
          "xref": "x domain",
          "y0": 1409.9135714285715,
          "y1": 1409.9135714285715,
          "yref": "y"
         }
        ],
        "template": {
         "data": {
          "bar": [
           {
            "error_x": {
             "color": "#2a3f5f"
            },
            "error_y": {
             "color": "#2a3f5f"
            },
            "marker": {
             "line": {
              "color": "#E5ECF6",
              "width": 0.5
             },
             "pattern": {
              "fillmode": "overlay",
              "size": 10,
              "solidity": 0.2
             }
            },
            "type": "bar"
           }
          ],
          "barpolar": [
           {
            "marker": {
             "line": {
              "color": "#E5ECF6",
              "width": 0.5
             },
             "pattern": {
              "fillmode": "overlay",
              "size": 10,
              "solidity": 0.2
             }
            },
            "type": "barpolar"
           }
          ],
          "carpet": [
           {
            "aaxis": {
             "endlinecolor": "#2a3f5f",
             "gridcolor": "white",
             "linecolor": "white",
             "minorgridcolor": "white",
             "startlinecolor": "#2a3f5f"
            },
            "baxis": {
             "endlinecolor": "#2a3f5f",
             "gridcolor": "white",
             "linecolor": "white",
             "minorgridcolor": "white",
             "startlinecolor": "#2a3f5f"
            },
            "type": "carpet"
           }
          ],
          "choropleth": [
           {
            "colorbar": {
             "outlinewidth": 0,
             "ticks": ""
            },
            "type": "choropleth"
           }
          ],
          "contour": [
           {
            "colorbar": {
             "outlinewidth": 0,
             "ticks": ""
            },
            "colorscale": [
             [
              0,
              "#0d0887"
             ],
             [
              0.1111111111111111,
              "#46039f"
             ],
             [
              0.2222222222222222,
              "#7201a8"
             ],
             [
              0.3333333333333333,
              "#9c179e"
             ],
             [
              0.4444444444444444,
              "#bd3786"
             ],
             [
              0.5555555555555556,
              "#d8576b"
             ],
             [
              0.6666666666666666,
              "#ed7953"
             ],
             [
              0.7777777777777778,
              "#fb9f3a"
             ],
             [
              0.8888888888888888,
              "#fdca26"
             ],
             [
              1,
              "#f0f921"
             ]
            ],
            "type": "contour"
           }
          ],
          "contourcarpet": [
           {
            "colorbar": {
             "outlinewidth": 0,
             "ticks": ""
            },
            "type": "contourcarpet"
           }
          ],
          "heatmap": [
           {
            "colorbar": {
             "outlinewidth": 0,
             "ticks": ""
            },
            "colorscale": [
             [
              0,
              "#0d0887"
             ],
             [
              0.1111111111111111,
              "#46039f"
             ],
             [
              0.2222222222222222,
              "#7201a8"
             ],
             [
              0.3333333333333333,
              "#9c179e"
             ],
             [
              0.4444444444444444,
              "#bd3786"
             ],
             [
              0.5555555555555556,
              "#d8576b"
             ],
             [
              0.6666666666666666,
              "#ed7953"
             ],
             [
              0.7777777777777778,
              "#fb9f3a"
             ],
             [
              0.8888888888888888,
              "#fdca26"
             ],
             [
              1,
              "#f0f921"
             ]
            ],
            "type": "heatmap"
           }
          ],
          "histogram": [
           {
            "marker": {
             "pattern": {
              "fillmode": "overlay",
              "size": 10,
              "solidity": 0.2
             }
            },
            "type": "histogram"
           }
          ],
          "histogram2d": [
           {
            "colorbar": {
             "outlinewidth": 0,
             "ticks": ""
            },
            "colorscale": [
             [
              0,
              "#0d0887"
             ],
             [
              0.1111111111111111,
              "#46039f"
             ],
             [
              0.2222222222222222,
              "#7201a8"
             ],
             [
              0.3333333333333333,
              "#9c179e"
             ],
             [
              0.4444444444444444,
              "#bd3786"
             ],
             [
              0.5555555555555556,
              "#d8576b"
             ],
             [
              0.6666666666666666,
              "#ed7953"
             ],
             [
              0.7777777777777778,
              "#fb9f3a"
             ],
             [
              0.8888888888888888,
              "#fdca26"
             ],
             [
              1,
              "#f0f921"
             ]
            ],
            "type": "histogram2d"
           }
          ],
          "histogram2dcontour": [
           {
            "colorbar": {
             "outlinewidth": 0,
             "ticks": ""
            },
            "colorscale": [
             [
              0,
              "#0d0887"
             ],
             [
              0.1111111111111111,
              "#46039f"
             ],
             [
              0.2222222222222222,
              "#7201a8"
             ],
             [
              0.3333333333333333,
              "#9c179e"
             ],
             [
              0.4444444444444444,
              "#bd3786"
             ],
             [
              0.5555555555555556,
              "#d8576b"
             ],
             [
              0.6666666666666666,
              "#ed7953"
             ],
             [
              0.7777777777777778,
              "#fb9f3a"
             ],
             [
              0.8888888888888888,
              "#fdca26"
             ],
             [
              1,
              "#f0f921"
             ]
            ],
            "type": "histogram2dcontour"
           }
          ],
          "mesh3d": [
           {
            "colorbar": {
             "outlinewidth": 0,
             "ticks": ""
            },
            "type": "mesh3d"
           }
          ],
          "parcoords": [
           {
            "line": {
             "colorbar": {
              "outlinewidth": 0,
              "ticks": ""
             }
            },
            "type": "parcoords"
           }
          ],
          "pie": [
           {
            "automargin": true,
            "type": "pie"
           }
          ],
          "scatter": [
           {
            "fillpattern": {
             "fillmode": "overlay",
             "size": 10,
             "solidity": 0.2
            },
            "type": "scatter"
           }
          ],
          "scatter3d": [
           {
            "line": {
             "colorbar": {
              "outlinewidth": 0,
              "ticks": ""
             }
            },
            "marker": {
             "colorbar": {
              "outlinewidth": 0,
              "ticks": ""
             }
            },
            "type": "scatter3d"
           }
          ],
          "scattercarpet": [
           {
            "marker": {
             "colorbar": {
              "outlinewidth": 0,
              "ticks": ""
             }
            },
            "type": "scattercarpet"
           }
          ],
          "scattergeo": [
           {
            "marker": {
             "colorbar": {
              "outlinewidth": 0,
              "ticks": ""
             }
            },
            "type": "scattergeo"
           }
          ],
          "scattergl": [
           {
            "marker": {
             "colorbar": {
              "outlinewidth": 0,
              "ticks": ""
             }
            },
            "type": "scattergl"
           }
          ],
          "scattermap": [
           {
            "marker": {
             "colorbar": {
              "outlinewidth": 0,
              "ticks": ""
             }
            },
            "type": "scattermap"
           }
          ],
          "scattermapbox": [
           {
            "marker": {
             "colorbar": {
              "outlinewidth": 0,
              "ticks": ""
             }
            },
            "type": "scattermapbox"
           }
          ],
          "scatterpolar": [
           {
            "marker": {
             "colorbar": {
              "outlinewidth": 0,
              "ticks": ""
             }
            },
            "type": "scatterpolar"
           }
          ],
          "scatterpolargl": [
           {
            "marker": {
             "colorbar": {
              "outlinewidth": 0,
              "ticks": ""
             }
            },
            "type": "scatterpolargl"
           }
          ],
          "scatterternary": [
           {
            "marker": {
             "colorbar": {
              "outlinewidth": 0,
              "ticks": ""
             }
            },
            "type": "scatterternary"
           }
          ],
          "surface": [
           {
            "colorbar": {
             "outlinewidth": 0,
             "ticks": ""
            },
            "colorscale": [
             [
              0,
              "#0d0887"
             ],
             [
              0.1111111111111111,
              "#46039f"
             ],
             [
              0.2222222222222222,
              "#7201a8"
             ],
             [
              0.3333333333333333,
              "#9c179e"
             ],
             [
              0.4444444444444444,
              "#bd3786"
             ],
             [
              0.5555555555555556,
              "#d8576b"
             ],
             [
              0.6666666666666666,
              "#ed7953"
             ],
             [
              0.7777777777777778,
              "#fb9f3a"
             ],
             [
              0.8888888888888888,
              "#fdca26"
             ],
             [
              1,
              "#f0f921"
             ]
            ],
            "type": "surface"
           }
          ],
          "table": [
           {
            "cells": {
             "fill": {
              "color": "#EBF0F8"
             },
             "line": {
              "color": "white"
             }
            },
            "header": {
             "fill": {
              "color": "#C8D4E3"
             },
             "line": {
              "color": "white"
             }
            },
            "type": "table"
           }
          ]
         },
         "layout": {
          "annotationdefaults": {
           "arrowcolor": "#2a3f5f",
           "arrowhead": 0,
           "arrowwidth": 1
          },
          "autotypenumbers": "strict",
          "coloraxis": {
           "colorbar": {
            "outlinewidth": 0,
            "ticks": ""
           }
          },
          "colorscale": {
           "diverging": [
            [
             0,
             "#8e0152"
            ],
            [
             0.1,
             "#c51b7d"
            ],
            [
             0.2,
             "#de77ae"
            ],
            [
             0.3,
             "#f1b6da"
            ],
            [
             0.4,
             "#fde0ef"
            ],
            [
             0.5,
             "#f7f7f7"
            ],
            [
             0.6,
             "#e6f5d0"
            ],
            [
             0.7,
             "#b8e186"
            ],
            [
             0.8,
             "#7fbc41"
            ],
            [
             0.9,
             "#4d9221"
            ],
            [
             1,
             "#276419"
            ]
           ],
           "sequential": [
            [
             0,
             "#0d0887"
            ],
            [
             0.1111111111111111,
             "#46039f"
            ],
            [
             0.2222222222222222,
             "#7201a8"
            ],
            [
             0.3333333333333333,
             "#9c179e"
            ],
            [
             0.4444444444444444,
             "#bd3786"
            ],
            [
             0.5555555555555556,
             "#d8576b"
            ],
            [
             0.6666666666666666,
             "#ed7953"
            ],
            [
             0.7777777777777778,
             "#fb9f3a"
            ],
            [
             0.8888888888888888,
             "#fdca26"
            ],
            [
             1,
             "#f0f921"
            ]
           ],
           "sequentialminus": [
            [
             0,
             "#0d0887"
            ],
            [
             0.1111111111111111,
             "#46039f"
            ],
            [
             0.2222222222222222,
             "#7201a8"
            ],
            [
             0.3333333333333333,
             "#9c179e"
            ],
            [
             0.4444444444444444,
             "#bd3786"
            ],
            [
             0.5555555555555556,
             "#d8576b"
            ],
            [
             0.6666666666666666,
             "#ed7953"
            ],
            [
             0.7777777777777778,
             "#fb9f3a"
            ],
            [
             0.8888888888888888,
             "#fdca26"
            ],
            [
             1,
             "#f0f921"
            ]
           ]
          },
          "colorway": [
           "#636efa",
           "#EF553B",
           "#00cc96",
           "#ab63fa",
           "#FFA15A",
           "#19d3f3",
           "#FF6692",
           "#B6E880",
           "#FF97FF",
           "#FECB52"
          ],
          "font": {
           "color": "#2a3f5f"
          },
          "geo": {
           "bgcolor": "white",
           "lakecolor": "white",
           "landcolor": "#E5ECF6",
           "showlakes": true,
           "showland": true,
           "subunitcolor": "white"
          },
          "hoverlabel": {
           "align": "left"
          },
          "hovermode": "closest",
          "mapbox": {
           "style": "light"
          },
          "paper_bgcolor": "white",
          "plot_bgcolor": "#E5ECF6",
          "polar": {
           "angularaxis": {
            "gridcolor": "white",
            "linecolor": "white",
            "ticks": ""
           },
           "bgcolor": "#E5ECF6",
           "radialaxis": {
            "gridcolor": "white",
            "linecolor": "white",
            "ticks": ""
           }
          },
          "scene": {
           "xaxis": {
            "backgroundcolor": "#E5ECF6",
            "gridcolor": "white",
            "gridwidth": 2,
            "linecolor": "white",
            "showbackground": true,
            "ticks": "",
            "zerolinecolor": "white"
           },
           "yaxis": {
            "backgroundcolor": "#E5ECF6",
            "gridcolor": "white",
            "gridwidth": 2,
            "linecolor": "white",
            "showbackground": true,
            "ticks": "",
            "zerolinecolor": "white"
           },
           "zaxis": {
            "backgroundcolor": "#E5ECF6",
            "gridcolor": "white",
            "gridwidth": 2,
            "linecolor": "white",
            "showbackground": true,
            "ticks": "",
            "zerolinecolor": "white"
           }
          },
          "shapedefaults": {
           "line": {
            "color": "#2a3f5f"
           }
          },
          "ternary": {
           "aaxis": {
            "gridcolor": "white",
            "linecolor": "white",
            "ticks": ""
           },
           "baxis": {
            "gridcolor": "white",
            "linecolor": "white",
            "ticks": ""
           },
           "bgcolor": "#E5ECF6",
           "caxis": {
            "gridcolor": "white",
            "linecolor": "white",
            "ticks": ""
           }
          },
          "title": {
           "x": 0.05
          },
          "xaxis": {
           "automargin": true,
           "gridcolor": "white",
           "linecolor": "white",
           "ticks": "",
           "title": {
            "standoff": 15
           },
           "zerolinecolor": "white",
           "zerolinewidth": 2
          },
          "yaxis": {
           "automargin": true,
           "gridcolor": "white",
           "linecolor": "white",
           "ticks": "",
           "title": {
            "standoff": 15
           },
           "zerolinecolor": "white",
           "zerolinewidth": 2
          }
         }
        }
       }
      }
     },
     "metadata": {},
     "output_type": "display_data"
    }
   ],
   "source": [
    "df_daily = pd.read_csv('../data/myfitnesspal/cleaned/mfp_nutrition_daily.csv')\n",
    "print(df_daily)\n",
    "\n",
    "df_daily = df_daily[df_daily['missing_main_meal'] == False]\n",
    "average_daily_cals = df_daily['Calories'].mean()\n",
    "print(df_daily)\n",
    "fig = go.Figure()\n",
    "x_data = df_daily['Date']\n",
    "y_data = df_daily['Calories']\n",
    "\n",
    "fig.add_trace(go.Bar(x=x_data,y=y_data))\n",
    "fig.add_hline(y=average_daily_cals, line=dict(color='purple', dash='dash'),name ='Average Calories')\n",
    "\n",
    "fig.add_trace(\n",
    "    go.Scatter(\n",
    "        x=[df_daily['Date'].min(), df_daily['Date'].max()],\n",
    "        y=[average_daily_cals, average_daily_cals],\n",
    "        mode='lines',\n",
    "        line=dict(color='purple', dash='dash'),\n",
    "        name=f'Avg: {average_daily_cals:.0f} kcal'\n",
    "    )\n",
    ")\n",
    "fig.show()"
   ]
  },
  {
   "cell_type": "markdown",
   "id": "0c30f145",
   "metadata": {},
   "source": [
    "# Calculating maintenance calories throughout the time period, based on weight in kg\n",
    "\n",
    "</br> Mifflin-St Jeor Equation, ref: https://www.calculator.net/calorie-calculator.html\n",
    "</br> BMR = 10W + 6.25H - 5A -161\n",
    "</br> W = weight in Kg, H = heigh in cm, A = age\n"
   ]
  },
  {
   "cell_type": "code",
   "execution_count": 177,
   "id": "8b8a489d",
   "metadata": {},
   "outputs": [
    {
     "name": "stdout",
     "output_type": "stream",
     "text": [
      "           Date     Weight  Daily_change  weekly_avg_weight  weekly_loss  \\\n",
      "0    2024-02-26  96.600000           NaN                NaN          NaN   \n",
      "1    2024-02-27  96.600000      0.000000                NaN          NaN   \n",
      "2    2024-02-28  96.233333     -0.366667                NaN          NaN   \n",
      "3    2024-02-29  95.866667     -0.366667                NaN          NaN   \n",
      "4    2024-03-01  95.500000     -0.366667                NaN          NaN   \n",
      "..          ...        ...           ...                ...          ...   \n",
      "486  2025-06-26  68.300000      0.500000                NaN          NaN   \n",
      "487  2025-06-27  67.100000     -1.200000                NaN          NaN   \n",
      "488  2025-06-28  67.566667      0.466667                NaN          NaN   \n",
      "489  2025-06-29  68.033333      0.466667          68.014286    -0.565714   \n",
      "490  2025-06-30  68.500000      0.466667                NaN          NaN   \n",
      "\n",
      "     Weight lbs  Daily_change lbs  weekly_avg_weight lbs  weekly_loss lbs  \n",
      "0    212.966545               NaN                    NaN              NaN  \n",
      "1    212.966545          0.000000                    NaN              NaN  \n",
      "2    212.158184         -0.808362                    NaN              NaN  \n",
      "3    211.349822         -0.808362                    NaN              NaN  \n",
      "4    210.541460         -0.808362                    NaN              NaN  \n",
      "..          ...               ...                    ...              ...  \n",
      "486  150.575725          1.102311                    NaN              NaN  \n",
      "487  147.930178         -2.645547                    NaN              NaN  \n",
      "488  148.959002          1.028824                    NaN              NaN  \n",
      "489  149.987826          1.028824             149.945833        -1.247187  \n",
      "490  151.016650          1.028824                    NaN              NaN  \n",
      "\n",
      "[491 rows x 9 columns]\n",
      "          Date     Weight  Daily_change  weekly_avg_weight  weekly_loss  \\\n",
      "0   2024-02-26  96.600000           NaN                NaN          NaN   \n",
      "1   2024-02-27  96.600000      0.000000                NaN          NaN   \n",
      "2   2024-02-28  96.233333     -0.366667                NaN          NaN   \n",
      "3   2024-02-29  95.866667     -0.366667                NaN          NaN   \n",
      "4   2024-03-01  95.500000     -0.366667                NaN          NaN   \n",
      "..         ...        ...           ...                ...          ...   \n",
      "486 2025-06-26  68.300000      0.500000                NaN          NaN   \n",
      "487 2025-06-27  67.100000     -1.200000                NaN          NaN   \n",
      "488 2025-06-28  67.566667      0.466667                NaN          NaN   \n",
      "489 2025-06-29  68.033333      0.466667          68.014286    -0.565714   \n",
      "490 2025-06-30  68.500000      0.466667                NaN          NaN   \n",
      "\n",
      "     Weight lbs  Daily_change lbs  weekly_avg_weight lbs  weekly_loss lbs  \\\n",
      "0    212.966545               NaN                    NaN              NaN   \n",
      "1    212.966545          0.000000                    NaN              NaN   \n",
      "2    212.158184         -0.808362                    NaN              NaN   \n",
      "3    211.349822         -0.808362                    NaN              NaN   \n",
      "4    210.541460         -0.808362                    NaN              NaN   \n",
      "..          ...               ...                    ...              ...   \n",
      "486  150.575725          1.102311                    NaN              NaN   \n",
      "487  147.930178         -2.645547                    NaN              NaN   \n",
      "488  148.959002          1.028824                    NaN              NaN   \n",
      "489  149.987826          1.028824             149.945833        -1.247187   \n",
      "490  151.016650          1.028824                    NaN              NaN   \n",
      "\n",
      "     age          bmr  \n",
      "0     24  1716.250000  \n",
      "1     24  1716.250000  \n",
      "2     24  1712.583333  \n",
      "3     24  1708.916667  \n",
      "4     24  1705.250000  \n",
      "..   ...          ...  \n",
      "486   26  1423.250000  \n",
      "487   26  1411.250000  \n",
      "488   26  1415.916667  \n",
      "489   26  1420.583333  \n",
      "490   26  1425.250000  \n",
      "\n",
      "[491 rows x 11 columns]\n"
     ]
    }
   ],
   "source": [
    "weight_df = pd.read_csv('../data/myfitnesspal/cleaned/mfp_measurements_cleaned.csv')\n",
    "print(weight_df)\n",
    "\n",
    "# Creating a column to calculate my maintenance calories at each weight\n",
    "# Assuming a sedentary lifestyle throughout\n",
    "\n",
    "weight_df['Date'] = pd.to_datetime(weight_df['Date'],format='%Y-%m-%d')\n",
    "\n",
    "height_cm = 165\n",
    "def calculating_bmr(df,height_cm):\n",
    "    birth_date = pd.to_datetime('1999-05-05')\n",
    "    df['age'] = (df['Date'] - birth_date).dt.days // 365\n",
    "    df['bmr'] = (10 * (df['Weight'])) + (6.25 * (height_cm)) - (5 * (df['age'])) - 161\n",
    "    return df\n",
    "        \n",
    "weight_df = calculating_bmr(weight_df,height_cm)\n",
    "\n",
    "print(weight_df)  \n"
   ]
  },
  {
   "cell_type": "markdown",
   "id": "09b7f34f",
   "metadata": {},
   "source": [
    "## Exploring calorie deficit vs weight, we can drop all days where there are no calorie inputs\n"
   ]
  },
  {
   "cell_type": "code",
   "execution_count": 178,
   "id": "7ecda579",
   "metadata": {},
   "outputs": [
    {
     "name": "stdout",
     "output_type": "stream",
     "text": [
      "           Date  Calories  Protein (g)  Carbohydrates (g)  Fat (g)  \\\n",
      "6    2024-03-19    1203.9         71.9              128.2     49.2   \n",
      "15   2024-06-02    1430.1        112.4              104.3     67.8   \n",
      "16   2024-06-03    1497.6        117.4              170.4     43.5   \n",
      "17   2024-06-04    1146.9        104.9               70.4     50.9   \n",
      "18   2024-06-05    1529.6        119.9              109.9     70.8   \n",
      "..          ...       ...          ...                ...      ...   \n",
      "335  2025-06-25    1542.5        104.0              136.1     66.4   \n",
      "336  2025-06-26    1503.6        100.7              126.0     66.9   \n",
      "337  2025-06-27    1709.2         99.1              203.1     57.6   \n",
      "338  2025-06-28     761.4         38.4               82.0     33.5   \n",
      "339  2025-06-29    1468.4         57.1              142.6     75.0   \n",
      "\n",
      "     Estimated Alcohol (g)  missing_main_meal  Meal  \n",
      "6                      0.0              False     2  \n",
      "15                     0.0              False     4  \n",
      "16                     0.0              False     4  \n",
      "17                     0.0              False     3  \n",
      "18                     0.0              False     4  \n",
      "..                     ...                ...   ...  \n",
      "335                    0.0              False     4  \n",
      "336                    0.0              False     4  \n",
      "337                    0.0              False     3  \n",
      "338                    0.0              False     2  \n",
      "339                    0.0              False     4  \n",
      "\n",
      "[280 rows x 8 columns]\n",
      "          Date     Weight  Daily_change  weekly_avg_weight  weekly_loss  \\\n",
      "0   2024-02-26  96.600000           NaN                NaN          NaN   \n",
      "1   2024-02-27  96.600000      0.000000                NaN          NaN   \n",
      "2   2024-02-28  96.233333     -0.366667                NaN          NaN   \n",
      "3   2024-02-29  95.866667     -0.366667                NaN          NaN   \n",
      "4   2024-03-01  95.500000     -0.366667                NaN          NaN   \n",
      "..         ...        ...           ...                ...          ...   \n",
      "486 2025-06-26  68.300000      0.500000                NaN          NaN   \n",
      "487 2025-06-27  67.100000     -1.200000                NaN          NaN   \n",
      "488 2025-06-28  67.566667      0.466667                NaN          NaN   \n",
      "489 2025-06-29  68.033333      0.466667          68.014286    -0.565714   \n",
      "490 2025-06-30  68.500000      0.466667                NaN          NaN   \n",
      "\n",
      "     Weight lbs  Daily_change lbs  weekly_avg_weight lbs  weekly_loss lbs  \\\n",
      "0    212.966545               NaN                    NaN              NaN   \n",
      "1    212.966545          0.000000                    NaN              NaN   \n",
      "2    212.158184         -0.808362                    NaN              NaN   \n",
      "3    211.349822         -0.808362                    NaN              NaN   \n",
      "4    210.541460         -0.808362                    NaN              NaN   \n",
      "..          ...               ...                    ...              ...   \n",
      "486  150.575725          1.102311                    NaN              NaN   \n",
      "487  147.930178         -2.645547                    NaN              NaN   \n",
      "488  148.959002          1.028824                    NaN              NaN   \n",
      "489  149.987826          1.028824             149.945833        -1.247187   \n",
      "490  151.016650          1.028824                    NaN              NaN   \n",
      "\n",
      "     age          bmr  \n",
      "0     24  1716.250000  \n",
      "1     24  1716.250000  \n",
      "2     24  1712.583333  \n",
      "3     24  1708.916667  \n",
      "4     24  1705.250000  \n",
      "..   ...          ...  \n",
      "486   26  1423.250000  \n",
      "487   26  1411.250000  \n",
      "488   26  1415.916667  \n",
      "489   26  1420.583333  \n",
      "490   26  1425.250000  \n",
      "\n",
      "[491 rows x 11 columns]\n",
      "          Date  Calories  Protein (g)  Carbohydrates (g)  Fat (g)  \\\n",
      "0   2024-03-19    1203.9         71.9              128.2     49.2   \n",
      "1   2024-06-02    1430.1        112.4              104.3     67.8   \n",
      "2   2024-06-03    1497.6        117.4              170.4     43.5   \n",
      "3   2024-06-04    1146.9        104.9               70.4     50.9   \n",
      "4   2024-06-05    1529.6        119.9              109.9     70.8   \n",
      "..         ...       ...          ...                ...      ...   \n",
      "275 2025-06-25    1542.5        104.0              136.1     66.4   \n",
      "276 2025-06-26    1503.6        100.7              126.0     66.9   \n",
      "277 2025-06-27    1709.2         99.1              203.1     57.6   \n",
      "278 2025-06-28     761.4         38.4               82.0     33.5   \n",
      "279 2025-06-29    1468.4         57.1              142.6     75.0   \n",
      "\n",
      "     Estimated Alcohol (g)  missing_main_meal  Meal     Weight  Daily_change  \\\n",
      "0                      0.0              False     2  93.600000     -0.015385   \n",
      "1                      0.0              False     4  90.070000      0.010000   \n",
      "2                      0.0              False     4  90.080000      0.010000   \n",
      "3                      0.0              False     3  90.090000      0.010000   \n",
      "4                      0.0              False     4  90.100000      0.010000   \n",
      "..                     ...                ...   ...        ...           ...   \n",
      "275                    0.0              False     4  67.800000     -0.400000   \n",
      "276                    0.0              False     4  68.300000      0.500000   \n",
      "277                    0.0              False     3  67.100000     -1.200000   \n",
      "278                    0.0              False     2  67.566667      0.466667   \n",
      "279                    0.0              False     4  68.033333      0.466667   \n",
      "\n",
      "     weekly_avg_weight  weekly_loss  Weight lbs  Daily_change lbs  \\\n",
      "0                  NaN          NaN  206.352677         -0.033917   \n",
      "1            90.040000    -0.431429  198.570360          0.022046   \n",
      "2                  NaN          NaN  198.592406          0.022046   \n",
      "3                  NaN          NaN  198.614452          0.022046   \n",
      "4                  NaN          NaN  198.636498          0.022046   \n",
      "..                 ...          ...         ...               ...   \n",
      "275                NaN          NaN  149.473414         -0.881849   \n",
      "276                NaN          NaN  150.575725          1.102311   \n",
      "277                NaN          NaN  147.930178         -2.645547   \n",
      "278                NaN          NaN  148.959002          1.028824   \n",
      "279          68.014286    -0.565714  149.987826          1.028824   \n",
      "\n",
      "     weekly_avg_weight lbs  weekly_loss lbs  age          bmr  \n",
      "0                      NaN              NaN   24  1686.250000  \n",
      "1               198.504221        -0.951137   25  1645.950000  \n",
      "2                      NaN              NaN   25  1646.050000  \n",
      "3                      NaN              NaN   25  1646.150000  \n",
      "4                      NaN              NaN   25  1646.250000  \n",
      "..                     ...              ...  ...          ...  \n",
      "275                    NaN              NaN   26  1418.250000  \n",
      "276                    NaN              NaN   26  1423.250000  \n",
      "277                    NaN              NaN   26  1411.250000  \n",
      "278                    NaN              NaN   26  1415.916667  \n",
      "279             149.945833        -1.247187   26  1420.583333  \n",
      "\n",
      "[280 rows x 18 columns]\n",
      "          Date  Calories  Protein (g)  Carbohydrates (g)  Fat (g)  \\\n",
      "0   2024-03-19    1203.9         71.9              128.2     49.2   \n",
      "1   2024-06-02    1430.1        112.4              104.3     67.8   \n",
      "2   2024-06-03    1497.6        117.4              170.4     43.5   \n",
      "3   2024-06-04    1146.9        104.9               70.4     50.9   \n",
      "4   2024-06-05    1529.6        119.9              109.9     70.8   \n",
      "..         ...       ...          ...                ...      ...   \n",
      "275 2025-06-25    1542.5        104.0              136.1     66.4   \n",
      "276 2025-06-26    1503.6        100.7              126.0     66.9   \n",
      "277 2025-06-27    1709.2         99.1              203.1     57.6   \n",
      "278 2025-06-28     761.4         38.4               82.0     33.5   \n",
      "279 2025-06-29    1468.4         57.1              142.6     75.0   \n",
      "\n",
      "     Estimated Alcohol (g)  missing_main_meal  Meal     Weight  Daily_change  \\\n",
      "0                      0.0              False     2  93.600000     -0.015385   \n",
      "1                      0.0              False     4  90.070000      0.010000   \n",
      "2                      0.0              False     4  90.080000      0.010000   \n",
      "3                      0.0              False     3  90.090000      0.010000   \n",
      "4                      0.0              False     4  90.100000      0.010000   \n",
      "..                     ...                ...   ...        ...           ...   \n",
      "275                    0.0              False     4  67.800000     -0.400000   \n",
      "276                    0.0              False     4  68.300000      0.500000   \n",
      "277                    0.0              False     3  67.100000     -1.200000   \n",
      "278                    0.0              False     2  67.566667      0.466667   \n",
      "279                    0.0              False     4  68.033333      0.466667   \n",
      "\n",
      "     weekly_avg_weight  weekly_loss  Weight lbs  Daily_change lbs  \\\n",
      "0                  NaN          NaN  206.352677         -0.033917   \n",
      "1            90.040000    -0.431429  198.570360          0.022046   \n",
      "2                  NaN          NaN  198.592406          0.022046   \n",
      "3                  NaN          NaN  198.614452          0.022046   \n",
      "4                  NaN          NaN  198.636498          0.022046   \n",
      "..                 ...          ...         ...               ...   \n",
      "275                NaN          NaN  149.473414         -0.881849   \n",
      "276                NaN          NaN  150.575725          1.102311   \n",
      "277                NaN          NaN  147.930178         -2.645547   \n",
      "278                NaN          NaN  148.959002          1.028824   \n",
      "279          68.014286    -0.565714  149.987826          1.028824   \n",
      "\n",
      "     weekly_avg_weight lbs  weekly_loss lbs  age          bmr  calorie_deficit  \n",
      "0                      NaN              NaN   24  1686.250000       482.350000  \n",
      "1               198.504221        -0.951137   25  1645.950000       215.850000  \n",
      "2                      NaN              NaN   25  1646.050000       148.450000  \n",
      "3                      NaN              NaN   25  1646.150000       499.250000  \n",
      "4                      NaN              NaN   25  1646.250000       116.650000  \n",
      "..                     ...              ...  ...          ...              ...  \n",
      "275                    NaN              NaN   26  1418.250000      -124.250000  \n",
      "276                    NaN              NaN   26  1423.250000       -80.350000  \n",
      "277                    NaN              NaN   26  1411.250000      -297.950000  \n",
      "278                    NaN              NaN   26  1415.916667       654.516667  \n",
      "279             149.945833        -1.247187   26  1420.583333       -47.816667  \n",
      "\n",
      "[280 rows x 19 columns]\n"
     ]
    },
    {
     "data": {
      "application/vnd.plotly.v1+json": {
       "config": {
        "plotlyServerURL": "https://plot.ly"
       },
       "data": [
        {
         "line": {
          "color": "#8CA0D7",
          "width": 2
         },
         "name": "Weight",
         "type": "scatter",
         "x": [
          "2024-03-19T00:00:00.000000000",
          "2024-06-02T00:00:00.000000000",
          "2024-06-03T00:00:00.000000000",
          "2024-06-04T00:00:00.000000000",
          "2024-06-05T00:00:00.000000000",
          "2024-06-06T00:00:00.000000000",
          "2024-06-07T00:00:00.000000000",
          "2024-06-09T00:00:00.000000000",
          "2024-06-10T00:00:00.000000000",
          "2024-06-11T00:00:00.000000000",
          "2024-06-12T00:00:00.000000000",
          "2024-06-13T00:00:00.000000000",
          "2024-06-14T00:00:00.000000000",
          "2024-06-15T00:00:00.000000000",
          "2024-06-16T00:00:00.000000000",
          "2024-06-17T00:00:00.000000000",
          "2024-06-18T00:00:00.000000000",
          "2024-06-19T00:00:00.000000000",
          "2024-06-20T00:00:00.000000000",
          "2024-06-22T00:00:00.000000000",
          "2024-06-23T00:00:00.000000000",
          "2024-06-24T00:00:00.000000000",
          "2024-06-25T00:00:00.000000000",
          "2024-06-26T00:00:00.000000000",
          "2024-06-27T00:00:00.000000000",
          "2024-06-28T00:00:00.000000000",
          "2024-06-29T00:00:00.000000000",
          "2024-06-30T00:00:00.000000000",
          "2024-07-01T00:00:00.000000000",
          "2024-07-02T00:00:00.000000000",
          "2024-07-03T00:00:00.000000000",
          "2024-07-04T00:00:00.000000000",
          "2024-07-05T00:00:00.000000000",
          "2024-07-06T00:00:00.000000000",
          "2024-07-07T00:00:00.000000000",
          "2024-07-08T00:00:00.000000000",
          "2024-07-09T00:00:00.000000000",
          "2024-07-10T00:00:00.000000000",
          "2024-07-11T00:00:00.000000000",
          "2024-07-12T00:00:00.000000000",
          "2024-07-13T00:00:00.000000000",
          "2024-07-14T00:00:00.000000000",
          "2024-07-15T00:00:00.000000000",
          "2024-07-16T00:00:00.000000000",
          "2024-07-17T00:00:00.000000000",
          "2024-07-18T00:00:00.000000000",
          "2024-07-19T00:00:00.000000000",
          "2024-07-20T00:00:00.000000000",
          "2024-07-21T00:00:00.000000000",
          "2024-07-22T00:00:00.000000000",
          "2024-07-23T00:00:00.000000000",
          "2024-07-24T00:00:00.000000000",
          "2024-07-25T00:00:00.000000000",
          "2024-07-28T00:00:00.000000000",
          "2024-07-29T00:00:00.000000000",
          "2024-07-31T00:00:00.000000000",
          "2024-08-01T00:00:00.000000000",
          "2024-08-05T00:00:00.000000000",
          "2024-08-06T00:00:00.000000000",
          "2024-08-07T00:00:00.000000000",
          "2024-08-08T00:00:00.000000000",
          "2024-08-09T00:00:00.000000000",
          "2024-08-10T00:00:00.000000000",
          "2024-08-11T00:00:00.000000000",
          "2024-08-12T00:00:00.000000000",
          "2024-08-13T00:00:00.000000000",
          "2024-08-15T00:00:00.000000000",
          "2024-08-17T00:00:00.000000000",
          "2024-08-18T00:00:00.000000000",
          "2024-08-19T00:00:00.000000000",
          "2024-08-21T00:00:00.000000000",
          "2024-09-03T00:00:00.000000000",
          "2024-09-23T00:00:00.000000000",
          "2024-10-28T00:00:00.000000000",
          "2024-10-29T00:00:00.000000000",
          "2024-10-30T00:00:00.000000000",
          "2024-10-31T00:00:00.000000000",
          "2024-11-01T00:00:00.000000000",
          "2024-11-02T00:00:00.000000000",
          "2024-11-03T00:00:00.000000000",
          "2024-11-04T00:00:00.000000000",
          "2024-11-05T00:00:00.000000000",
          "2024-11-06T00:00:00.000000000",
          "2024-11-07T00:00:00.000000000",
          "2024-11-08T00:00:00.000000000",
          "2024-11-09T00:00:00.000000000",
          "2024-11-10T00:00:00.000000000",
          "2024-11-11T00:00:00.000000000",
          "2024-11-12T00:00:00.000000000",
          "2024-11-13T00:00:00.000000000",
          "2024-11-18T00:00:00.000000000",
          "2024-11-20T00:00:00.000000000",
          "2024-11-21T00:00:00.000000000",
          "2024-11-22T00:00:00.000000000",
          "2024-11-23T00:00:00.000000000",
          "2024-12-02T00:00:00.000000000",
          "2024-12-03T00:00:00.000000000",
          "2024-12-04T00:00:00.000000000",
          "2024-12-05T00:00:00.000000000",
          "2024-12-06T00:00:00.000000000",
          "2024-12-07T00:00:00.000000000",
          "2024-12-08T00:00:00.000000000",
          "2024-12-09T00:00:00.000000000",
          "2024-12-12T00:00:00.000000000",
          "2024-12-13T00:00:00.000000000",
          "2024-12-14T00:00:00.000000000",
          "2024-12-15T00:00:00.000000000",
          "2024-12-16T00:00:00.000000000",
          "2024-12-17T00:00:00.000000000",
          "2024-12-18T00:00:00.000000000",
          "2024-12-19T00:00:00.000000000",
          "2024-12-20T00:00:00.000000000",
          "2024-12-21T00:00:00.000000000",
          "2024-12-22T00:00:00.000000000",
          "2024-12-23T00:00:00.000000000",
          "2025-01-02T00:00:00.000000000",
          "2025-01-03T00:00:00.000000000",
          "2025-01-04T00:00:00.000000000",
          "2025-01-05T00:00:00.000000000",
          "2025-01-06T00:00:00.000000000",
          "2025-01-07T00:00:00.000000000",
          "2025-01-08T00:00:00.000000000",
          "2025-01-09T00:00:00.000000000",
          "2025-01-10T00:00:00.000000000",
          "2025-01-11T00:00:00.000000000",
          "2025-01-12T00:00:00.000000000",
          "2025-01-13T00:00:00.000000000",
          "2025-01-15T00:00:00.000000000",
          "2025-01-16T00:00:00.000000000",
          "2025-01-17T00:00:00.000000000",
          "2025-01-18T00:00:00.000000000",
          "2025-01-19T00:00:00.000000000",
          "2025-01-20T00:00:00.000000000",
          "2025-01-21T00:00:00.000000000",
          "2025-01-22T00:00:00.000000000",
          "2025-01-23T00:00:00.000000000",
          "2025-01-24T00:00:00.000000000",
          "2025-01-25T00:00:00.000000000",
          "2025-01-26T00:00:00.000000000",
          "2025-01-27T00:00:00.000000000",
          "2025-01-28T00:00:00.000000000",
          "2025-01-29T00:00:00.000000000",
          "2025-01-30T00:00:00.000000000",
          "2025-01-31T00:00:00.000000000",
          "2025-02-01T00:00:00.000000000",
          "2025-02-02T00:00:00.000000000",
          "2025-02-03T00:00:00.000000000",
          "2025-02-04T00:00:00.000000000",
          "2025-02-05T00:00:00.000000000",
          "2025-02-06T00:00:00.000000000",
          "2025-02-07T00:00:00.000000000",
          "2025-02-08T00:00:00.000000000",
          "2025-02-09T00:00:00.000000000",
          "2025-02-10T00:00:00.000000000",
          "2025-02-11T00:00:00.000000000",
          "2025-02-12T00:00:00.000000000",
          "2025-02-13T00:00:00.000000000",
          "2025-02-14T00:00:00.000000000",
          "2025-02-15T00:00:00.000000000",
          "2025-02-16T00:00:00.000000000",
          "2025-02-17T00:00:00.000000000",
          "2025-02-18T00:00:00.000000000",
          "2025-02-19T00:00:00.000000000",
          "2025-02-20T00:00:00.000000000",
          "2025-02-21T00:00:00.000000000",
          "2025-02-22T00:00:00.000000000",
          "2025-02-23T00:00:00.000000000",
          "2025-02-24T00:00:00.000000000",
          "2025-02-25T00:00:00.000000000",
          "2025-02-26T00:00:00.000000000",
          "2025-02-27T00:00:00.000000000",
          "2025-02-28T00:00:00.000000000",
          "2025-03-01T00:00:00.000000000",
          "2025-03-02T00:00:00.000000000",
          "2025-03-03T00:00:00.000000000",
          "2025-03-04T00:00:00.000000000",
          "2025-03-05T00:00:00.000000000",
          "2025-03-06T00:00:00.000000000",
          "2025-03-07T00:00:00.000000000",
          "2025-03-08T00:00:00.000000000",
          "2025-03-09T00:00:00.000000000",
          "2025-03-10T00:00:00.000000000",
          "2025-03-11T00:00:00.000000000",
          "2025-03-12T00:00:00.000000000",
          "2025-03-13T00:00:00.000000000",
          "2025-03-14T00:00:00.000000000",
          "2025-03-15T00:00:00.000000000",
          "2025-03-16T00:00:00.000000000",
          "2025-03-17T00:00:00.000000000",
          "2025-03-18T00:00:00.000000000",
          "2025-03-19T00:00:00.000000000",
          "2025-03-20T00:00:00.000000000",
          "2025-03-21T00:00:00.000000000",
          "2025-03-22T00:00:00.000000000",
          "2025-03-23T00:00:00.000000000",
          "2025-03-24T00:00:00.000000000",
          "2025-03-25T00:00:00.000000000",
          "2025-03-26T00:00:00.000000000",
          "2025-03-27T00:00:00.000000000",
          "2025-03-28T00:00:00.000000000",
          "2025-03-29T00:00:00.000000000",
          "2025-03-30T00:00:00.000000000",
          "2025-03-31T00:00:00.000000000",
          "2025-04-01T00:00:00.000000000",
          "2025-04-02T00:00:00.000000000",
          "2025-04-03T00:00:00.000000000",
          "2025-04-04T00:00:00.000000000",
          "2025-04-05T00:00:00.000000000",
          "2025-04-06T00:00:00.000000000",
          "2025-04-07T00:00:00.000000000",
          "2025-04-08T00:00:00.000000000",
          "2025-04-09T00:00:00.000000000",
          "2025-04-10T00:00:00.000000000",
          "2025-04-11T00:00:00.000000000",
          "2025-04-12T00:00:00.000000000",
          "2025-04-13T00:00:00.000000000",
          "2025-04-14T00:00:00.000000000",
          "2025-04-15T00:00:00.000000000",
          "2025-04-16T00:00:00.000000000",
          "2025-04-17T00:00:00.000000000",
          "2025-04-18T00:00:00.000000000",
          "2025-04-20T00:00:00.000000000",
          "2025-04-21T00:00:00.000000000",
          "2025-04-22T00:00:00.000000000",
          "2025-04-23T00:00:00.000000000",
          "2025-04-24T00:00:00.000000000",
          "2025-04-25T00:00:00.000000000",
          "2025-04-26T00:00:00.000000000",
          "2025-04-27T00:00:00.000000000",
          "2025-04-28T00:00:00.000000000",
          "2025-04-29T00:00:00.000000000",
          "2025-04-30T00:00:00.000000000",
          "2025-05-01T00:00:00.000000000",
          "2025-05-02T00:00:00.000000000",
          "2025-05-06T00:00:00.000000000",
          "2025-05-07T00:00:00.000000000",
          "2025-05-08T00:00:00.000000000",
          "2025-05-09T00:00:00.000000000",
          "2025-05-10T00:00:00.000000000",
          "2025-05-11T00:00:00.000000000",
          "2025-05-12T00:00:00.000000000",
          "2025-05-13T00:00:00.000000000",
          "2025-05-14T00:00:00.000000000",
          "2025-05-15T00:00:00.000000000",
          "2025-05-16T00:00:00.000000000",
          "2025-05-17T00:00:00.000000000",
          "2025-05-18T00:00:00.000000000",
          "2025-05-19T00:00:00.000000000",
          "2025-05-20T00:00:00.000000000",
          "2025-05-21T00:00:00.000000000",
          "2025-05-22T00:00:00.000000000",
          "2025-05-23T00:00:00.000000000",
          "2025-05-24T00:00:00.000000000",
          "2025-05-25T00:00:00.000000000",
          "2025-05-26T00:00:00.000000000",
          "2025-05-27T00:00:00.000000000",
          "2025-05-28T00:00:00.000000000",
          "2025-05-29T00:00:00.000000000",
          "2025-05-30T00:00:00.000000000",
          "2025-05-31T00:00:00.000000000",
          "2025-06-01T00:00:00.000000000",
          "2025-06-02T00:00:00.000000000",
          "2025-06-03T00:00:00.000000000",
          "2025-06-04T00:00:00.000000000",
          "2025-06-05T00:00:00.000000000",
          "2025-06-06T00:00:00.000000000",
          "2025-06-07T00:00:00.000000000",
          "2025-06-08T00:00:00.000000000",
          "2025-06-09T00:00:00.000000000",
          "2025-06-10T00:00:00.000000000",
          "2025-06-11T00:00:00.000000000",
          "2025-06-12T00:00:00.000000000",
          "2025-06-13T00:00:00.000000000",
          "2025-06-23T00:00:00.000000000",
          "2025-06-24T00:00:00.000000000",
          "2025-06-25T00:00:00.000000000",
          "2025-06-26T00:00:00.000000000",
          "2025-06-27T00:00:00.000000000",
          "2025-06-28T00:00:00.000000000",
          "2025-06-29T00:00:00.000000000"
         ],
         "y": {
          "bdata": "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",
          "dtype": "f8"
         }
        },
        {
         "line": {
          "color": "#91C4F2"
         },
         "mode": "markers",
         "name": "Weekly average weight",
         "type": "scatter",
         "x": [
          "2024-03-19T00:00:00.000000000",
          "2024-06-02T00:00:00.000000000",
          "2024-06-03T00:00:00.000000000",
          "2024-06-04T00:00:00.000000000",
          "2024-06-05T00:00:00.000000000",
          "2024-06-06T00:00:00.000000000",
          "2024-06-07T00:00:00.000000000",
          "2024-06-09T00:00:00.000000000",
          "2024-06-10T00:00:00.000000000",
          "2024-06-11T00:00:00.000000000",
          "2024-06-12T00:00:00.000000000",
          "2024-06-13T00:00:00.000000000",
          "2024-06-14T00:00:00.000000000",
          "2024-06-15T00:00:00.000000000",
          "2024-06-16T00:00:00.000000000",
          "2024-06-17T00:00:00.000000000",
          "2024-06-18T00:00:00.000000000",
          "2024-06-19T00:00:00.000000000",
          "2024-06-20T00:00:00.000000000",
          "2024-06-22T00:00:00.000000000",
          "2024-06-23T00:00:00.000000000",
          "2024-06-24T00:00:00.000000000",
          "2024-06-25T00:00:00.000000000",
          "2024-06-26T00:00:00.000000000",
          "2024-06-27T00:00:00.000000000",
          "2024-06-28T00:00:00.000000000",
          "2024-06-29T00:00:00.000000000",
          "2024-06-30T00:00:00.000000000",
          "2024-07-01T00:00:00.000000000",
          "2024-07-02T00:00:00.000000000",
          "2024-07-03T00:00:00.000000000",
          "2024-07-04T00:00:00.000000000",
          "2024-07-05T00:00:00.000000000",
          "2024-07-06T00:00:00.000000000",
          "2024-07-07T00:00:00.000000000",
          "2024-07-08T00:00:00.000000000",
          "2024-07-09T00:00:00.000000000",
          "2024-07-10T00:00:00.000000000",
          "2024-07-11T00:00:00.000000000",
          "2024-07-12T00:00:00.000000000",
          "2024-07-13T00:00:00.000000000",
          "2024-07-14T00:00:00.000000000",
          "2024-07-15T00:00:00.000000000",
          "2024-07-16T00:00:00.000000000",
          "2024-07-17T00:00:00.000000000",
          "2024-07-18T00:00:00.000000000",
          "2024-07-19T00:00:00.000000000",
          "2024-07-20T00:00:00.000000000",
          "2024-07-21T00:00:00.000000000",
          "2024-07-22T00:00:00.000000000",
          "2024-07-23T00:00:00.000000000",
          "2024-07-24T00:00:00.000000000",
          "2024-07-25T00:00:00.000000000",
          "2024-07-28T00:00:00.000000000",
          "2024-07-29T00:00:00.000000000",
          "2024-07-31T00:00:00.000000000",
          "2024-08-01T00:00:00.000000000",
          "2024-08-05T00:00:00.000000000",
          "2024-08-06T00:00:00.000000000",
          "2024-08-07T00:00:00.000000000",
          "2024-08-08T00:00:00.000000000",
          "2024-08-09T00:00:00.000000000",
          "2024-08-10T00:00:00.000000000",
          "2024-08-11T00:00:00.000000000",
          "2024-08-12T00:00:00.000000000",
          "2024-08-13T00:00:00.000000000",
          "2024-08-15T00:00:00.000000000",
          "2024-08-17T00:00:00.000000000",
          "2024-08-18T00:00:00.000000000",
          "2024-08-19T00:00:00.000000000",
          "2024-08-21T00:00:00.000000000",
          "2024-09-03T00:00:00.000000000",
          "2024-09-23T00:00:00.000000000",
          "2024-10-28T00:00:00.000000000",
          "2024-10-29T00:00:00.000000000",
          "2024-10-30T00:00:00.000000000",
          "2024-10-31T00:00:00.000000000",
          "2024-11-01T00:00:00.000000000",
          "2024-11-02T00:00:00.000000000",
          "2024-11-03T00:00:00.000000000",
          "2024-11-04T00:00:00.000000000",
          "2024-11-05T00:00:00.000000000",
          "2024-11-06T00:00:00.000000000",
          "2024-11-07T00:00:00.000000000",
          "2024-11-08T00:00:00.000000000",
          "2024-11-09T00:00:00.000000000",
          "2024-11-10T00:00:00.000000000",
          "2024-11-11T00:00:00.000000000",
          "2024-11-12T00:00:00.000000000",
          "2024-11-13T00:00:00.000000000",
          "2024-11-18T00:00:00.000000000",
          "2024-11-20T00:00:00.000000000",
          "2024-11-21T00:00:00.000000000",
          "2024-11-22T00:00:00.000000000",
          "2024-11-23T00:00:00.000000000",
          "2024-12-02T00:00:00.000000000",
          "2024-12-03T00:00:00.000000000",
          "2024-12-04T00:00:00.000000000",
          "2024-12-05T00:00:00.000000000",
          "2024-12-06T00:00:00.000000000",
          "2024-12-07T00:00:00.000000000",
          "2024-12-08T00:00:00.000000000",
          "2024-12-09T00:00:00.000000000",
          "2024-12-12T00:00:00.000000000",
          "2024-12-13T00:00:00.000000000",
          "2024-12-14T00:00:00.000000000",
          "2024-12-15T00:00:00.000000000",
          "2024-12-16T00:00:00.000000000",
          "2024-12-17T00:00:00.000000000",
          "2024-12-18T00:00:00.000000000",
          "2024-12-19T00:00:00.000000000",
          "2024-12-20T00:00:00.000000000",
          "2024-12-21T00:00:00.000000000",
          "2024-12-22T00:00:00.000000000",
          "2024-12-23T00:00:00.000000000",
          "2025-01-02T00:00:00.000000000",
          "2025-01-03T00:00:00.000000000",
          "2025-01-04T00:00:00.000000000",
          "2025-01-05T00:00:00.000000000",
          "2025-01-06T00:00:00.000000000",
          "2025-01-07T00:00:00.000000000",
          "2025-01-08T00:00:00.000000000",
          "2025-01-09T00:00:00.000000000",
          "2025-01-10T00:00:00.000000000",
          "2025-01-11T00:00:00.000000000",
          "2025-01-12T00:00:00.000000000",
          "2025-01-13T00:00:00.000000000",
          "2025-01-15T00:00:00.000000000",
          "2025-01-16T00:00:00.000000000",
          "2025-01-17T00:00:00.000000000",
          "2025-01-18T00:00:00.000000000",
          "2025-01-19T00:00:00.000000000",
          "2025-01-20T00:00:00.000000000",
          "2025-01-21T00:00:00.000000000",
          "2025-01-22T00:00:00.000000000",
          "2025-01-23T00:00:00.000000000",
          "2025-01-24T00:00:00.000000000",
          "2025-01-25T00:00:00.000000000",
          "2025-01-26T00:00:00.000000000",
          "2025-01-27T00:00:00.000000000",
          "2025-01-28T00:00:00.000000000",
          "2025-01-29T00:00:00.000000000",
          "2025-01-30T00:00:00.000000000",
          "2025-01-31T00:00:00.000000000",
          "2025-02-01T00:00:00.000000000",
          "2025-02-02T00:00:00.000000000",
          "2025-02-03T00:00:00.000000000",
          "2025-02-04T00:00:00.000000000",
          "2025-02-05T00:00:00.000000000",
          "2025-02-06T00:00:00.000000000",
          "2025-02-07T00:00:00.000000000",
          "2025-02-08T00:00:00.000000000",
          "2025-02-09T00:00:00.000000000",
          "2025-02-10T00:00:00.000000000",
          "2025-02-11T00:00:00.000000000",
          "2025-02-12T00:00:00.000000000",
          "2025-02-13T00:00:00.000000000",
          "2025-02-14T00:00:00.000000000",
          "2025-02-15T00:00:00.000000000",
          "2025-02-16T00:00:00.000000000",
          "2025-02-17T00:00:00.000000000",
          "2025-02-18T00:00:00.000000000",
          "2025-02-19T00:00:00.000000000",
          "2025-02-20T00:00:00.000000000",
          "2025-02-21T00:00:00.000000000",
          "2025-02-22T00:00:00.000000000",
          "2025-02-23T00:00:00.000000000",
          "2025-02-24T00:00:00.000000000",
          "2025-02-25T00:00:00.000000000",
          "2025-02-26T00:00:00.000000000",
          "2025-02-27T00:00:00.000000000",
          "2025-02-28T00:00:00.000000000",
          "2025-03-01T00:00:00.000000000",
          "2025-03-02T00:00:00.000000000",
          "2025-03-03T00:00:00.000000000",
          "2025-03-04T00:00:00.000000000",
          "2025-03-05T00:00:00.000000000",
          "2025-03-06T00:00:00.000000000",
          "2025-03-07T00:00:00.000000000",
          "2025-03-08T00:00:00.000000000",
          "2025-03-09T00:00:00.000000000",
          "2025-03-10T00:00:00.000000000",
          "2025-03-11T00:00:00.000000000",
          "2025-03-12T00:00:00.000000000",
          "2025-03-13T00:00:00.000000000",
          "2025-03-14T00:00:00.000000000",
          "2025-03-15T00:00:00.000000000",
          "2025-03-16T00:00:00.000000000",
          "2025-03-17T00:00:00.000000000",
          "2025-03-18T00:00:00.000000000",
          "2025-03-19T00:00:00.000000000",
          "2025-03-20T00:00:00.000000000",
          "2025-03-21T00:00:00.000000000",
          "2025-03-22T00:00:00.000000000",
          "2025-03-23T00:00:00.000000000",
          "2025-03-24T00:00:00.000000000",
          "2025-03-25T00:00:00.000000000",
          "2025-03-26T00:00:00.000000000",
          "2025-03-27T00:00:00.000000000",
          "2025-03-28T00:00:00.000000000",
          "2025-03-29T00:00:00.000000000",
          "2025-03-30T00:00:00.000000000",
          "2025-03-31T00:00:00.000000000",
          "2025-04-01T00:00:00.000000000",
          "2025-04-02T00:00:00.000000000",
          "2025-04-03T00:00:00.000000000",
          "2025-04-04T00:00:00.000000000",
          "2025-04-05T00:00:00.000000000",
          "2025-04-06T00:00:00.000000000",
          "2025-04-07T00:00:00.000000000",
          "2025-04-08T00:00:00.000000000",
          "2025-04-09T00:00:00.000000000",
          "2025-04-10T00:00:00.000000000",
          "2025-04-11T00:00:00.000000000",
          "2025-04-12T00:00:00.000000000",
          "2025-04-13T00:00:00.000000000",
          "2025-04-14T00:00:00.000000000",
          "2025-04-15T00:00:00.000000000",
          "2025-04-16T00:00:00.000000000",
          "2025-04-17T00:00:00.000000000",
          "2025-04-18T00:00:00.000000000",
          "2025-04-20T00:00:00.000000000",
          "2025-04-21T00:00:00.000000000",
          "2025-04-22T00:00:00.000000000",
          "2025-04-23T00:00:00.000000000",
          "2025-04-24T00:00:00.000000000",
          "2025-04-25T00:00:00.000000000",
          "2025-04-26T00:00:00.000000000",
          "2025-04-27T00:00:00.000000000",
          "2025-04-28T00:00:00.000000000",
          "2025-04-29T00:00:00.000000000",
          "2025-04-30T00:00:00.000000000",
          "2025-05-01T00:00:00.000000000",
          "2025-05-02T00:00:00.000000000",
          "2025-05-06T00:00:00.000000000",
          "2025-05-07T00:00:00.000000000",
          "2025-05-08T00:00:00.000000000",
          "2025-05-09T00:00:00.000000000",
          "2025-05-10T00:00:00.000000000",
          "2025-05-11T00:00:00.000000000",
          "2025-05-12T00:00:00.000000000",
          "2025-05-13T00:00:00.000000000",
          "2025-05-14T00:00:00.000000000",
          "2025-05-15T00:00:00.000000000",
          "2025-05-16T00:00:00.000000000",
          "2025-05-17T00:00:00.000000000",
          "2025-05-18T00:00:00.000000000",
          "2025-05-19T00:00:00.000000000",
          "2025-05-20T00:00:00.000000000",
          "2025-05-21T00:00:00.000000000",
          "2025-05-22T00:00:00.000000000",
          "2025-05-23T00:00:00.000000000",
          "2025-05-24T00:00:00.000000000",
          "2025-05-25T00:00:00.000000000",
          "2025-05-26T00:00:00.000000000",
          "2025-05-27T00:00:00.000000000",
          "2025-05-28T00:00:00.000000000",
          "2025-05-29T00:00:00.000000000",
          "2025-05-30T00:00:00.000000000",
          "2025-05-31T00:00:00.000000000",
          "2025-06-01T00:00:00.000000000",
          "2025-06-02T00:00:00.000000000",
          "2025-06-03T00:00:00.000000000",
          "2025-06-04T00:00:00.000000000",
          "2025-06-05T00:00:00.000000000",
          "2025-06-06T00:00:00.000000000",
          "2025-06-07T00:00:00.000000000",
          "2025-06-08T00:00:00.000000000",
          "2025-06-09T00:00:00.000000000",
          "2025-06-10T00:00:00.000000000",
          "2025-06-11T00:00:00.000000000",
          "2025-06-12T00:00:00.000000000",
          "2025-06-13T00:00:00.000000000",
          "2025-06-23T00:00:00.000000000",
          "2025-06-24T00:00:00.000000000",
          "2025-06-25T00:00:00.000000000",
          "2025-06-26T00:00:00.000000000",
          "2025-06-27T00:00:00.000000000",
          "2025-06-28T00:00:00.000000000",
          "2025-06-29T00:00:00.000000000"
         ],
         "y": {
          "bdata": "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",
          "dtype": "f8"
         }
        }
       ],
       "layout": {
        "font": {
         "size": 14
        },
        "template": {
         "data": {
          "bar": [
           {
            "error_x": {
             "color": "#2a3f5f"
            },
            "error_y": {
             "color": "#2a3f5f"
            },
            "marker": {
             "line": {
              "color": "white",
              "width": 0.5
             },
             "pattern": {
              "fillmode": "overlay",
              "size": 10,
              "solidity": 0.2
             }
            },
            "type": "bar"
           }
          ],
          "barpolar": [
           {
            "marker": {
             "line": {
              "color": "white",
              "width": 0.5
             },
             "pattern": {
              "fillmode": "overlay",
              "size": 10,
              "solidity": 0.2
             }
            },
            "type": "barpolar"
           }
          ],
          "carpet": [
           {
            "aaxis": {
             "endlinecolor": "#2a3f5f",
             "gridcolor": "#C8D4E3",
             "linecolor": "#C8D4E3",
             "minorgridcolor": "#C8D4E3",
             "startlinecolor": "#2a3f5f"
            },
            "baxis": {
             "endlinecolor": "#2a3f5f",
             "gridcolor": "#C8D4E3",
             "linecolor": "#C8D4E3",
             "minorgridcolor": "#C8D4E3",
             "startlinecolor": "#2a3f5f"
            },
            "type": "carpet"
           }
          ],
          "choropleth": [
           {
            "colorbar": {
             "outlinewidth": 0,
             "ticks": ""
            },
            "type": "choropleth"
           }
          ],
          "contour": [
           {
            "colorbar": {
             "outlinewidth": 0,
             "ticks": ""
            },
            "colorscale": [
             [
              0,
              "#0d0887"
             ],
             [
              0.1111111111111111,
              "#46039f"
             ],
             [
              0.2222222222222222,
              "#7201a8"
             ],
             [
              0.3333333333333333,
              "#9c179e"
             ],
             [
              0.4444444444444444,
              "#bd3786"
             ],
             [
              0.5555555555555556,
              "#d8576b"
             ],
             [
              0.6666666666666666,
              "#ed7953"
             ],
             [
              0.7777777777777778,
              "#fb9f3a"
             ],
             [
              0.8888888888888888,
              "#fdca26"
             ],
             [
              1,
              "#f0f921"
             ]
            ],
            "type": "contour"
           }
          ],
          "contourcarpet": [
           {
            "colorbar": {
             "outlinewidth": 0,
             "ticks": ""
            },
            "type": "contourcarpet"
           }
          ],
          "heatmap": [
           {
            "colorbar": {
             "outlinewidth": 0,
             "ticks": ""
            },
            "colorscale": [
             [
              0,
              "#0d0887"
             ],
             [
              0.1111111111111111,
              "#46039f"
             ],
             [
              0.2222222222222222,
              "#7201a8"
             ],
             [
              0.3333333333333333,
              "#9c179e"
             ],
             [
              0.4444444444444444,
              "#bd3786"
             ],
             [
              0.5555555555555556,
              "#d8576b"
             ],
             [
              0.6666666666666666,
              "#ed7953"
             ],
             [
              0.7777777777777778,
              "#fb9f3a"
             ],
             [
              0.8888888888888888,
              "#fdca26"
             ],
             [
              1,
              "#f0f921"
             ]
            ],
            "type": "heatmap"
           }
          ],
          "histogram": [
           {
            "marker": {
             "pattern": {
              "fillmode": "overlay",
              "size": 10,
              "solidity": 0.2
             }
            },
            "type": "histogram"
           }
          ],
          "histogram2d": [
           {
            "colorbar": {
             "outlinewidth": 0,
             "ticks": ""
            },
            "colorscale": [
             [
              0,
              "#0d0887"
             ],
             [
              0.1111111111111111,
              "#46039f"
             ],
             [
              0.2222222222222222,
              "#7201a8"
             ],
             [
              0.3333333333333333,
              "#9c179e"
             ],
             [
              0.4444444444444444,
              "#bd3786"
             ],
             [
              0.5555555555555556,
              "#d8576b"
             ],
             [
              0.6666666666666666,
              "#ed7953"
             ],
             [
              0.7777777777777778,
              "#fb9f3a"
             ],
             [
              0.8888888888888888,
              "#fdca26"
             ],
             [
              1,
              "#f0f921"
             ]
            ],
            "type": "histogram2d"
           }
          ],
          "histogram2dcontour": [
           {
            "colorbar": {
             "outlinewidth": 0,
             "ticks": ""
            },
            "colorscale": [
             [
              0,
              "#0d0887"
             ],
             [
              0.1111111111111111,
              "#46039f"
             ],
             [
              0.2222222222222222,
              "#7201a8"
             ],
             [
              0.3333333333333333,
              "#9c179e"
             ],
             [
              0.4444444444444444,
              "#bd3786"
             ],
             [
              0.5555555555555556,
              "#d8576b"
             ],
             [
              0.6666666666666666,
              "#ed7953"
             ],
             [
              0.7777777777777778,
              "#fb9f3a"
             ],
             [
              0.8888888888888888,
              "#fdca26"
             ],
             [
              1,
              "#f0f921"
             ]
            ],
            "type": "histogram2dcontour"
           }
          ],
          "mesh3d": [
           {
            "colorbar": {
             "outlinewidth": 0,
             "ticks": ""
            },
            "type": "mesh3d"
           }
          ],
          "parcoords": [
           {
            "line": {
             "colorbar": {
              "outlinewidth": 0,
              "ticks": ""
             }
            },
            "type": "parcoords"
           }
          ],
          "pie": [
           {
            "automargin": true,
            "type": "pie"
           }
          ],
          "scatter": [
           {
            "fillpattern": {
             "fillmode": "overlay",
             "size": 10,
             "solidity": 0.2
            },
            "type": "scatter"
           }
          ],
          "scatter3d": [
           {
            "line": {
             "colorbar": {
              "outlinewidth": 0,
              "ticks": ""
             }
            },
            "marker": {
             "colorbar": {
              "outlinewidth": 0,
              "ticks": ""
             }
            },
            "type": "scatter3d"
           }
          ],
          "scattercarpet": [
           {
            "marker": {
             "colorbar": {
              "outlinewidth": 0,
              "ticks": ""
             }
            },
            "type": "scattercarpet"
           }
          ],
          "scattergeo": [
           {
            "marker": {
             "colorbar": {
              "outlinewidth": 0,
              "ticks": ""
             }
            },
            "type": "scattergeo"
           }
          ],
          "scattergl": [
           {
            "marker": {
             "colorbar": {
              "outlinewidth": 0,
              "ticks": ""
             }
            },
            "type": "scattergl"
           }
          ],
          "scattermap": [
           {
            "marker": {
             "colorbar": {
              "outlinewidth": 0,
              "ticks": ""
             }
            },
            "type": "scattermap"
           }
          ],
          "scattermapbox": [
           {
            "marker": {
             "colorbar": {
              "outlinewidth": 0,
              "ticks": ""
             }
            },
            "type": "scattermapbox"
           }
          ],
          "scatterpolar": [
           {
            "marker": {
             "colorbar": {
              "outlinewidth": 0,
              "ticks": ""
             }
            },
            "type": "scatterpolar"
           }
          ],
          "scatterpolargl": [
           {
            "marker": {
             "colorbar": {
              "outlinewidth": 0,
              "ticks": ""
             }
            },
            "type": "scatterpolargl"
           }
          ],
          "scatterternary": [
           {
            "marker": {
             "colorbar": {
              "outlinewidth": 0,
              "ticks": ""
             }
            },
            "type": "scatterternary"
           }
          ],
          "surface": [
           {
            "colorbar": {
             "outlinewidth": 0,
             "ticks": ""
            },
            "colorscale": [
             [
              0,
              "#0d0887"
             ],
             [
              0.1111111111111111,
              "#46039f"
             ],
             [
              0.2222222222222222,
              "#7201a8"
             ],
             [
              0.3333333333333333,
              "#9c179e"
             ],
             [
              0.4444444444444444,
              "#bd3786"
             ],
             [
              0.5555555555555556,
              "#d8576b"
             ],
             [
              0.6666666666666666,
              "#ed7953"
             ],
             [
              0.7777777777777778,
              "#fb9f3a"
             ],
             [
              0.8888888888888888,
              "#fdca26"
             ],
             [
              1,
              "#f0f921"
             ]
            ],
            "type": "surface"
           }
          ],
          "table": [
           {
            "cells": {
             "fill": {
              "color": "#EBF0F8"
             },
             "line": {
              "color": "white"
             }
            },
            "header": {
             "fill": {
              "color": "#C8D4E3"
             },
             "line": {
              "color": "white"
             }
            },
            "type": "table"
           }
          ]
         },
         "layout": {
          "annotationdefaults": {
           "arrowcolor": "#2a3f5f",
           "arrowhead": 0,
           "arrowwidth": 1
          },
          "autotypenumbers": "strict",
          "coloraxis": {
           "colorbar": {
            "outlinewidth": 0,
            "ticks": ""
           }
          },
          "colorscale": {
           "diverging": [
            [
             0,
             "#8e0152"
            ],
            [
             0.1,
             "#c51b7d"
            ],
            [
             0.2,
             "#de77ae"
            ],
            [
             0.3,
             "#f1b6da"
            ],
            [
             0.4,
             "#fde0ef"
            ],
            [
             0.5,
             "#f7f7f7"
            ],
            [
             0.6,
             "#e6f5d0"
            ],
            [
             0.7,
             "#b8e186"
            ],
            [
             0.8,
             "#7fbc41"
            ],
            [
             0.9,
             "#4d9221"
            ],
            [
             1,
             "#276419"
            ]
           ],
           "sequential": [
            [
             0,
             "#0d0887"
            ],
            [
             0.1111111111111111,
             "#46039f"
            ],
            [
             0.2222222222222222,
             "#7201a8"
            ],
            [
             0.3333333333333333,
             "#9c179e"
            ],
            [
             0.4444444444444444,
             "#bd3786"
            ],
            [
             0.5555555555555556,
             "#d8576b"
            ],
            [
             0.6666666666666666,
             "#ed7953"
            ],
            [
             0.7777777777777778,
             "#fb9f3a"
            ],
            [
             0.8888888888888888,
             "#fdca26"
            ],
            [
             1,
             "#f0f921"
            ]
           ],
           "sequentialminus": [
            [
             0,
             "#0d0887"
            ],
            [
             0.1111111111111111,
             "#46039f"
            ],
            [
             0.2222222222222222,
             "#7201a8"
            ],
            [
             0.3333333333333333,
             "#9c179e"
            ],
            [
             0.4444444444444444,
             "#bd3786"
            ],
            [
             0.5555555555555556,
             "#d8576b"
            ],
            [
             0.6666666666666666,
             "#ed7953"
            ],
            [
             0.7777777777777778,
             "#fb9f3a"
            ],
            [
             0.8888888888888888,
             "#fdca26"
            ],
            [
             1,
             "#f0f921"
            ]
           ]
          },
          "colorway": [
           "#636efa",
           "#EF553B",
           "#00cc96",
           "#ab63fa",
           "#FFA15A",
           "#19d3f3",
           "#FF6692",
           "#B6E880",
           "#FF97FF",
           "#FECB52"
          ],
          "font": {
           "color": "#2a3f5f"
          },
          "geo": {
           "bgcolor": "white",
           "lakecolor": "white",
           "landcolor": "white",
           "showlakes": true,
           "showland": true,
           "subunitcolor": "#C8D4E3"
          },
          "hoverlabel": {
           "align": "left"
          },
          "hovermode": "closest",
          "mapbox": {
           "style": "light"
          },
          "paper_bgcolor": "white",
          "plot_bgcolor": "white",
          "polar": {
           "angularaxis": {
            "gridcolor": "#EBF0F8",
            "linecolor": "#EBF0F8",
            "ticks": ""
           },
           "bgcolor": "white",
           "radialaxis": {
            "gridcolor": "#EBF0F8",
            "linecolor": "#EBF0F8",
            "ticks": ""
           }
          },
          "scene": {
           "xaxis": {
            "backgroundcolor": "white",
            "gridcolor": "#DFE8F3",
            "gridwidth": 2,
            "linecolor": "#EBF0F8",
            "showbackground": true,
            "ticks": "",
            "zerolinecolor": "#EBF0F8"
           },
           "yaxis": {
            "backgroundcolor": "white",
            "gridcolor": "#DFE8F3",
            "gridwidth": 2,
            "linecolor": "#EBF0F8",
            "showbackground": true,
            "ticks": "",
            "zerolinecolor": "#EBF0F8"
           },
           "zaxis": {
            "backgroundcolor": "white",
            "gridcolor": "#DFE8F3",
            "gridwidth": 2,
            "linecolor": "#EBF0F8",
            "showbackground": true,
            "ticks": "",
            "zerolinecolor": "#EBF0F8"
           }
          },
          "shapedefaults": {
           "line": {
            "color": "#2a3f5f"
           }
          },
          "ternary": {
           "aaxis": {
            "gridcolor": "#DFE8F3",
            "linecolor": "#A2B1C6",
            "ticks": ""
           },
           "baxis": {
            "gridcolor": "#DFE8F3",
            "linecolor": "#A2B1C6",
            "ticks": ""
           },
           "bgcolor": "white",
           "caxis": {
            "gridcolor": "#DFE8F3",
            "linecolor": "#A2B1C6",
            "ticks": ""
           }
          },
          "title": {
           "x": 0.05
          },
          "xaxis": {
           "automargin": true,
           "gridcolor": "#EBF0F8",
           "linecolor": "#EBF0F8",
           "ticks": "",
           "title": {
            "standoff": 15
           },
           "zerolinecolor": "#EBF0F8",
           "zerolinewidth": 2
          },
          "yaxis": {
           "automargin": true,
           "gridcolor": "#EBF0F8",
           "linecolor": "#EBF0F8",
           "ticks": "",
           "title": {
            "standoff": 15
           },
           "zerolinecolor": "#EBF0F8",
           "zerolinewidth": 2
          }
         }
        },
        "title": {
         "font": {
          "size": 16
         },
         "text": "Weight Over Time",
         "x": 0.5
        },
        "yaxis": {
         "range": [
          60,
          100
         ],
         "title": {
          "text": "Weight (kg)"
         }
        }
       }
      }
     },
     "metadata": {},
     "output_type": "display_data"
    },
    {
     "name": "stdout",
     "output_type": "stream",
     "text": [
      "0.9501684550155067\n",
      "          Date  Calories  Protein (g)  Carbohydrates (g)  Fat (g)  \\\n",
      "0   2024-03-19    1203.9         71.9              128.2     49.2   \n",
      "1   2024-06-02    1430.1        112.4              104.3     67.8   \n",
      "2   2024-06-03    1497.6        117.4              170.4     43.5   \n",
      "3   2024-06-04    1146.9        104.9               70.4     50.9   \n",
      "4   2024-06-05    1529.6        119.9              109.9     70.8   \n",
      "..         ...       ...          ...                ...      ...   \n",
      "275 2025-06-25    1542.5        104.0              136.1     66.4   \n",
      "276 2025-06-26    1503.6        100.7              126.0     66.9   \n",
      "277 2025-06-27    1709.2         99.1              203.1     57.6   \n",
      "278 2025-06-28     761.4         38.4               82.0     33.5   \n",
      "279 2025-06-29    1468.4         57.1              142.6     75.0   \n",
      "\n",
      "     Estimated Alcohol (g)  missing_main_meal  Meal     Weight  Daily_change  \\\n",
      "0                      0.0              False     2  93.600000     -0.015385   \n",
      "1                      0.0              False     4  90.070000      0.010000   \n",
      "2                      0.0              False     4  90.080000      0.010000   \n",
      "3                      0.0              False     3  90.090000      0.010000   \n",
      "4                      0.0              False     4  90.100000      0.010000   \n",
      "..                     ...                ...   ...        ...           ...   \n",
      "275                    0.0              False     4  67.800000     -0.400000   \n",
      "276                    0.0              False     4  68.300000      0.500000   \n",
      "277                    0.0              False     3  67.100000     -1.200000   \n",
      "278                    0.0              False     2  67.566667      0.466667   \n",
      "279                    0.0              False     4  68.033333      0.466667   \n",
      "\n",
      "     weekly_avg_weight  weekly_loss  Weight lbs  Daily_change lbs  \\\n",
      "0                  NaN          NaN  206.352677         -0.033917   \n",
      "1            90.040000    -0.431429  198.570360          0.022046   \n",
      "2                  NaN          NaN  198.592406          0.022046   \n",
      "3                  NaN          NaN  198.614452          0.022046   \n",
      "4                  NaN          NaN  198.636498          0.022046   \n",
      "..                 ...          ...         ...               ...   \n",
      "275                NaN          NaN  149.473414         -0.881849   \n",
      "276                NaN          NaN  150.575725          1.102311   \n",
      "277                NaN          NaN  147.930178         -2.645547   \n",
      "278                NaN          NaN  148.959002          1.028824   \n",
      "279          68.014286    -0.565714  149.987826          1.028824   \n",
      "\n",
      "     weekly_avg_weight lbs  weekly_loss lbs  age          bmr  \\\n",
      "0                      NaN              NaN   24  1686.250000   \n",
      "1               198.504221        -0.951137   25  1645.950000   \n",
      "2                      NaN              NaN   25  1646.050000   \n",
      "3                      NaN              NaN   25  1646.150000   \n",
      "4                      NaN              NaN   25  1646.250000   \n",
      "..                     ...              ...  ...          ...   \n",
      "275                    NaN              NaN   26  1418.250000   \n",
      "276                    NaN              NaN   26  1423.250000   \n",
      "277                    NaN              NaN   26  1411.250000   \n",
      "278                    NaN              NaN   26  1415.916667   \n",
      "279             149.945833        -1.247187   26  1420.583333   \n",
      "\n",
      "     calorie_deficit  cumulative_deficit  \n",
      "0         482.350000         -482.350000  \n",
      "1         215.850000         -698.200000  \n",
      "2         148.450000         -846.650000  \n",
      "3         499.250000        -1345.900000  \n",
      "4         116.650000        -1462.550000  \n",
      "..               ...                 ...  \n",
      "275      -124.250000       -30380.570940  \n",
      "276       -80.350000       -30300.220940  \n",
      "277      -297.950000       -30002.270940  \n",
      "278       654.516667       -30656.787607  \n",
      "279       -47.816667       -30608.970940  \n",
      "\n",
      "[280 rows x 20 columns]\n"
     ]
    },
    {
     "data": {
      "application/vnd.plotly.v1+json": {
       "config": {
        "plotlyServerURL": "https://plot.ly"
       },
       "data": [
        {
         "line": {
          "color": "#8CA0D7",
          "width": 2
         },
         "name": "Weight (kg)",
         "type": "scatter",
         "x": [
          "2024-03-19T00:00:00.000000000",
          "2024-06-02T00:00:00.000000000",
          "2024-06-03T00:00:00.000000000",
          "2024-06-04T00:00:00.000000000",
          "2024-06-05T00:00:00.000000000",
          "2024-06-06T00:00:00.000000000",
          "2024-06-07T00:00:00.000000000",
          "2024-06-09T00:00:00.000000000",
          "2024-06-10T00:00:00.000000000",
          "2024-06-11T00:00:00.000000000",
          "2024-06-12T00:00:00.000000000",
          "2024-06-13T00:00:00.000000000",
          "2024-06-14T00:00:00.000000000",
          "2024-06-15T00:00:00.000000000",
          "2024-06-16T00:00:00.000000000",
          "2024-06-17T00:00:00.000000000",
          "2024-06-18T00:00:00.000000000",
          "2024-06-19T00:00:00.000000000",
          "2024-06-20T00:00:00.000000000",
          "2024-06-22T00:00:00.000000000",
          "2024-06-23T00:00:00.000000000",
          "2024-06-24T00:00:00.000000000",
          "2024-06-25T00:00:00.000000000",
          "2024-06-26T00:00:00.000000000",
          "2024-06-27T00:00:00.000000000",
          "2024-06-28T00:00:00.000000000",
          "2024-06-29T00:00:00.000000000",
          "2024-06-30T00:00:00.000000000",
          "2024-07-01T00:00:00.000000000",
          "2024-07-02T00:00:00.000000000",
          "2024-07-03T00:00:00.000000000",
          "2024-07-04T00:00:00.000000000",
          "2024-07-05T00:00:00.000000000",
          "2024-07-06T00:00:00.000000000",
          "2024-07-07T00:00:00.000000000",
          "2024-07-08T00:00:00.000000000",
          "2024-07-09T00:00:00.000000000",
          "2024-07-10T00:00:00.000000000",
          "2024-07-11T00:00:00.000000000",
          "2024-07-12T00:00:00.000000000",
          "2024-07-13T00:00:00.000000000",
          "2024-07-14T00:00:00.000000000",
          "2024-07-15T00:00:00.000000000",
          "2024-07-16T00:00:00.000000000",
          "2024-07-17T00:00:00.000000000",
          "2024-07-18T00:00:00.000000000",
          "2024-07-19T00:00:00.000000000",
          "2024-07-20T00:00:00.000000000",
          "2024-07-21T00:00:00.000000000",
          "2024-07-22T00:00:00.000000000",
          "2024-07-23T00:00:00.000000000",
          "2024-07-24T00:00:00.000000000",
          "2024-07-25T00:00:00.000000000",
          "2024-07-28T00:00:00.000000000",
          "2024-07-29T00:00:00.000000000",
          "2024-07-31T00:00:00.000000000",
          "2024-08-01T00:00:00.000000000",
          "2024-08-05T00:00:00.000000000",
          "2024-08-06T00:00:00.000000000",
          "2024-08-07T00:00:00.000000000",
          "2024-08-08T00:00:00.000000000",
          "2024-08-09T00:00:00.000000000",
          "2024-08-10T00:00:00.000000000",
          "2024-08-11T00:00:00.000000000",
          "2024-08-12T00:00:00.000000000",
          "2024-08-13T00:00:00.000000000",
          "2024-08-15T00:00:00.000000000",
          "2024-08-17T00:00:00.000000000",
          "2024-08-18T00:00:00.000000000",
          "2024-08-19T00:00:00.000000000",
          "2024-08-21T00:00:00.000000000",
          "2024-09-03T00:00:00.000000000",
          "2024-09-23T00:00:00.000000000",
          "2024-10-28T00:00:00.000000000",
          "2024-10-29T00:00:00.000000000",
          "2024-10-30T00:00:00.000000000",
          "2024-10-31T00:00:00.000000000",
          "2024-11-01T00:00:00.000000000",
          "2024-11-02T00:00:00.000000000",
          "2024-11-03T00:00:00.000000000",
          "2024-11-04T00:00:00.000000000",
          "2024-11-05T00:00:00.000000000",
          "2024-11-06T00:00:00.000000000",
          "2024-11-07T00:00:00.000000000",
          "2024-11-08T00:00:00.000000000",
          "2024-11-09T00:00:00.000000000",
          "2024-11-10T00:00:00.000000000",
          "2024-11-11T00:00:00.000000000",
          "2024-11-12T00:00:00.000000000",
          "2024-11-13T00:00:00.000000000",
          "2024-11-18T00:00:00.000000000",
          "2024-11-20T00:00:00.000000000",
          "2024-11-21T00:00:00.000000000",
          "2024-11-22T00:00:00.000000000",
          "2024-11-23T00:00:00.000000000",
          "2024-12-02T00:00:00.000000000",
          "2024-12-03T00:00:00.000000000",
          "2024-12-04T00:00:00.000000000",
          "2024-12-05T00:00:00.000000000",
          "2024-12-06T00:00:00.000000000",
          "2024-12-07T00:00:00.000000000",
          "2024-12-08T00:00:00.000000000",
          "2024-12-09T00:00:00.000000000",
          "2024-12-12T00:00:00.000000000",
          "2024-12-13T00:00:00.000000000",
          "2024-12-14T00:00:00.000000000",
          "2024-12-15T00:00:00.000000000",
          "2024-12-16T00:00:00.000000000",
          "2024-12-17T00:00:00.000000000",
          "2024-12-18T00:00:00.000000000",
          "2024-12-19T00:00:00.000000000",
          "2024-12-20T00:00:00.000000000",
          "2024-12-21T00:00:00.000000000",
          "2024-12-22T00:00:00.000000000",
          "2024-12-23T00:00:00.000000000",
          "2025-01-02T00:00:00.000000000",
          "2025-01-03T00:00:00.000000000",
          "2025-01-04T00:00:00.000000000",
          "2025-01-05T00:00:00.000000000",
          "2025-01-06T00:00:00.000000000",
          "2025-01-07T00:00:00.000000000",
          "2025-01-08T00:00:00.000000000",
          "2025-01-09T00:00:00.000000000",
          "2025-01-10T00:00:00.000000000",
          "2025-01-11T00:00:00.000000000",
          "2025-01-12T00:00:00.000000000",
          "2025-01-13T00:00:00.000000000",
          "2025-01-15T00:00:00.000000000",
          "2025-01-16T00:00:00.000000000",
          "2025-01-17T00:00:00.000000000",
          "2025-01-18T00:00:00.000000000",
          "2025-01-19T00:00:00.000000000",
          "2025-01-20T00:00:00.000000000",
          "2025-01-21T00:00:00.000000000",
          "2025-01-22T00:00:00.000000000",
          "2025-01-23T00:00:00.000000000",
          "2025-01-24T00:00:00.000000000",
          "2025-01-25T00:00:00.000000000",
          "2025-01-26T00:00:00.000000000",
          "2025-01-27T00:00:00.000000000",
          "2025-01-28T00:00:00.000000000",
          "2025-01-29T00:00:00.000000000",
          "2025-01-30T00:00:00.000000000",
          "2025-01-31T00:00:00.000000000",
          "2025-02-01T00:00:00.000000000",
          "2025-02-02T00:00:00.000000000",
          "2025-02-03T00:00:00.000000000",
          "2025-02-04T00:00:00.000000000",
          "2025-02-05T00:00:00.000000000",
          "2025-02-06T00:00:00.000000000",
          "2025-02-07T00:00:00.000000000",
          "2025-02-08T00:00:00.000000000",
          "2025-02-09T00:00:00.000000000",
          "2025-02-10T00:00:00.000000000",
          "2025-02-11T00:00:00.000000000",
          "2025-02-12T00:00:00.000000000",
          "2025-02-13T00:00:00.000000000",
          "2025-02-14T00:00:00.000000000",
          "2025-02-15T00:00:00.000000000",
          "2025-02-16T00:00:00.000000000",
          "2025-02-17T00:00:00.000000000",
          "2025-02-18T00:00:00.000000000",
          "2025-02-19T00:00:00.000000000",
          "2025-02-20T00:00:00.000000000",
          "2025-02-21T00:00:00.000000000",
          "2025-02-22T00:00:00.000000000",
          "2025-02-23T00:00:00.000000000",
          "2025-02-24T00:00:00.000000000",
          "2025-02-25T00:00:00.000000000",
          "2025-02-26T00:00:00.000000000",
          "2025-02-27T00:00:00.000000000",
          "2025-02-28T00:00:00.000000000",
          "2025-03-01T00:00:00.000000000",
          "2025-03-02T00:00:00.000000000",
          "2025-03-03T00:00:00.000000000",
          "2025-03-04T00:00:00.000000000",
          "2025-03-05T00:00:00.000000000",
          "2025-03-06T00:00:00.000000000",
          "2025-03-07T00:00:00.000000000",
          "2025-03-08T00:00:00.000000000",
          "2025-03-09T00:00:00.000000000",
          "2025-03-10T00:00:00.000000000",
          "2025-03-11T00:00:00.000000000",
          "2025-03-12T00:00:00.000000000",
          "2025-03-13T00:00:00.000000000",
          "2025-03-14T00:00:00.000000000",
          "2025-03-15T00:00:00.000000000",
          "2025-03-16T00:00:00.000000000",
          "2025-03-17T00:00:00.000000000",
          "2025-03-18T00:00:00.000000000",
          "2025-03-19T00:00:00.000000000",
          "2025-03-20T00:00:00.000000000",
          "2025-03-21T00:00:00.000000000",
          "2025-03-22T00:00:00.000000000",
          "2025-03-23T00:00:00.000000000",
          "2025-03-24T00:00:00.000000000",
          "2025-03-25T00:00:00.000000000",
          "2025-03-26T00:00:00.000000000",
          "2025-03-27T00:00:00.000000000",
          "2025-03-28T00:00:00.000000000",
          "2025-03-29T00:00:00.000000000",
          "2025-03-30T00:00:00.000000000",
          "2025-03-31T00:00:00.000000000",
          "2025-04-01T00:00:00.000000000",
          "2025-04-02T00:00:00.000000000",
          "2025-04-03T00:00:00.000000000",
          "2025-04-04T00:00:00.000000000",
          "2025-04-05T00:00:00.000000000",
          "2025-04-06T00:00:00.000000000",
          "2025-04-07T00:00:00.000000000",
          "2025-04-08T00:00:00.000000000",
          "2025-04-09T00:00:00.000000000",
          "2025-04-10T00:00:00.000000000",
          "2025-04-11T00:00:00.000000000",
          "2025-04-12T00:00:00.000000000",
          "2025-04-13T00:00:00.000000000",
          "2025-04-14T00:00:00.000000000",
          "2025-04-15T00:00:00.000000000",
          "2025-04-16T00:00:00.000000000",
          "2025-04-17T00:00:00.000000000",
          "2025-04-18T00:00:00.000000000",
          "2025-04-20T00:00:00.000000000",
          "2025-04-21T00:00:00.000000000",
          "2025-04-22T00:00:00.000000000",
          "2025-04-23T00:00:00.000000000",
          "2025-04-24T00:00:00.000000000",
          "2025-04-25T00:00:00.000000000",
          "2025-04-26T00:00:00.000000000",
          "2025-04-27T00:00:00.000000000",
          "2025-04-28T00:00:00.000000000",
          "2025-04-29T00:00:00.000000000",
          "2025-04-30T00:00:00.000000000",
          "2025-05-01T00:00:00.000000000",
          "2025-05-02T00:00:00.000000000",
          "2025-05-06T00:00:00.000000000",
          "2025-05-07T00:00:00.000000000",
          "2025-05-08T00:00:00.000000000",
          "2025-05-09T00:00:00.000000000",
          "2025-05-10T00:00:00.000000000",
          "2025-05-11T00:00:00.000000000",
          "2025-05-12T00:00:00.000000000",
          "2025-05-13T00:00:00.000000000",
          "2025-05-14T00:00:00.000000000",
          "2025-05-15T00:00:00.000000000",
          "2025-05-16T00:00:00.000000000",
          "2025-05-17T00:00:00.000000000",
          "2025-05-18T00:00:00.000000000",
          "2025-05-19T00:00:00.000000000",
          "2025-05-20T00:00:00.000000000",
          "2025-05-21T00:00:00.000000000",
          "2025-05-22T00:00:00.000000000",
          "2025-05-23T00:00:00.000000000",
          "2025-05-24T00:00:00.000000000",
          "2025-05-25T00:00:00.000000000",
          "2025-05-26T00:00:00.000000000",
          "2025-05-27T00:00:00.000000000",
          "2025-05-28T00:00:00.000000000",
          "2025-05-29T00:00:00.000000000",
          "2025-05-30T00:00:00.000000000",
          "2025-05-31T00:00:00.000000000",
          "2025-06-01T00:00:00.000000000",
          "2025-06-02T00:00:00.000000000",
          "2025-06-03T00:00:00.000000000",
          "2025-06-04T00:00:00.000000000",
          "2025-06-05T00:00:00.000000000",
          "2025-06-06T00:00:00.000000000",
          "2025-06-07T00:00:00.000000000",
          "2025-06-08T00:00:00.000000000",
          "2025-06-09T00:00:00.000000000",
          "2025-06-10T00:00:00.000000000",
          "2025-06-11T00:00:00.000000000",
          "2025-06-12T00:00:00.000000000",
          "2025-06-13T00:00:00.000000000",
          "2025-06-23T00:00:00.000000000",
          "2025-06-24T00:00:00.000000000",
          "2025-06-25T00:00:00.000000000",
          "2025-06-26T00:00:00.000000000",
          "2025-06-27T00:00:00.000000000",
          "2025-06-28T00:00:00.000000000",
          "2025-06-29T00:00:00.000000000"
         ],
         "y": {
          "bdata": "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",
          "dtype": "f8"
         }
        },
        {
         "line": {
          "color": "#9D79BC",
          "dash": "dash",
          "width": 2
         },
         "name": "Cumulative Calorie Deficit (kcal)",
         "type": "scatter",
         "x": [
          "2024-03-19T00:00:00.000000000",
          "2024-06-02T00:00:00.000000000",
          "2024-06-03T00:00:00.000000000",
          "2024-06-04T00:00:00.000000000",
          "2024-06-05T00:00:00.000000000",
          "2024-06-06T00:00:00.000000000",
          "2024-06-07T00:00:00.000000000",
          "2024-06-09T00:00:00.000000000",
          "2024-06-10T00:00:00.000000000",
          "2024-06-11T00:00:00.000000000",
          "2024-06-12T00:00:00.000000000",
          "2024-06-13T00:00:00.000000000",
          "2024-06-14T00:00:00.000000000",
          "2024-06-15T00:00:00.000000000",
          "2024-06-16T00:00:00.000000000",
          "2024-06-17T00:00:00.000000000",
          "2024-06-18T00:00:00.000000000",
          "2024-06-19T00:00:00.000000000",
          "2024-06-20T00:00:00.000000000",
          "2024-06-22T00:00:00.000000000",
          "2024-06-23T00:00:00.000000000",
          "2024-06-24T00:00:00.000000000",
          "2024-06-25T00:00:00.000000000",
          "2024-06-26T00:00:00.000000000",
          "2024-06-27T00:00:00.000000000",
          "2024-06-28T00:00:00.000000000",
          "2024-06-29T00:00:00.000000000",
          "2024-06-30T00:00:00.000000000",
          "2024-07-01T00:00:00.000000000",
          "2024-07-02T00:00:00.000000000",
          "2024-07-03T00:00:00.000000000",
          "2024-07-04T00:00:00.000000000",
          "2024-07-05T00:00:00.000000000",
          "2024-07-06T00:00:00.000000000",
          "2024-07-07T00:00:00.000000000",
          "2024-07-08T00:00:00.000000000",
          "2024-07-09T00:00:00.000000000",
          "2024-07-10T00:00:00.000000000",
          "2024-07-11T00:00:00.000000000",
          "2024-07-12T00:00:00.000000000",
          "2024-07-13T00:00:00.000000000",
          "2024-07-14T00:00:00.000000000",
          "2024-07-15T00:00:00.000000000",
          "2024-07-16T00:00:00.000000000",
          "2024-07-17T00:00:00.000000000",
          "2024-07-18T00:00:00.000000000",
          "2024-07-19T00:00:00.000000000",
          "2024-07-20T00:00:00.000000000",
          "2024-07-21T00:00:00.000000000",
          "2024-07-22T00:00:00.000000000",
          "2024-07-23T00:00:00.000000000",
          "2024-07-24T00:00:00.000000000",
          "2024-07-25T00:00:00.000000000",
          "2024-07-28T00:00:00.000000000",
          "2024-07-29T00:00:00.000000000",
          "2024-07-31T00:00:00.000000000",
          "2024-08-01T00:00:00.000000000",
          "2024-08-05T00:00:00.000000000",
          "2024-08-06T00:00:00.000000000",
          "2024-08-07T00:00:00.000000000",
          "2024-08-08T00:00:00.000000000",
          "2024-08-09T00:00:00.000000000",
          "2024-08-10T00:00:00.000000000",
          "2024-08-11T00:00:00.000000000",
          "2024-08-12T00:00:00.000000000",
          "2024-08-13T00:00:00.000000000",
          "2024-08-15T00:00:00.000000000",
          "2024-08-17T00:00:00.000000000",
          "2024-08-18T00:00:00.000000000",
          "2024-08-19T00:00:00.000000000",
          "2024-08-21T00:00:00.000000000",
          "2024-09-03T00:00:00.000000000",
          "2024-09-23T00:00:00.000000000",
          "2024-10-28T00:00:00.000000000",
          "2024-10-29T00:00:00.000000000",
          "2024-10-30T00:00:00.000000000",
          "2024-10-31T00:00:00.000000000",
          "2024-11-01T00:00:00.000000000",
          "2024-11-02T00:00:00.000000000",
          "2024-11-03T00:00:00.000000000",
          "2024-11-04T00:00:00.000000000",
          "2024-11-05T00:00:00.000000000",
          "2024-11-06T00:00:00.000000000",
          "2024-11-07T00:00:00.000000000",
          "2024-11-08T00:00:00.000000000",
          "2024-11-09T00:00:00.000000000",
          "2024-11-10T00:00:00.000000000",
          "2024-11-11T00:00:00.000000000",
          "2024-11-12T00:00:00.000000000",
          "2024-11-13T00:00:00.000000000",
          "2024-11-18T00:00:00.000000000",
          "2024-11-20T00:00:00.000000000",
          "2024-11-21T00:00:00.000000000",
          "2024-11-22T00:00:00.000000000",
          "2024-11-23T00:00:00.000000000",
          "2024-12-02T00:00:00.000000000",
          "2024-12-03T00:00:00.000000000",
          "2024-12-04T00:00:00.000000000",
          "2024-12-05T00:00:00.000000000",
          "2024-12-06T00:00:00.000000000",
          "2024-12-07T00:00:00.000000000",
          "2024-12-08T00:00:00.000000000",
          "2024-12-09T00:00:00.000000000",
          "2024-12-12T00:00:00.000000000",
          "2024-12-13T00:00:00.000000000",
          "2024-12-14T00:00:00.000000000",
          "2024-12-15T00:00:00.000000000",
          "2024-12-16T00:00:00.000000000",
          "2024-12-17T00:00:00.000000000",
          "2024-12-18T00:00:00.000000000",
          "2024-12-19T00:00:00.000000000",
          "2024-12-20T00:00:00.000000000",
          "2024-12-21T00:00:00.000000000",
          "2024-12-22T00:00:00.000000000",
          "2024-12-23T00:00:00.000000000",
          "2025-01-02T00:00:00.000000000",
          "2025-01-03T00:00:00.000000000",
          "2025-01-04T00:00:00.000000000",
          "2025-01-05T00:00:00.000000000",
          "2025-01-06T00:00:00.000000000",
          "2025-01-07T00:00:00.000000000",
          "2025-01-08T00:00:00.000000000",
          "2025-01-09T00:00:00.000000000",
          "2025-01-10T00:00:00.000000000",
          "2025-01-11T00:00:00.000000000",
          "2025-01-12T00:00:00.000000000",
          "2025-01-13T00:00:00.000000000",
          "2025-01-15T00:00:00.000000000",
          "2025-01-16T00:00:00.000000000",
          "2025-01-17T00:00:00.000000000",
          "2025-01-18T00:00:00.000000000",
          "2025-01-19T00:00:00.000000000",
          "2025-01-20T00:00:00.000000000",
          "2025-01-21T00:00:00.000000000",
          "2025-01-22T00:00:00.000000000",
          "2025-01-23T00:00:00.000000000",
          "2025-01-24T00:00:00.000000000",
          "2025-01-25T00:00:00.000000000",
          "2025-01-26T00:00:00.000000000",
          "2025-01-27T00:00:00.000000000",
          "2025-01-28T00:00:00.000000000",
          "2025-01-29T00:00:00.000000000",
          "2025-01-30T00:00:00.000000000",
          "2025-01-31T00:00:00.000000000",
          "2025-02-01T00:00:00.000000000",
          "2025-02-02T00:00:00.000000000",
          "2025-02-03T00:00:00.000000000",
          "2025-02-04T00:00:00.000000000",
          "2025-02-05T00:00:00.000000000",
          "2025-02-06T00:00:00.000000000",
          "2025-02-07T00:00:00.000000000",
          "2025-02-08T00:00:00.000000000",
          "2025-02-09T00:00:00.000000000",
          "2025-02-10T00:00:00.000000000",
          "2025-02-11T00:00:00.000000000",
          "2025-02-12T00:00:00.000000000",
          "2025-02-13T00:00:00.000000000",
          "2025-02-14T00:00:00.000000000",
          "2025-02-15T00:00:00.000000000",
          "2025-02-16T00:00:00.000000000",
          "2025-02-17T00:00:00.000000000",
          "2025-02-18T00:00:00.000000000",
          "2025-02-19T00:00:00.000000000",
          "2025-02-20T00:00:00.000000000",
          "2025-02-21T00:00:00.000000000",
          "2025-02-22T00:00:00.000000000",
          "2025-02-23T00:00:00.000000000",
          "2025-02-24T00:00:00.000000000",
          "2025-02-25T00:00:00.000000000",
          "2025-02-26T00:00:00.000000000",
          "2025-02-27T00:00:00.000000000",
          "2025-02-28T00:00:00.000000000",
          "2025-03-01T00:00:00.000000000",
          "2025-03-02T00:00:00.000000000",
          "2025-03-03T00:00:00.000000000",
          "2025-03-04T00:00:00.000000000",
          "2025-03-05T00:00:00.000000000",
          "2025-03-06T00:00:00.000000000",
          "2025-03-07T00:00:00.000000000",
          "2025-03-08T00:00:00.000000000",
          "2025-03-09T00:00:00.000000000",
          "2025-03-10T00:00:00.000000000",
          "2025-03-11T00:00:00.000000000",
          "2025-03-12T00:00:00.000000000",
          "2025-03-13T00:00:00.000000000",
          "2025-03-14T00:00:00.000000000",
          "2025-03-15T00:00:00.000000000",
          "2025-03-16T00:00:00.000000000",
          "2025-03-17T00:00:00.000000000",
          "2025-03-18T00:00:00.000000000",
          "2025-03-19T00:00:00.000000000",
          "2025-03-20T00:00:00.000000000",
          "2025-03-21T00:00:00.000000000",
          "2025-03-22T00:00:00.000000000",
          "2025-03-23T00:00:00.000000000",
          "2025-03-24T00:00:00.000000000",
          "2025-03-25T00:00:00.000000000",
          "2025-03-26T00:00:00.000000000",
          "2025-03-27T00:00:00.000000000",
          "2025-03-28T00:00:00.000000000",
          "2025-03-29T00:00:00.000000000",
          "2025-03-30T00:00:00.000000000",
          "2025-03-31T00:00:00.000000000",
          "2025-04-01T00:00:00.000000000",
          "2025-04-02T00:00:00.000000000",
          "2025-04-03T00:00:00.000000000",
          "2025-04-04T00:00:00.000000000",
          "2025-04-05T00:00:00.000000000",
          "2025-04-06T00:00:00.000000000",
          "2025-04-07T00:00:00.000000000",
          "2025-04-08T00:00:00.000000000",
          "2025-04-09T00:00:00.000000000",
          "2025-04-10T00:00:00.000000000",
          "2025-04-11T00:00:00.000000000",
          "2025-04-12T00:00:00.000000000",
          "2025-04-13T00:00:00.000000000",
          "2025-04-14T00:00:00.000000000",
          "2025-04-15T00:00:00.000000000",
          "2025-04-16T00:00:00.000000000",
          "2025-04-17T00:00:00.000000000",
          "2025-04-18T00:00:00.000000000",
          "2025-04-20T00:00:00.000000000",
          "2025-04-21T00:00:00.000000000",
          "2025-04-22T00:00:00.000000000",
          "2025-04-23T00:00:00.000000000",
          "2025-04-24T00:00:00.000000000",
          "2025-04-25T00:00:00.000000000",
          "2025-04-26T00:00:00.000000000",
          "2025-04-27T00:00:00.000000000",
          "2025-04-28T00:00:00.000000000",
          "2025-04-29T00:00:00.000000000",
          "2025-04-30T00:00:00.000000000",
          "2025-05-01T00:00:00.000000000",
          "2025-05-02T00:00:00.000000000",
          "2025-05-06T00:00:00.000000000",
          "2025-05-07T00:00:00.000000000",
          "2025-05-08T00:00:00.000000000",
          "2025-05-09T00:00:00.000000000",
          "2025-05-10T00:00:00.000000000",
          "2025-05-11T00:00:00.000000000",
          "2025-05-12T00:00:00.000000000",
          "2025-05-13T00:00:00.000000000",
          "2025-05-14T00:00:00.000000000",
          "2025-05-15T00:00:00.000000000",
          "2025-05-16T00:00:00.000000000",
          "2025-05-17T00:00:00.000000000",
          "2025-05-18T00:00:00.000000000",
          "2025-05-19T00:00:00.000000000",
          "2025-05-20T00:00:00.000000000",
          "2025-05-21T00:00:00.000000000",
          "2025-05-22T00:00:00.000000000",
          "2025-05-23T00:00:00.000000000",
          "2025-05-24T00:00:00.000000000",
          "2025-05-25T00:00:00.000000000",
          "2025-05-26T00:00:00.000000000",
          "2025-05-27T00:00:00.000000000",
          "2025-05-28T00:00:00.000000000",
          "2025-05-29T00:00:00.000000000",
          "2025-05-30T00:00:00.000000000",
          "2025-05-31T00:00:00.000000000",
          "2025-06-01T00:00:00.000000000",
          "2025-06-02T00:00:00.000000000",
          "2025-06-03T00:00:00.000000000",
          "2025-06-04T00:00:00.000000000",
          "2025-06-05T00:00:00.000000000",
          "2025-06-06T00:00:00.000000000",
          "2025-06-07T00:00:00.000000000",
          "2025-06-08T00:00:00.000000000",
          "2025-06-09T00:00:00.000000000",
          "2025-06-10T00:00:00.000000000",
          "2025-06-11T00:00:00.000000000",
          "2025-06-12T00:00:00.000000000",
          "2025-06-13T00:00:00.000000000",
          "2025-06-23T00:00:00.000000000",
          "2025-06-24T00:00:00.000000000",
          "2025-06-25T00:00:00.000000000",
          "2025-06-26T00:00:00.000000000",
          "2025-06-27T00:00:00.000000000",
          "2025-06-28T00:00:00.000000000",
          "2025-06-29T00:00:00.000000000"
         ],
         "y": {
          "bdata": "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",
          "dtype": "f8"
         },
         "yaxis": "y2"
        }
       ],
       "layout": {
        "annotations": [
         {
          "bgcolor": "white",
          "bordercolor": "black",
          "borderwidth": 1,
          "font": {
           "color": "black",
           "size": 14
          },
          "showarrow": false,
          "text": "Pearson r = 0.95, strong correlation",
          "x": 0.99,
          "xref": "paper",
          "y": 0.95,
          "yref": "paper"
         }
        ],
        "font": {
         "size": 14
        },
        "template": {
         "data": {
          "bar": [
           {
            "error_x": {
             "color": "#2a3f5f"
            },
            "error_y": {
             "color": "#2a3f5f"
            },
            "marker": {
             "line": {
              "color": "white",
              "width": 0.5
             },
             "pattern": {
              "fillmode": "overlay",
              "size": 10,
              "solidity": 0.2
             }
            },
            "type": "bar"
           }
          ],
          "barpolar": [
           {
            "marker": {
             "line": {
              "color": "white",
              "width": 0.5
             },
             "pattern": {
              "fillmode": "overlay",
              "size": 10,
              "solidity": 0.2
             }
            },
            "type": "barpolar"
           }
          ],
          "carpet": [
           {
            "aaxis": {
             "endlinecolor": "#2a3f5f",
             "gridcolor": "#C8D4E3",
             "linecolor": "#C8D4E3",
             "minorgridcolor": "#C8D4E3",
             "startlinecolor": "#2a3f5f"
            },
            "baxis": {
             "endlinecolor": "#2a3f5f",
             "gridcolor": "#C8D4E3",
             "linecolor": "#C8D4E3",
             "minorgridcolor": "#C8D4E3",
             "startlinecolor": "#2a3f5f"
            },
            "type": "carpet"
           }
          ],
          "choropleth": [
           {
            "colorbar": {
             "outlinewidth": 0,
             "ticks": ""
            },
            "type": "choropleth"
           }
          ],
          "contour": [
           {
            "colorbar": {
             "outlinewidth": 0,
             "ticks": ""
            },
            "colorscale": [
             [
              0,
              "#0d0887"
             ],
             [
              0.1111111111111111,
              "#46039f"
             ],
             [
              0.2222222222222222,
              "#7201a8"
             ],
             [
              0.3333333333333333,
              "#9c179e"
             ],
             [
              0.4444444444444444,
              "#bd3786"
             ],
             [
              0.5555555555555556,
              "#d8576b"
             ],
             [
              0.6666666666666666,
              "#ed7953"
             ],
             [
              0.7777777777777778,
              "#fb9f3a"
             ],
             [
              0.8888888888888888,
              "#fdca26"
             ],
             [
              1,
              "#f0f921"
             ]
            ],
            "type": "contour"
           }
          ],
          "contourcarpet": [
           {
            "colorbar": {
             "outlinewidth": 0,
             "ticks": ""
            },
            "type": "contourcarpet"
           }
          ],
          "heatmap": [
           {
            "colorbar": {
             "outlinewidth": 0,
             "ticks": ""
            },
            "colorscale": [
             [
              0,
              "#0d0887"
             ],
             [
              0.1111111111111111,
              "#46039f"
             ],
             [
              0.2222222222222222,
              "#7201a8"
             ],
             [
              0.3333333333333333,
              "#9c179e"
             ],
             [
              0.4444444444444444,
              "#bd3786"
             ],
             [
              0.5555555555555556,
              "#d8576b"
             ],
             [
              0.6666666666666666,
              "#ed7953"
             ],
             [
              0.7777777777777778,
              "#fb9f3a"
             ],
             [
              0.8888888888888888,
              "#fdca26"
             ],
             [
              1,
              "#f0f921"
             ]
            ],
            "type": "heatmap"
           }
          ],
          "histogram": [
           {
            "marker": {
             "pattern": {
              "fillmode": "overlay",
              "size": 10,
              "solidity": 0.2
             }
            },
            "type": "histogram"
           }
          ],
          "histogram2d": [
           {
            "colorbar": {
             "outlinewidth": 0,
             "ticks": ""
            },
            "colorscale": [
             [
              0,
              "#0d0887"
             ],
             [
              0.1111111111111111,
              "#46039f"
             ],
             [
              0.2222222222222222,
              "#7201a8"
             ],
             [
              0.3333333333333333,
              "#9c179e"
             ],
             [
              0.4444444444444444,
              "#bd3786"
             ],
             [
              0.5555555555555556,
              "#d8576b"
             ],
             [
              0.6666666666666666,
              "#ed7953"
             ],
             [
              0.7777777777777778,
              "#fb9f3a"
             ],
             [
              0.8888888888888888,
              "#fdca26"
             ],
             [
              1,
              "#f0f921"
             ]
            ],
            "type": "histogram2d"
           }
          ],
          "histogram2dcontour": [
           {
            "colorbar": {
             "outlinewidth": 0,
             "ticks": ""
            },
            "colorscale": [
             [
              0,
              "#0d0887"
             ],
             [
              0.1111111111111111,
              "#46039f"
             ],
             [
              0.2222222222222222,
              "#7201a8"
             ],
             [
              0.3333333333333333,
              "#9c179e"
             ],
             [
              0.4444444444444444,
              "#bd3786"
             ],
             [
              0.5555555555555556,
              "#d8576b"
             ],
             [
              0.6666666666666666,
              "#ed7953"
             ],
             [
              0.7777777777777778,
              "#fb9f3a"
             ],
             [
              0.8888888888888888,
              "#fdca26"
             ],
             [
              1,
              "#f0f921"
             ]
            ],
            "type": "histogram2dcontour"
           }
          ],
          "mesh3d": [
           {
            "colorbar": {
             "outlinewidth": 0,
             "ticks": ""
            },
            "type": "mesh3d"
           }
          ],
          "parcoords": [
           {
            "line": {
             "colorbar": {
              "outlinewidth": 0,
              "ticks": ""
             }
            },
            "type": "parcoords"
           }
          ],
          "pie": [
           {
            "automargin": true,
            "type": "pie"
           }
          ],
          "scatter": [
           {
            "fillpattern": {
             "fillmode": "overlay",
             "size": 10,
             "solidity": 0.2
            },
            "type": "scatter"
           }
          ],
          "scatter3d": [
           {
            "line": {
             "colorbar": {
              "outlinewidth": 0,
              "ticks": ""
             }
            },
            "marker": {
             "colorbar": {
              "outlinewidth": 0,
              "ticks": ""
             }
            },
            "type": "scatter3d"
           }
          ],
          "scattercarpet": [
           {
            "marker": {
             "colorbar": {
              "outlinewidth": 0,
              "ticks": ""
             }
            },
            "type": "scattercarpet"
           }
          ],
          "scattergeo": [
           {
            "marker": {
             "colorbar": {
              "outlinewidth": 0,
              "ticks": ""
             }
            },
            "type": "scattergeo"
           }
          ],
          "scattergl": [
           {
            "marker": {
             "colorbar": {
              "outlinewidth": 0,
              "ticks": ""
             }
            },
            "type": "scattergl"
           }
          ],
          "scattermap": [
           {
            "marker": {
             "colorbar": {
              "outlinewidth": 0,
              "ticks": ""
             }
            },
            "type": "scattermap"
           }
          ],
          "scattermapbox": [
           {
            "marker": {
             "colorbar": {
              "outlinewidth": 0,
              "ticks": ""
             }
            },
            "type": "scattermapbox"
           }
          ],
          "scatterpolar": [
           {
            "marker": {
             "colorbar": {
              "outlinewidth": 0,
              "ticks": ""
             }
            },
            "type": "scatterpolar"
           }
          ],
          "scatterpolargl": [
           {
            "marker": {
             "colorbar": {
              "outlinewidth": 0,
              "ticks": ""
             }
            },
            "type": "scatterpolargl"
           }
          ],
          "scatterternary": [
           {
            "marker": {
             "colorbar": {
              "outlinewidth": 0,
              "ticks": ""
             }
            },
            "type": "scatterternary"
           }
          ],
          "surface": [
           {
            "colorbar": {
             "outlinewidth": 0,
             "ticks": ""
            },
            "colorscale": [
             [
              0,
              "#0d0887"
             ],
             [
              0.1111111111111111,
              "#46039f"
             ],
             [
              0.2222222222222222,
              "#7201a8"
             ],
             [
              0.3333333333333333,
              "#9c179e"
             ],
             [
              0.4444444444444444,
              "#bd3786"
             ],
             [
              0.5555555555555556,
              "#d8576b"
             ],
             [
              0.6666666666666666,
              "#ed7953"
             ],
             [
              0.7777777777777778,
              "#fb9f3a"
             ],
             [
              0.8888888888888888,
              "#fdca26"
             ],
             [
              1,
              "#f0f921"
             ]
            ],
            "type": "surface"
           }
          ],
          "table": [
           {
            "cells": {
             "fill": {
              "color": "#EBF0F8"
             },
             "line": {
              "color": "white"
             }
            },
            "header": {
             "fill": {
              "color": "#C8D4E3"
             },
             "line": {
              "color": "white"
             }
            },
            "type": "table"
           }
          ]
         },
         "layout": {
          "annotationdefaults": {
           "arrowcolor": "#2a3f5f",
           "arrowhead": 0,
           "arrowwidth": 1
          },
          "autotypenumbers": "strict",
          "coloraxis": {
           "colorbar": {
            "outlinewidth": 0,
            "ticks": ""
           }
          },
          "colorscale": {
           "diverging": [
            [
             0,
             "#8e0152"
            ],
            [
             0.1,
             "#c51b7d"
            ],
            [
             0.2,
             "#de77ae"
            ],
            [
             0.3,
             "#f1b6da"
            ],
            [
             0.4,
             "#fde0ef"
            ],
            [
             0.5,
             "#f7f7f7"
            ],
            [
             0.6,
             "#e6f5d0"
            ],
            [
             0.7,
             "#b8e186"
            ],
            [
             0.8,
             "#7fbc41"
            ],
            [
             0.9,
             "#4d9221"
            ],
            [
             1,
             "#276419"
            ]
           ],
           "sequential": [
            [
             0,
             "#0d0887"
            ],
            [
             0.1111111111111111,
             "#46039f"
            ],
            [
             0.2222222222222222,
             "#7201a8"
            ],
            [
             0.3333333333333333,
             "#9c179e"
            ],
            [
             0.4444444444444444,
             "#bd3786"
            ],
            [
             0.5555555555555556,
             "#d8576b"
            ],
            [
             0.6666666666666666,
             "#ed7953"
            ],
            [
             0.7777777777777778,
             "#fb9f3a"
            ],
            [
             0.8888888888888888,
             "#fdca26"
            ],
            [
             1,
             "#f0f921"
            ]
           ],
           "sequentialminus": [
            [
             0,
             "#0d0887"
            ],
            [
             0.1111111111111111,
             "#46039f"
            ],
            [
             0.2222222222222222,
             "#7201a8"
            ],
            [
             0.3333333333333333,
             "#9c179e"
            ],
            [
             0.4444444444444444,
             "#bd3786"
            ],
            [
             0.5555555555555556,
             "#d8576b"
            ],
            [
             0.6666666666666666,
             "#ed7953"
            ],
            [
             0.7777777777777778,
             "#fb9f3a"
            ],
            [
             0.8888888888888888,
             "#fdca26"
            ],
            [
             1,
             "#f0f921"
            ]
           ]
          },
          "colorway": [
           "#636efa",
           "#EF553B",
           "#00cc96",
           "#ab63fa",
           "#FFA15A",
           "#19d3f3",
           "#FF6692",
           "#B6E880",
           "#FF97FF",
           "#FECB52"
          ],
          "font": {
           "color": "#2a3f5f"
          },
          "geo": {
           "bgcolor": "white",
           "lakecolor": "white",
           "landcolor": "white",
           "showlakes": true,
           "showland": true,
           "subunitcolor": "#C8D4E3"
          },
          "hoverlabel": {
           "align": "left"
          },
          "hovermode": "closest",
          "mapbox": {
           "style": "light"
          },
          "paper_bgcolor": "white",
          "plot_bgcolor": "white",
          "polar": {
           "angularaxis": {
            "gridcolor": "#EBF0F8",
            "linecolor": "#EBF0F8",
            "ticks": ""
           },
           "bgcolor": "white",
           "radialaxis": {
            "gridcolor": "#EBF0F8",
            "linecolor": "#EBF0F8",
            "ticks": ""
           }
          },
          "scene": {
           "xaxis": {
            "backgroundcolor": "white",
            "gridcolor": "#DFE8F3",
            "gridwidth": 2,
            "linecolor": "#EBF0F8",
            "showbackground": true,
            "ticks": "",
            "zerolinecolor": "#EBF0F8"
           },
           "yaxis": {
            "backgroundcolor": "white",
            "gridcolor": "#DFE8F3",
            "gridwidth": 2,
            "linecolor": "#EBF0F8",
            "showbackground": true,
            "ticks": "",
            "zerolinecolor": "#EBF0F8"
           },
           "zaxis": {
            "backgroundcolor": "white",
            "gridcolor": "#DFE8F3",
            "gridwidth": 2,
            "linecolor": "#EBF0F8",
            "showbackground": true,
            "ticks": "",
            "zerolinecolor": "#EBF0F8"
           }
          },
          "shapedefaults": {
           "line": {
            "color": "#2a3f5f"
           }
          },
          "ternary": {
           "aaxis": {
            "gridcolor": "#DFE8F3",
            "linecolor": "#A2B1C6",
            "ticks": ""
           },
           "baxis": {
            "gridcolor": "#DFE8F3",
            "linecolor": "#A2B1C6",
            "ticks": ""
           },
           "bgcolor": "white",
           "caxis": {
            "gridcolor": "#DFE8F3",
            "linecolor": "#A2B1C6",
            "ticks": ""
           }
          },
          "title": {
           "x": 0.05
          },
          "xaxis": {
           "automargin": true,
           "gridcolor": "#EBF0F8",
           "linecolor": "#EBF0F8",
           "ticks": "",
           "title": {
            "standoff": 15
           },
           "zerolinecolor": "#EBF0F8",
           "zerolinewidth": 2
          },
          "yaxis": {
           "automargin": true,
           "gridcolor": "#EBF0F8",
           "linecolor": "#EBF0F8",
           "ticks": "",
           "title": {
            "standoff": 15
           },
           "zerolinecolor": "#EBF0F8",
           "zerolinewidth": 2
          }
         }
        },
        "title": {
         "font": {
          "size": 16
         },
         "text": "Weight and Calorie Deficit Over Time",
         "x": 0.5
        },
        "yaxis": {
         "range": [
          60,
          100
         ],
         "title": {
          "text": "Weight (kg)"
         }
        },
        "yaxis2": {
         "overlaying": "y",
         "range": [
          -40000,
          0
         ],
         "side": "right",
         "title": {
          "text": "Calorie deficit (kcal)"
         }
        }
       }
      }
     },
     "metadata": {},
     "output_type": "display_data"
    }
   ],
   "source": [
    "print(df_daily)\n",
    "print(weight_df)\n",
    "\n",
    "df_daily['Date'] = pd.to_datetime(df_daily['Date'],format='%Y-%m-%d')\n",
    "weight_df['Date'] = pd.to_datetime(weight_df['Date'],format='%Y-%m-%d')\n",
    "\n",
    "joined_df = pd.merge(df_daily, weight_df, on='Date',how='left')\n",
    "print(joined_df)\n",
    "\n",
    "joined_df['calorie_deficit'] = joined_df['bmr'] - joined_df['Calories']\n",
    "print(joined_df)\n",
    "\n",
    "fig = go.Figure()\n",
    "x_data = joined_df['Date']\n",
    "y_data = joined_df['Weight']\n",
    "y2_data = joined_df['weekly_avg_weight']\n",
    "\n",
    "fig.add_trace(go.Scatter(x=x_data, y=y_data,name='Weight', line=dict(color='#8CA0D7',width=2)))\n",
    "\n",
    "fig.add_trace(go.Scatter(x=x_data, y=y2_data, mode='markers',name='Weekly average weight', line=dict(color='#91C4F2')))\n",
    "\n",
    "fig.update_layout(\n",
    "    yaxis=dict(title='Weight (kg)', range=[60,100]), \n",
    "    template='plotly_white', \n",
    "    font=dict(size=14), title=dict(text='Weight Over Time', x=0.5, font=dict(size=16))\n",
    "    )\n",
    "\n",
    "fig.show()\n",
    "\n",
    "# Calculating the correlation coefficient between calorie deficit and weight using Pearson correlation coefficient\n",
    "# Creating cumulative sum of data to support correlation\n",
    "\n",
    "joined_df['cumulative_deficit'] = (joined_df['calorie_deficit'] * -1).cumsum()\n",
    "\n",
    "correlation = joined_df['Weight'].corr(joined_df['cumulative_deficit'])\n",
    "print(correlation)\n",
    "print(joined_df)\n",
    "\n",
    "fig = go.Figure()\n",
    "\n",
    "x_data = joined_df['Date']\n",
    "y_data = joined_df['Weight']\n",
    "y2_data = joined_df['cumulative_deficit']\n",
    "\n",
    "fig.add_trace(go.Scatter(x=x_data, y=y_data, name='Weight (kg)', line=dict(color='#8CA0D7',width=2)))\n",
    "fig.add_trace(go.Scatter(x=x_data, y=y2_data, name='Cumulative Calorie Deficit (kcal)',yaxis='y2', line=dict(color='#9D79BC',width=2,dash='dash')))\n",
    "\n",
    "fig.add_annotation(xref='paper', yref='paper', x=0.99, y=0.95, text=f\"Pearson r = {correlation:.2f}, strong correlation\",showarrow=False,\n",
    "                   font=dict(size=14,color='black'), bgcolor='white',bordercolor='black',borderwidth=1)\n",
    "\n",
    "fig.update_layout(\n",
    "    yaxis=dict(title='Weight (kg)', range=[60,100]), \n",
    "    yaxis2=dict(title='Calorie deficit (kcal)',overlaying='y', side='right', range=[-40000,0]),\n",
    "    template='plotly_white', \n",
    "    font=dict(size=14), title=dict(text='Weight and Calorie Deficit Over Time', x=0.5, font=dict(size=16))\n",
    "    )\n",
    "fig.show()\n",
    "\n",
    "\n",
    "\n",
    "\n"
   ]
  },
  {
   "cell_type": "code",
   "execution_count": 179,
   "id": "230c0a73",
   "metadata": {},
   "outputs": [
    {
     "data": {
      "application/vnd.plotly.v1+json": {
       "config": {
        "plotlyServerURL": "https://plot.ly"
       },
       "data": [
        {
         "marker": {
          "color": "#8CA0D7"
         },
         "name": "Calories (kcal)",
         "type": "bar",
         "x": [
          "2024-03-19T00:00:00.000000000",
          "2024-06-02T00:00:00.000000000",
          "2024-06-03T00:00:00.000000000",
          "2024-06-04T00:00:00.000000000",
          "2024-06-05T00:00:00.000000000",
          "2024-06-06T00:00:00.000000000",
          "2024-06-07T00:00:00.000000000",
          "2024-06-09T00:00:00.000000000",
          "2024-06-10T00:00:00.000000000",
          "2024-06-11T00:00:00.000000000",
          "2024-06-12T00:00:00.000000000",
          "2024-06-13T00:00:00.000000000",
          "2024-06-14T00:00:00.000000000",
          "2024-06-15T00:00:00.000000000",
          "2024-06-16T00:00:00.000000000",
          "2024-06-17T00:00:00.000000000",
          "2024-06-18T00:00:00.000000000",
          "2024-06-19T00:00:00.000000000",
          "2024-06-20T00:00:00.000000000",
          "2024-06-22T00:00:00.000000000",
          "2024-06-23T00:00:00.000000000",
          "2024-06-24T00:00:00.000000000",
          "2024-06-25T00:00:00.000000000",
          "2024-06-26T00:00:00.000000000",
          "2024-06-27T00:00:00.000000000",
          "2024-06-28T00:00:00.000000000",
          "2024-06-29T00:00:00.000000000",
          "2024-06-30T00:00:00.000000000",
          "2024-07-01T00:00:00.000000000",
          "2024-07-02T00:00:00.000000000",
          "2024-07-03T00:00:00.000000000",
          "2024-07-04T00:00:00.000000000",
          "2024-07-05T00:00:00.000000000",
          "2024-07-06T00:00:00.000000000",
          "2024-07-07T00:00:00.000000000",
          "2024-07-08T00:00:00.000000000",
          "2024-07-09T00:00:00.000000000",
          "2024-07-10T00:00:00.000000000",
          "2024-07-11T00:00:00.000000000",
          "2024-07-12T00:00:00.000000000",
          "2024-07-13T00:00:00.000000000",
          "2024-07-14T00:00:00.000000000",
          "2024-07-15T00:00:00.000000000",
          "2024-07-16T00:00:00.000000000",
          "2024-07-17T00:00:00.000000000",
          "2024-07-18T00:00:00.000000000",
          "2024-07-19T00:00:00.000000000",
          "2024-07-20T00:00:00.000000000",
          "2024-07-21T00:00:00.000000000",
          "2024-07-22T00:00:00.000000000",
          "2024-07-23T00:00:00.000000000",
          "2024-07-24T00:00:00.000000000",
          "2024-07-25T00:00:00.000000000",
          "2024-07-28T00:00:00.000000000",
          "2024-07-29T00:00:00.000000000",
          "2024-07-31T00:00:00.000000000",
          "2024-08-01T00:00:00.000000000",
          "2024-08-05T00:00:00.000000000",
          "2024-08-06T00:00:00.000000000",
          "2024-08-07T00:00:00.000000000",
          "2024-08-08T00:00:00.000000000",
          "2024-08-09T00:00:00.000000000",
          "2024-08-10T00:00:00.000000000",
          "2024-08-11T00:00:00.000000000",
          "2024-08-12T00:00:00.000000000",
          "2024-08-13T00:00:00.000000000",
          "2024-08-15T00:00:00.000000000",
          "2024-08-17T00:00:00.000000000",
          "2024-08-18T00:00:00.000000000",
          "2024-08-19T00:00:00.000000000",
          "2024-08-21T00:00:00.000000000",
          "2024-09-03T00:00:00.000000000",
          "2024-09-23T00:00:00.000000000",
          "2024-10-28T00:00:00.000000000",
          "2024-10-29T00:00:00.000000000",
          "2024-10-30T00:00:00.000000000",
          "2024-10-31T00:00:00.000000000",
          "2024-11-01T00:00:00.000000000",
          "2024-11-02T00:00:00.000000000",
          "2024-11-03T00:00:00.000000000",
          "2024-11-04T00:00:00.000000000",
          "2024-11-05T00:00:00.000000000",
          "2024-11-06T00:00:00.000000000",
          "2024-11-07T00:00:00.000000000",
          "2024-11-08T00:00:00.000000000",
          "2024-11-09T00:00:00.000000000",
          "2024-11-10T00:00:00.000000000",
          "2024-11-11T00:00:00.000000000",
          "2024-11-12T00:00:00.000000000",
          "2024-11-13T00:00:00.000000000",
          "2024-11-18T00:00:00.000000000",
          "2024-11-20T00:00:00.000000000",
          "2024-11-21T00:00:00.000000000",
          "2024-11-22T00:00:00.000000000",
          "2024-11-23T00:00:00.000000000",
          "2024-12-02T00:00:00.000000000",
          "2024-12-03T00:00:00.000000000",
          "2024-12-04T00:00:00.000000000",
          "2024-12-05T00:00:00.000000000",
          "2024-12-06T00:00:00.000000000",
          "2024-12-07T00:00:00.000000000",
          "2024-12-08T00:00:00.000000000",
          "2024-12-09T00:00:00.000000000",
          "2024-12-12T00:00:00.000000000",
          "2024-12-13T00:00:00.000000000",
          "2024-12-14T00:00:00.000000000",
          "2024-12-15T00:00:00.000000000",
          "2024-12-16T00:00:00.000000000",
          "2024-12-17T00:00:00.000000000",
          "2024-12-18T00:00:00.000000000",
          "2024-12-19T00:00:00.000000000",
          "2024-12-20T00:00:00.000000000",
          "2024-12-21T00:00:00.000000000",
          "2024-12-22T00:00:00.000000000",
          "2024-12-23T00:00:00.000000000",
          "2025-01-02T00:00:00.000000000",
          "2025-01-03T00:00:00.000000000",
          "2025-01-04T00:00:00.000000000",
          "2025-01-05T00:00:00.000000000",
          "2025-01-06T00:00:00.000000000",
          "2025-01-07T00:00:00.000000000",
          "2025-01-08T00:00:00.000000000",
          "2025-01-09T00:00:00.000000000",
          "2025-01-10T00:00:00.000000000",
          "2025-01-11T00:00:00.000000000",
          "2025-01-12T00:00:00.000000000",
          "2025-01-13T00:00:00.000000000",
          "2025-01-15T00:00:00.000000000",
          "2025-01-16T00:00:00.000000000",
          "2025-01-17T00:00:00.000000000",
          "2025-01-18T00:00:00.000000000",
          "2025-01-19T00:00:00.000000000",
          "2025-01-20T00:00:00.000000000",
          "2025-01-21T00:00:00.000000000",
          "2025-01-22T00:00:00.000000000",
          "2025-01-23T00:00:00.000000000",
          "2025-01-24T00:00:00.000000000",
          "2025-01-25T00:00:00.000000000",
          "2025-01-26T00:00:00.000000000",
          "2025-01-27T00:00:00.000000000",
          "2025-01-28T00:00:00.000000000",
          "2025-01-29T00:00:00.000000000",
          "2025-01-30T00:00:00.000000000",
          "2025-01-31T00:00:00.000000000",
          "2025-02-01T00:00:00.000000000",
          "2025-02-02T00:00:00.000000000",
          "2025-02-03T00:00:00.000000000",
          "2025-02-04T00:00:00.000000000",
          "2025-02-05T00:00:00.000000000",
          "2025-02-06T00:00:00.000000000",
          "2025-02-07T00:00:00.000000000",
          "2025-02-08T00:00:00.000000000",
          "2025-02-09T00:00:00.000000000",
          "2025-02-10T00:00:00.000000000",
          "2025-02-11T00:00:00.000000000",
          "2025-02-12T00:00:00.000000000",
          "2025-02-13T00:00:00.000000000",
          "2025-02-14T00:00:00.000000000",
          "2025-02-15T00:00:00.000000000",
          "2025-02-16T00:00:00.000000000",
          "2025-02-17T00:00:00.000000000",
          "2025-02-18T00:00:00.000000000",
          "2025-02-19T00:00:00.000000000",
          "2025-02-20T00:00:00.000000000",
          "2025-02-21T00:00:00.000000000",
          "2025-02-22T00:00:00.000000000",
          "2025-02-23T00:00:00.000000000",
          "2025-02-24T00:00:00.000000000",
          "2025-02-25T00:00:00.000000000",
          "2025-02-26T00:00:00.000000000",
          "2025-02-27T00:00:00.000000000",
          "2025-02-28T00:00:00.000000000",
          "2025-03-01T00:00:00.000000000",
          "2025-03-02T00:00:00.000000000",
          "2025-03-03T00:00:00.000000000",
          "2025-03-04T00:00:00.000000000",
          "2025-03-05T00:00:00.000000000",
          "2025-03-06T00:00:00.000000000",
          "2025-03-07T00:00:00.000000000",
          "2025-03-08T00:00:00.000000000",
          "2025-03-09T00:00:00.000000000",
          "2025-03-10T00:00:00.000000000",
          "2025-03-11T00:00:00.000000000",
          "2025-03-12T00:00:00.000000000",
          "2025-03-13T00:00:00.000000000",
          "2025-03-14T00:00:00.000000000",
          "2025-03-15T00:00:00.000000000",
          "2025-03-16T00:00:00.000000000",
          "2025-03-17T00:00:00.000000000",
          "2025-03-18T00:00:00.000000000",
          "2025-03-19T00:00:00.000000000",
          "2025-03-20T00:00:00.000000000",
          "2025-03-21T00:00:00.000000000",
          "2025-03-22T00:00:00.000000000",
          "2025-03-23T00:00:00.000000000",
          "2025-03-24T00:00:00.000000000",
          "2025-03-25T00:00:00.000000000",
          "2025-03-26T00:00:00.000000000",
          "2025-03-27T00:00:00.000000000",
          "2025-03-28T00:00:00.000000000",
          "2025-03-29T00:00:00.000000000",
          "2025-03-30T00:00:00.000000000",
          "2025-03-31T00:00:00.000000000",
          "2025-04-01T00:00:00.000000000",
          "2025-04-02T00:00:00.000000000",
          "2025-04-03T00:00:00.000000000",
          "2025-04-04T00:00:00.000000000",
          "2025-04-05T00:00:00.000000000",
          "2025-04-06T00:00:00.000000000",
          "2025-04-07T00:00:00.000000000",
          "2025-04-08T00:00:00.000000000",
          "2025-04-09T00:00:00.000000000",
          "2025-04-10T00:00:00.000000000",
          "2025-04-11T00:00:00.000000000",
          "2025-04-12T00:00:00.000000000",
          "2025-04-13T00:00:00.000000000",
          "2025-04-14T00:00:00.000000000",
          "2025-04-15T00:00:00.000000000",
          "2025-04-16T00:00:00.000000000",
          "2025-04-17T00:00:00.000000000",
          "2025-04-18T00:00:00.000000000",
          "2025-04-20T00:00:00.000000000",
          "2025-04-21T00:00:00.000000000",
          "2025-04-22T00:00:00.000000000",
          "2025-04-23T00:00:00.000000000",
          "2025-04-24T00:00:00.000000000",
          "2025-04-25T00:00:00.000000000",
          "2025-04-26T00:00:00.000000000",
          "2025-04-27T00:00:00.000000000",
          "2025-04-28T00:00:00.000000000",
          "2025-04-29T00:00:00.000000000",
          "2025-04-30T00:00:00.000000000",
          "2025-05-01T00:00:00.000000000",
          "2025-05-02T00:00:00.000000000",
          "2025-05-06T00:00:00.000000000",
          "2025-05-07T00:00:00.000000000",
          "2025-05-08T00:00:00.000000000",
          "2025-05-09T00:00:00.000000000",
          "2025-05-10T00:00:00.000000000",
          "2025-05-11T00:00:00.000000000",
          "2025-05-12T00:00:00.000000000",
          "2025-05-13T00:00:00.000000000",
          "2025-05-14T00:00:00.000000000",
          "2025-05-15T00:00:00.000000000",
          "2025-05-16T00:00:00.000000000",
          "2025-05-17T00:00:00.000000000",
          "2025-05-18T00:00:00.000000000",
          "2025-05-19T00:00:00.000000000",
          "2025-05-20T00:00:00.000000000",
          "2025-05-21T00:00:00.000000000",
          "2025-05-22T00:00:00.000000000",
          "2025-05-23T00:00:00.000000000",
          "2025-05-24T00:00:00.000000000",
          "2025-05-25T00:00:00.000000000",
          "2025-05-26T00:00:00.000000000",
          "2025-05-27T00:00:00.000000000",
          "2025-05-28T00:00:00.000000000",
          "2025-05-29T00:00:00.000000000",
          "2025-05-30T00:00:00.000000000",
          "2025-05-31T00:00:00.000000000",
          "2025-06-01T00:00:00.000000000",
          "2025-06-02T00:00:00.000000000",
          "2025-06-03T00:00:00.000000000",
          "2025-06-04T00:00:00.000000000",
          "2025-06-05T00:00:00.000000000",
          "2025-06-06T00:00:00.000000000",
          "2025-06-07T00:00:00.000000000",
          "2025-06-08T00:00:00.000000000",
          "2025-06-09T00:00:00.000000000",
          "2025-06-10T00:00:00.000000000",
          "2025-06-11T00:00:00.000000000",
          "2025-06-12T00:00:00.000000000",
          "2025-06-13T00:00:00.000000000",
          "2025-06-23T00:00:00.000000000",
          "2025-06-24T00:00:00.000000000",
          "2025-06-25T00:00:00.000000000",
          "2025-06-26T00:00:00.000000000",
          "2025-06-27T00:00:00.000000000",
          "2025-06-28T00:00:00.000000000",
          "2025-06-29T00:00:00.000000000"
         ],
         "y": {
          "bdata": "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",
          "dtype": "f8"
         }
        },
        {
         "line": {
          "color": "#9D79BC",
          "dash": "dash",
          "width": 2
         },
         "name": "Goal Calories (kcsl)",
         "type": "scatter",
         "x": [
          "2024-03-19T00:00:00.000000000",
          "2024-06-02T00:00:00.000000000",
          "2024-06-03T00:00:00.000000000",
          "2024-06-04T00:00:00.000000000",
          "2024-06-05T00:00:00.000000000",
          "2024-06-06T00:00:00.000000000",
          "2024-06-07T00:00:00.000000000",
          "2024-06-09T00:00:00.000000000",
          "2024-06-10T00:00:00.000000000",
          "2024-06-11T00:00:00.000000000",
          "2024-06-12T00:00:00.000000000",
          "2024-06-13T00:00:00.000000000",
          "2024-06-14T00:00:00.000000000",
          "2024-06-15T00:00:00.000000000",
          "2024-06-16T00:00:00.000000000",
          "2024-06-17T00:00:00.000000000",
          "2024-06-18T00:00:00.000000000",
          "2024-06-19T00:00:00.000000000",
          "2024-06-20T00:00:00.000000000",
          "2024-06-22T00:00:00.000000000",
          "2024-06-23T00:00:00.000000000",
          "2024-06-24T00:00:00.000000000",
          "2024-06-25T00:00:00.000000000",
          "2024-06-26T00:00:00.000000000",
          "2024-06-27T00:00:00.000000000",
          "2024-06-28T00:00:00.000000000",
          "2024-06-29T00:00:00.000000000",
          "2024-06-30T00:00:00.000000000",
          "2024-07-01T00:00:00.000000000",
          "2024-07-02T00:00:00.000000000",
          "2024-07-03T00:00:00.000000000",
          "2024-07-04T00:00:00.000000000",
          "2024-07-05T00:00:00.000000000",
          "2024-07-06T00:00:00.000000000",
          "2024-07-07T00:00:00.000000000",
          "2024-07-08T00:00:00.000000000",
          "2024-07-09T00:00:00.000000000",
          "2024-07-10T00:00:00.000000000",
          "2024-07-11T00:00:00.000000000",
          "2024-07-12T00:00:00.000000000",
          "2024-07-13T00:00:00.000000000",
          "2024-07-14T00:00:00.000000000",
          "2024-07-15T00:00:00.000000000",
          "2024-07-16T00:00:00.000000000",
          "2024-07-17T00:00:00.000000000",
          "2024-07-18T00:00:00.000000000",
          "2024-07-19T00:00:00.000000000",
          "2024-07-20T00:00:00.000000000",
          "2024-07-21T00:00:00.000000000",
          "2024-07-22T00:00:00.000000000",
          "2024-07-23T00:00:00.000000000",
          "2024-07-24T00:00:00.000000000",
          "2024-07-25T00:00:00.000000000",
          "2024-07-28T00:00:00.000000000",
          "2024-07-29T00:00:00.000000000",
          "2024-07-31T00:00:00.000000000",
          "2024-08-01T00:00:00.000000000",
          "2024-08-05T00:00:00.000000000",
          "2024-08-06T00:00:00.000000000",
          "2024-08-07T00:00:00.000000000",
          "2024-08-08T00:00:00.000000000",
          "2024-08-09T00:00:00.000000000",
          "2024-08-10T00:00:00.000000000",
          "2024-08-11T00:00:00.000000000",
          "2024-08-12T00:00:00.000000000",
          "2024-08-13T00:00:00.000000000",
          "2024-08-15T00:00:00.000000000",
          "2024-08-17T00:00:00.000000000",
          "2024-08-18T00:00:00.000000000",
          "2024-08-19T00:00:00.000000000",
          "2024-08-21T00:00:00.000000000",
          "2024-09-03T00:00:00.000000000",
          "2024-09-23T00:00:00.000000000",
          "2024-10-28T00:00:00.000000000",
          "2024-10-29T00:00:00.000000000",
          "2024-10-30T00:00:00.000000000",
          "2024-10-31T00:00:00.000000000",
          "2024-11-01T00:00:00.000000000",
          "2024-11-02T00:00:00.000000000",
          "2024-11-03T00:00:00.000000000",
          "2024-11-04T00:00:00.000000000",
          "2024-11-05T00:00:00.000000000",
          "2024-11-06T00:00:00.000000000",
          "2024-11-07T00:00:00.000000000",
          "2024-11-08T00:00:00.000000000",
          "2024-11-09T00:00:00.000000000",
          "2024-11-10T00:00:00.000000000",
          "2024-11-11T00:00:00.000000000",
          "2024-11-12T00:00:00.000000000",
          "2024-11-13T00:00:00.000000000",
          "2024-11-18T00:00:00.000000000",
          "2024-11-20T00:00:00.000000000",
          "2024-11-21T00:00:00.000000000",
          "2024-11-22T00:00:00.000000000",
          "2024-11-23T00:00:00.000000000",
          "2024-12-02T00:00:00.000000000",
          "2024-12-03T00:00:00.000000000",
          "2024-12-04T00:00:00.000000000",
          "2024-12-05T00:00:00.000000000",
          "2024-12-06T00:00:00.000000000",
          "2024-12-07T00:00:00.000000000",
          "2024-12-08T00:00:00.000000000",
          "2024-12-09T00:00:00.000000000",
          "2024-12-12T00:00:00.000000000",
          "2024-12-13T00:00:00.000000000",
          "2024-12-14T00:00:00.000000000",
          "2024-12-15T00:00:00.000000000",
          "2024-12-16T00:00:00.000000000",
          "2024-12-17T00:00:00.000000000",
          "2024-12-18T00:00:00.000000000",
          "2024-12-19T00:00:00.000000000",
          "2024-12-20T00:00:00.000000000",
          "2024-12-21T00:00:00.000000000",
          "2024-12-22T00:00:00.000000000",
          "2024-12-23T00:00:00.000000000",
          "2025-01-02T00:00:00.000000000",
          "2025-01-03T00:00:00.000000000",
          "2025-01-04T00:00:00.000000000",
          "2025-01-05T00:00:00.000000000",
          "2025-01-06T00:00:00.000000000",
          "2025-01-07T00:00:00.000000000",
          "2025-01-08T00:00:00.000000000",
          "2025-01-09T00:00:00.000000000",
          "2025-01-10T00:00:00.000000000",
          "2025-01-11T00:00:00.000000000",
          "2025-01-12T00:00:00.000000000",
          "2025-01-13T00:00:00.000000000",
          "2025-01-15T00:00:00.000000000",
          "2025-01-16T00:00:00.000000000",
          "2025-01-17T00:00:00.000000000",
          "2025-01-18T00:00:00.000000000",
          "2025-01-19T00:00:00.000000000",
          "2025-01-20T00:00:00.000000000",
          "2025-01-21T00:00:00.000000000",
          "2025-01-22T00:00:00.000000000",
          "2025-01-23T00:00:00.000000000",
          "2025-01-24T00:00:00.000000000",
          "2025-01-25T00:00:00.000000000",
          "2025-01-26T00:00:00.000000000",
          "2025-01-27T00:00:00.000000000",
          "2025-01-28T00:00:00.000000000",
          "2025-01-29T00:00:00.000000000",
          "2025-01-30T00:00:00.000000000",
          "2025-01-31T00:00:00.000000000",
          "2025-02-01T00:00:00.000000000",
          "2025-02-02T00:00:00.000000000",
          "2025-02-03T00:00:00.000000000",
          "2025-02-04T00:00:00.000000000",
          "2025-02-05T00:00:00.000000000",
          "2025-02-06T00:00:00.000000000",
          "2025-02-07T00:00:00.000000000",
          "2025-02-08T00:00:00.000000000",
          "2025-02-09T00:00:00.000000000",
          "2025-02-10T00:00:00.000000000",
          "2025-02-11T00:00:00.000000000",
          "2025-02-12T00:00:00.000000000",
          "2025-02-13T00:00:00.000000000",
          "2025-02-14T00:00:00.000000000",
          "2025-02-15T00:00:00.000000000",
          "2025-02-16T00:00:00.000000000",
          "2025-02-17T00:00:00.000000000",
          "2025-02-18T00:00:00.000000000",
          "2025-02-19T00:00:00.000000000",
          "2025-02-20T00:00:00.000000000",
          "2025-02-21T00:00:00.000000000",
          "2025-02-22T00:00:00.000000000",
          "2025-02-23T00:00:00.000000000",
          "2025-02-24T00:00:00.000000000",
          "2025-02-25T00:00:00.000000000",
          "2025-02-26T00:00:00.000000000",
          "2025-02-27T00:00:00.000000000",
          "2025-02-28T00:00:00.000000000",
          "2025-03-01T00:00:00.000000000",
          "2025-03-02T00:00:00.000000000",
          "2025-03-03T00:00:00.000000000",
          "2025-03-04T00:00:00.000000000",
          "2025-03-05T00:00:00.000000000",
          "2025-03-06T00:00:00.000000000",
          "2025-03-07T00:00:00.000000000",
          "2025-03-08T00:00:00.000000000",
          "2025-03-09T00:00:00.000000000",
          "2025-03-10T00:00:00.000000000",
          "2025-03-11T00:00:00.000000000",
          "2025-03-12T00:00:00.000000000",
          "2025-03-13T00:00:00.000000000",
          "2025-03-14T00:00:00.000000000",
          "2025-03-15T00:00:00.000000000",
          "2025-03-16T00:00:00.000000000",
          "2025-03-17T00:00:00.000000000",
          "2025-03-18T00:00:00.000000000",
          "2025-03-19T00:00:00.000000000",
          "2025-03-20T00:00:00.000000000",
          "2025-03-21T00:00:00.000000000",
          "2025-03-22T00:00:00.000000000",
          "2025-03-23T00:00:00.000000000",
          "2025-03-24T00:00:00.000000000",
          "2025-03-25T00:00:00.000000000",
          "2025-03-26T00:00:00.000000000",
          "2025-03-27T00:00:00.000000000",
          "2025-03-28T00:00:00.000000000",
          "2025-03-29T00:00:00.000000000",
          "2025-03-30T00:00:00.000000000",
          "2025-03-31T00:00:00.000000000",
          "2025-04-01T00:00:00.000000000",
          "2025-04-02T00:00:00.000000000",
          "2025-04-03T00:00:00.000000000",
          "2025-04-04T00:00:00.000000000",
          "2025-04-05T00:00:00.000000000",
          "2025-04-06T00:00:00.000000000",
          "2025-04-07T00:00:00.000000000",
          "2025-04-08T00:00:00.000000000",
          "2025-04-09T00:00:00.000000000",
          "2025-04-10T00:00:00.000000000",
          "2025-04-11T00:00:00.000000000",
          "2025-04-12T00:00:00.000000000",
          "2025-04-13T00:00:00.000000000",
          "2025-04-14T00:00:00.000000000",
          "2025-04-15T00:00:00.000000000",
          "2025-04-16T00:00:00.000000000",
          "2025-04-17T00:00:00.000000000",
          "2025-04-18T00:00:00.000000000",
          "2025-04-20T00:00:00.000000000",
          "2025-04-21T00:00:00.000000000",
          "2025-04-22T00:00:00.000000000",
          "2025-04-23T00:00:00.000000000",
          "2025-04-24T00:00:00.000000000",
          "2025-04-25T00:00:00.000000000",
          "2025-04-26T00:00:00.000000000",
          "2025-04-27T00:00:00.000000000",
          "2025-04-28T00:00:00.000000000",
          "2025-04-29T00:00:00.000000000",
          "2025-04-30T00:00:00.000000000",
          "2025-05-01T00:00:00.000000000",
          "2025-05-02T00:00:00.000000000",
          "2025-05-06T00:00:00.000000000",
          "2025-05-07T00:00:00.000000000",
          "2025-05-08T00:00:00.000000000",
          "2025-05-09T00:00:00.000000000",
          "2025-05-10T00:00:00.000000000",
          "2025-05-11T00:00:00.000000000",
          "2025-05-12T00:00:00.000000000",
          "2025-05-13T00:00:00.000000000",
          "2025-05-14T00:00:00.000000000",
          "2025-05-15T00:00:00.000000000",
          "2025-05-16T00:00:00.000000000",
          "2025-05-17T00:00:00.000000000",
          "2025-05-18T00:00:00.000000000",
          "2025-05-19T00:00:00.000000000",
          "2025-05-20T00:00:00.000000000",
          "2025-05-21T00:00:00.000000000",
          "2025-05-22T00:00:00.000000000",
          "2025-05-23T00:00:00.000000000",
          "2025-05-24T00:00:00.000000000",
          "2025-05-25T00:00:00.000000000",
          "2025-05-26T00:00:00.000000000",
          "2025-05-27T00:00:00.000000000",
          "2025-05-28T00:00:00.000000000",
          "2025-05-29T00:00:00.000000000",
          "2025-05-30T00:00:00.000000000",
          "2025-05-31T00:00:00.000000000",
          "2025-06-01T00:00:00.000000000",
          "2025-06-02T00:00:00.000000000",
          "2025-06-03T00:00:00.000000000",
          "2025-06-04T00:00:00.000000000",
          "2025-06-05T00:00:00.000000000",
          "2025-06-06T00:00:00.000000000",
          "2025-06-07T00:00:00.000000000",
          "2025-06-08T00:00:00.000000000",
          "2025-06-09T00:00:00.000000000",
          "2025-06-10T00:00:00.000000000",
          "2025-06-11T00:00:00.000000000",
          "2025-06-12T00:00:00.000000000",
          "2025-06-13T00:00:00.000000000",
          "2025-06-23T00:00:00.000000000",
          "2025-06-24T00:00:00.000000000",
          "2025-06-25T00:00:00.000000000",
          "2025-06-26T00:00:00.000000000",
          "2025-06-27T00:00:00.000000000",
          "2025-06-28T00:00:00.000000000",
          "2025-06-29T00:00:00.000000000"
         ],
         "y": {
          "bdata": "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",
          "dtype": "f8"
         }
        },
        {
         "line": {
          "color": "blue",
          "dash": "dash",
          "width": 2
         },
         "name": "rolling avg",
         "type": "scatter",
         "x": [
          "2024-03-19T00:00:00.000000000",
          "2024-06-02T00:00:00.000000000",
          "2024-06-03T00:00:00.000000000",
          "2024-06-04T00:00:00.000000000",
          "2024-06-05T00:00:00.000000000",
          "2024-06-06T00:00:00.000000000",
          "2024-06-07T00:00:00.000000000",
          "2024-06-09T00:00:00.000000000",
          "2024-06-10T00:00:00.000000000",
          "2024-06-11T00:00:00.000000000",
          "2024-06-12T00:00:00.000000000",
          "2024-06-13T00:00:00.000000000",
          "2024-06-14T00:00:00.000000000",
          "2024-06-15T00:00:00.000000000",
          "2024-06-16T00:00:00.000000000",
          "2024-06-17T00:00:00.000000000",
          "2024-06-18T00:00:00.000000000",
          "2024-06-19T00:00:00.000000000",
          "2024-06-20T00:00:00.000000000",
          "2024-06-22T00:00:00.000000000",
          "2024-06-23T00:00:00.000000000",
          "2024-06-24T00:00:00.000000000",
          "2024-06-25T00:00:00.000000000",
          "2024-06-26T00:00:00.000000000",
          "2024-06-27T00:00:00.000000000",
          "2024-06-28T00:00:00.000000000",
          "2024-06-29T00:00:00.000000000",
          "2024-06-30T00:00:00.000000000",
          "2024-07-01T00:00:00.000000000",
          "2024-07-02T00:00:00.000000000",
          "2024-07-03T00:00:00.000000000",
          "2024-07-04T00:00:00.000000000",
          "2024-07-05T00:00:00.000000000",
          "2024-07-06T00:00:00.000000000",
          "2024-07-07T00:00:00.000000000",
          "2024-07-08T00:00:00.000000000",
          "2024-07-09T00:00:00.000000000",
          "2024-07-10T00:00:00.000000000",
          "2024-07-11T00:00:00.000000000",
          "2024-07-12T00:00:00.000000000",
          "2024-07-13T00:00:00.000000000",
          "2024-07-14T00:00:00.000000000",
          "2024-07-15T00:00:00.000000000",
          "2024-07-16T00:00:00.000000000",
          "2024-07-17T00:00:00.000000000",
          "2024-07-18T00:00:00.000000000",
          "2024-07-19T00:00:00.000000000",
          "2024-07-20T00:00:00.000000000",
          "2024-07-21T00:00:00.000000000",
          "2024-07-22T00:00:00.000000000",
          "2024-07-23T00:00:00.000000000",
          "2024-07-24T00:00:00.000000000",
          "2024-07-25T00:00:00.000000000",
          "2024-07-28T00:00:00.000000000",
          "2024-07-29T00:00:00.000000000",
          "2024-07-31T00:00:00.000000000",
          "2024-08-01T00:00:00.000000000",
          "2024-08-05T00:00:00.000000000",
          "2024-08-06T00:00:00.000000000",
          "2024-08-07T00:00:00.000000000",
          "2024-08-08T00:00:00.000000000",
          "2024-08-09T00:00:00.000000000",
          "2024-08-10T00:00:00.000000000",
          "2024-08-11T00:00:00.000000000",
          "2024-08-12T00:00:00.000000000",
          "2024-08-13T00:00:00.000000000",
          "2024-08-15T00:00:00.000000000",
          "2024-08-17T00:00:00.000000000",
          "2024-08-18T00:00:00.000000000",
          "2024-08-19T00:00:00.000000000",
          "2024-08-21T00:00:00.000000000",
          "2024-09-03T00:00:00.000000000",
          "2024-09-23T00:00:00.000000000",
          "2024-10-28T00:00:00.000000000",
          "2024-10-29T00:00:00.000000000",
          "2024-10-30T00:00:00.000000000",
          "2024-10-31T00:00:00.000000000",
          "2024-11-01T00:00:00.000000000",
          "2024-11-02T00:00:00.000000000",
          "2024-11-03T00:00:00.000000000",
          "2024-11-04T00:00:00.000000000",
          "2024-11-05T00:00:00.000000000",
          "2024-11-06T00:00:00.000000000",
          "2024-11-07T00:00:00.000000000",
          "2024-11-08T00:00:00.000000000",
          "2024-11-09T00:00:00.000000000",
          "2024-11-10T00:00:00.000000000",
          "2024-11-11T00:00:00.000000000",
          "2024-11-12T00:00:00.000000000",
          "2024-11-13T00:00:00.000000000",
          "2024-11-18T00:00:00.000000000",
          "2024-11-20T00:00:00.000000000",
          "2024-11-21T00:00:00.000000000",
          "2024-11-22T00:00:00.000000000",
          "2024-11-23T00:00:00.000000000",
          "2024-12-02T00:00:00.000000000",
          "2024-12-03T00:00:00.000000000",
          "2024-12-04T00:00:00.000000000",
          "2024-12-05T00:00:00.000000000",
          "2024-12-06T00:00:00.000000000",
          "2024-12-07T00:00:00.000000000",
          "2024-12-08T00:00:00.000000000",
          "2024-12-09T00:00:00.000000000",
          "2024-12-12T00:00:00.000000000",
          "2024-12-13T00:00:00.000000000",
          "2024-12-14T00:00:00.000000000",
          "2024-12-15T00:00:00.000000000",
          "2024-12-16T00:00:00.000000000",
          "2024-12-17T00:00:00.000000000",
          "2024-12-18T00:00:00.000000000",
          "2024-12-19T00:00:00.000000000",
          "2024-12-20T00:00:00.000000000",
          "2024-12-21T00:00:00.000000000",
          "2024-12-22T00:00:00.000000000",
          "2024-12-23T00:00:00.000000000",
          "2025-01-02T00:00:00.000000000",
          "2025-01-03T00:00:00.000000000",
          "2025-01-04T00:00:00.000000000",
          "2025-01-05T00:00:00.000000000",
          "2025-01-06T00:00:00.000000000",
          "2025-01-07T00:00:00.000000000",
          "2025-01-08T00:00:00.000000000",
          "2025-01-09T00:00:00.000000000",
          "2025-01-10T00:00:00.000000000",
          "2025-01-11T00:00:00.000000000",
          "2025-01-12T00:00:00.000000000",
          "2025-01-13T00:00:00.000000000",
          "2025-01-15T00:00:00.000000000",
          "2025-01-16T00:00:00.000000000",
          "2025-01-17T00:00:00.000000000",
          "2025-01-18T00:00:00.000000000",
          "2025-01-19T00:00:00.000000000",
          "2025-01-20T00:00:00.000000000",
          "2025-01-21T00:00:00.000000000",
          "2025-01-22T00:00:00.000000000",
          "2025-01-23T00:00:00.000000000",
          "2025-01-24T00:00:00.000000000",
          "2025-01-25T00:00:00.000000000",
          "2025-01-26T00:00:00.000000000",
          "2025-01-27T00:00:00.000000000",
          "2025-01-28T00:00:00.000000000",
          "2025-01-29T00:00:00.000000000",
          "2025-01-30T00:00:00.000000000",
          "2025-01-31T00:00:00.000000000",
          "2025-02-01T00:00:00.000000000",
          "2025-02-02T00:00:00.000000000",
          "2025-02-03T00:00:00.000000000",
          "2025-02-04T00:00:00.000000000",
          "2025-02-05T00:00:00.000000000",
          "2025-02-06T00:00:00.000000000",
          "2025-02-07T00:00:00.000000000",
          "2025-02-08T00:00:00.000000000",
          "2025-02-09T00:00:00.000000000",
          "2025-02-10T00:00:00.000000000",
          "2025-02-11T00:00:00.000000000",
          "2025-02-12T00:00:00.000000000",
          "2025-02-13T00:00:00.000000000",
          "2025-02-14T00:00:00.000000000",
          "2025-02-15T00:00:00.000000000",
          "2025-02-16T00:00:00.000000000",
          "2025-02-17T00:00:00.000000000",
          "2025-02-18T00:00:00.000000000",
          "2025-02-19T00:00:00.000000000",
          "2025-02-20T00:00:00.000000000",
          "2025-02-21T00:00:00.000000000",
          "2025-02-22T00:00:00.000000000",
          "2025-02-23T00:00:00.000000000",
          "2025-02-24T00:00:00.000000000",
          "2025-02-25T00:00:00.000000000",
          "2025-02-26T00:00:00.000000000",
          "2025-02-27T00:00:00.000000000",
          "2025-02-28T00:00:00.000000000",
          "2025-03-01T00:00:00.000000000",
          "2025-03-02T00:00:00.000000000",
          "2025-03-03T00:00:00.000000000",
          "2025-03-04T00:00:00.000000000",
          "2025-03-05T00:00:00.000000000",
          "2025-03-06T00:00:00.000000000",
          "2025-03-07T00:00:00.000000000",
          "2025-03-08T00:00:00.000000000",
          "2025-03-09T00:00:00.000000000",
          "2025-03-10T00:00:00.000000000",
          "2025-03-11T00:00:00.000000000",
          "2025-03-12T00:00:00.000000000",
          "2025-03-13T00:00:00.000000000",
          "2025-03-14T00:00:00.000000000",
          "2025-03-15T00:00:00.000000000",
          "2025-03-16T00:00:00.000000000",
          "2025-03-17T00:00:00.000000000",
          "2025-03-18T00:00:00.000000000",
          "2025-03-19T00:00:00.000000000",
          "2025-03-20T00:00:00.000000000",
          "2025-03-21T00:00:00.000000000",
          "2025-03-22T00:00:00.000000000",
          "2025-03-23T00:00:00.000000000",
          "2025-03-24T00:00:00.000000000",
          "2025-03-25T00:00:00.000000000",
          "2025-03-26T00:00:00.000000000",
          "2025-03-27T00:00:00.000000000",
          "2025-03-28T00:00:00.000000000",
          "2025-03-29T00:00:00.000000000",
          "2025-03-30T00:00:00.000000000",
          "2025-03-31T00:00:00.000000000",
          "2025-04-01T00:00:00.000000000",
          "2025-04-02T00:00:00.000000000",
          "2025-04-03T00:00:00.000000000",
          "2025-04-04T00:00:00.000000000",
          "2025-04-05T00:00:00.000000000",
          "2025-04-06T00:00:00.000000000",
          "2025-04-07T00:00:00.000000000",
          "2025-04-08T00:00:00.000000000",
          "2025-04-09T00:00:00.000000000",
          "2025-04-10T00:00:00.000000000",
          "2025-04-11T00:00:00.000000000",
          "2025-04-12T00:00:00.000000000",
          "2025-04-13T00:00:00.000000000",
          "2025-04-14T00:00:00.000000000",
          "2025-04-15T00:00:00.000000000",
          "2025-04-16T00:00:00.000000000",
          "2025-04-17T00:00:00.000000000",
          "2025-04-18T00:00:00.000000000",
          "2025-04-20T00:00:00.000000000",
          "2025-04-21T00:00:00.000000000",
          "2025-04-22T00:00:00.000000000",
          "2025-04-23T00:00:00.000000000",
          "2025-04-24T00:00:00.000000000",
          "2025-04-25T00:00:00.000000000",
          "2025-04-26T00:00:00.000000000",
          "2025-04-27T00:00:00.000000000",
          "2025-04-28T00:00:00.000000000",
          "2025-04-29T00:00:00.000000000",
          "2025-04-30T00:00:00.000000000",
          "2025-05-01T00:00:00.000000000",
          "2025-05-02T00:00:00.000000000",
          "2025-05-06T00:00:00.000000000",
          "2025-05-07T00:00:00.000000000",
          "2025-05-08T00:00:00.000000000",
          "2025-05-09T00:00:00.000000000",
          "2025-05-10T00:00:00.000000000",
          "2025-05-11T00:00:00.000000000",
          "2025-05-12T00:00:00.000000000",
          "2025-05-13T00:00:00.000000000",
          "2025-05-14T00:00:00.000000000",
          "2025-05-15T00:00:00.000000000",
          "2025-05-16T00:00:00.000000000",
          "2025-05-17T00:00:00.000000000",
          "2025-05-18T00:00:00.000000000",
          "2025-05-19T00:00:00.000000000",
          "2025-05-20T00:00:00.000000000",
          "2025-05-21T00:00:00.000000000",
          "2025-05-22T00:00:00.000000000",
          "2025-05-23T00:00:00.000000000",
          "2025-05-24T00:00:00.000000000",
          "2025-05-25T00:00:00.000000000",
          "2025-05-26T00:00:00.000000000",
          "2025-05-27T00:00:00.000000000",
          "2025-05-28T00:00:00.000000000",
          "2025-05-29T00:00:00.000000000",
          "2025-05-30T00:00:00.000000000",
          "2025-05-31T00:00:00.000000000",
          "2025-06-01T00:00:00.000000000",
          "2025-06-02T00:00:00.000000000",
          "2025-06-03T00:00:00.000000000",
          "2025-06-04T00:00:00.000000000",
          "2025-06-05T00:00:00.000000000",
          "2025-06-06T00:00:00.000000000",
          "2025-06-07T00:00:00.000000000",
          "2025-06-08T00:00:00.000000000",
          "2025-06-09T00:00:00.000000000",
          "2025-06-10T00:00:00.000000000",
          "2025-06-11T00:00:00.000000000",
          "2025-06-12T00:00:00.000000000",
          "2025-06-13T00:00:00.000000000",
          "2025-06-23T00:00:00.000000000",
          "2025-06-24T00:00:00.000000000",
          "2025-06-25T00:00:00.000000000",
          "2025-06-26T00:00:00.000000000",
          "2025-06-27T00:00:00.000000000",
          "2025-06-28T00:00:00.000000000",
          "2025-06-29T00:00:00.000000000"
         ],
         "y": {
          "bdata": "AAAAAAAA+H8AAAAAAAD4fwAAAAAAAPh/AAAAAAAA+H8AAAAAAAD4fwAAAAAAAPh/SZIkSZK6lUDiK77iKxSZQLD4iq/4sJhAMjMzMzM3mEBf8RVf8aOYQNNBHdRBPZhAJUmSJEmal0Cv+Iqv+I6WQPiKr/iK25JAmZmZmZmpkkCZmZmZmU2SQDqogzqoJ5JAoQ7qoA5QkkDbtm3btomSQM3MzMzMIpNA6qAO6qBkk0Bu27Zt2+KTQL7iK77iSZRAHtRBHdRhlEDxFV/xFe+TQK/4iq/43JNASZIkSZIglED5iq/4irGUQGdmZmZmOpRAQh3UQR26lECogzqog8SUQAAAAAAA4JVALb7iK74Ol0AAAAAAAIKXQKEO6qAOhJdAi6/4iq+ImEB7xVd8xZ+XQAAAAAAAfJhAUAd1UAc1mEB1UAd1UF2ZQCVJkiRJnphAgzqogzpSmUCKr/iKr+CYQKEO6qAO3JdAiq/4iq/SlkBu27Zt24CVQJIkSZIkXZJAMzMzMzMnlEAP6qAO6giUQA/qoA7qxJNAZ2ZmZma6lUCSJEmSJEuWQJIkSZIk5ZVAgzqogzqmlkBu27Zt27yWQBZf8RVftZRAqIM6qIPElEBf8RVf8SOUQDqogzqoX5RA8RVf8RVzlUAd1EEd1NmWQKEO6qAOrpVA27Zt27bzmEBYfMVXfFOYQAAAAAAAKpdAv+IrvuInlkBJkiRJkmCWQFh8xVd8p5VA8RVf8RUjlUD5iq/4ituSQNVBHdRB0ZJAOqiDOqjdkkC+4iu+4juSQNu2bdu2W5JAJUmSJEmykEBnZmZmZtSQQPmKr/iKjZFACHVQB3VqkkDqoA7qoGqUQKEO6qAO/pVAF1/xFV/DlUChDuqgDrKVQOmgDuqgbJVAt23btm0TlUBf8RVf8dOWQEmSJEmSgJVAqIM6qIP6lEDpoA7qoK6VQA7qoA7qKJdA6aAO6qCSlkBYfMVXfOOWQLD4iq/4pJVAV3zFV3xBlkBnZmZmZoKWQNq2bdu2kZVAZ2ZmZmbElUBYfMVXfLGWQMZXfMVXIpdAvuIrvuIplkBYfMVXfIGWQEmSJEmSZpZAkiRJkiQvlkC+4iu+4h+WQL7iK77iq5ZAMzMzMzOxlkCogzqog8SWQKEO6qAO0pRAoQ7qoA5SlUCpgzqog4KVQC2+4iu+5pVAK77iK74olkDGV3zFVzyXQBZf8RVf95dAB3VQB3VqmEDOzMzMzOyXQNVBHdRBLZhAhTqogzpil0AO6qAO6iaWQLdt27ZtWZRAkiRJkiTFk0BJkiRJkq6UQLdt27Zt5ZRAvuIrvuK5lEDNzMzMzIiVQJmZmZmZe5NAsPiKr/iSkUDUQR3UQQeQQBZf8RVfK5FAvuIrvuKzkEB1UAd1UGeQQLdt27Ztg49ASZIkSZJ8j0C3bdu2bcWTQAAAAAAAhpVAmZmZmZkzk0DxFV/xFWOTQMZXfMVX6JNAqIM6qIPqk0Dbtm3btkGWQL7iK77iI5RAv+IrvuK/k0DGV3zFV4CVQJqZmZmZkZVASZIkSZIUlUBYfMVXfNGTQAd1UAd12JNAi6/4iq/Ik0DxFV/xFT+UQOIrvuIrQJZAdVAHdVBBlkAd1EEd1AeUQB7UQR3U+ZVAAAAAAACclUAAAAAAAC6UQDqogzqoe5RAmZmZmZm5kUDTQR3UQV+RQKEO6qAOwpNAt23btm31kkAe1EEd1FeTQDqogzqo6ZRA8RVf8RWZlEDqoA7qoEaVQKiDOqiDLpVAAAAAAACSlkAmSZIkSfiXQNVBHdRBdZhAQh3UQR0KmUDxFV/xFc2XQJIkSZIkQZhAvuIrvuJfmUAIdVAHdTSYQL7iK77iQ5dAzczMzMzClkC+4iu+4jGWQKEO6qAO2pZAvuIrvuJblkBnZmZmZoCVQDIzMzMzs5VAvuIrvuKzlUDNzMzMzLaVQC2+4iu+2JVAbtu2bdtulkDNzMzMzOqWQDqogzqoB5dAxVd8xVeGmEAHdVAHdZiXQNu2bdu2tZdA00Ed1EG3l0AXX/EVXxeYQMZXfMVXFJhA+Yqv+IodmEBu27Zt29KXQOIrvuIrPphAmpmZmZn/l0DVQR3UQQeYQFAHdVAHs5dA4yu+4isul0ChDuqgDuqWQH3FV3zFx5RAX/EVX/FHlEBf8RVf8beTQH3FV3zFiZRAB3VQB3WylEDNzMzMzEqVQHZQB3VQE5ZAoA7qoA7Ml0DxFV/xFQOYQCu+4iu+DJhA+Yqv+Iq/lkDiK77iK3KXQNVBHdRBX5ZAzczMzMwul0AWX/EVXw+WQEId1EEdcJZAxld8xVdYl0AlSZIkSaqXQCVJkiRJvJZADuqgDuoemEA6qIM6qOWVQOqgDuqggpZASZIkSZJAl0C3bdu2bXmWQLD4iq/44pZA+Iqv+IqPl0CLr/iKrw6YQEEd1EEdWJhAWHzFV3zPl0Bt27Zt2xSXQOqgDuqgmpdA+Yqv+IppmEDjK77iK+yXQCVJkiRJKpdAB3VQB3VAl0AlSZIkSZSXQHZQB3VQyZhAvuIrvuIxmUAlSZIkSeqXQGZmZmZmipdAqIM6qIPClkDFV3zFV5SXQPEVX/EV1ZdAiq/4iq/Sl0CLr/iKrzCXQBdf8RVf05dAsPiKr/iwmUCZmZmZmZuZQNu2bdu2dZlA8RVf8RXnmEDVQR3UQRGZQDIzMzMzaZhAAAAAAAAMlkC+4iu+4nmUQEEd1EEdSJVAOqiDOqjjlEC3bdu2bTGVQCu+4iu+HJRA6qAO6qA2l0B9xVd8xRWZQGdmZmZmfplAQh3UQR0AmUDGV3zFVwSbQAd1UAd1FJtASZIkSZLymkArvuIrvv6ZQBZf8RVfXZlAr/iKr/hymECLr/iKrxCYQLdt27ZtWZZAgzqogzoAlkD5iq/4iquWQJIkSZIkg5VAMzMzMzONlUDTQR3UQReWQCVJkiRJrJZAr/iKr/jWlkBYfMVXfLWXQMZXfMVXwpVAOqiDOqitlUA=",
          "dtype": "f8"
         }
        }
       ],
       "layout": {
        "paper_bgcolor": "white",
        "plot_bgcolor": "white",
        "template": {
         "data": {
          "bar": [
           {
            "error_x": {
             "color": "#2a3f5f"
            },
            "error_y": {
             "color": "#2a3f5f"
            },
            "marker": {
             "line": {
              "color": "#E5ECF6",
              "width": 0.5
             },
             "pattern": {
              "fillmode": "overlay",
              "size": 10,
              "solidity": 0.2
             }
            },
            "type": "bar"
           }
          ],
          "barpolar": [
           {
            "marker": {
             "line": {
              "color": "#E5ECF6",
              "width": 0.5
             },
             "pattern": {
              "fillmode": "overlay",
              "size": 10,
              "solidity": 0.2
             }
            },
            "type": "barpolar"
           }
          ],
          "carpet": [
           {
            "aaxis": {
             "endlinecolor": "#2a3f5f",
             "gridcolor": "white",
             "linecolor": "white",
             "minorgridcolor": "white",
             "startlinecolor": "#2a3f5f"
            },
            "baxis": {
             "endlinecolor": "#2a3f5f",
             "gridcolor": "white",
             "linecolor": "white",
             "minorgridcolor": "white",
             "startlinecolor": "#2a3f5f"
            },
            "type": "carpet"
           }
          ],
          "choropleth": [
           {
            "colorbar": {
             "outlinewidth": 0,
             "ticks": ""
            },
            "type": "choropleth"
           }
          ],
          "contour": [
           {
            "colorbar": {
             "outlinewidth": 0,
             "ticks": ""
            },
            "colorscale": [
             [
              0,
              "#0d0887"
             ],
             [
              0.1111111111111111,
              "#46039f"
             ],
             [
              0.2222222222222222,
              "#7201a8"
             ],
             [
              0.3333333333333333,
              "#9c179e"
             ],
             [
              0.4444444444444444,
              "#bd3786"
             ],
             [
              0.5555555555555556,
              "#d8576b"
             ],
             [
              0.6666666666666666,
              "#ed7953"
             ],
             [
              0.7777777777777778,
              "#fb9f3a"
             ],
             [
              0.8888888888888888,
              "#fdca26"
             ],
             [
              1,
              "#f0f921"
             ]
            ],
            "type": "contour"
           }
          ],
          "contourcarpet": [
           {
            "colorbar": {
             "outlinewidth": 0,
             "ticks": ""
            },
            "type": "contourcarpet"
           }
          ],
          "heatmap": [
           {
            "colorbar": {
             "outlinewidth": 0,
             "ticks": ""
            },
            "colorscale": [
             [
              0,
              "#0d0887"
             ],
             [
              0.1111111111111111,
              "#46039f"
             ],
             [
              0.2222222222222222,
              "#7201a8"
             ],
             [
              0.3333333333333333,
              "#9c179e"
             ],
             [
              0.4444444444444444,
              "#bd3786"
             ],
             [
              0.5555555555555556,
              "#d8576b"
             ],
             [
              0.6666666666666666,
              "#ed7953"
             ],
             [
              0.7777777777777778,
              "#fb9f3a"
             ],
             [
              0.8888888888888888,
              "#fdca26"
             ],
             [
              1,
              "#f0f921"
             ]
            ],
            "type": "heatmap"
           }
          ],
          "histogram": [
           {
            "marker": {
             "pattern": {
              "fillmode": "overlay",
              "size": 10,
              "solidity": 0.2
             }
            },
            "type": "histogram"
           }
          ],
          "histogram2d": [
           {
            "colorbar": {
             "outlinewidth": 0,
             "ticks": ""
            },
            "colorscale": [
             [
              0,
              "#0d0887"
             ],
             [
              0.1111111111111111,
              "#46039f"
             ],
             [
              0.2222222222222222,
              "#7201a8"
             ],
             [
              0.3333333333333333,
              "#9c179e"
             ],
             [
              0.4444444444444444,
              "#bd3786"
             ],
             [
              0.5555555555555556,
              "#d8576b"
             ],
             [
              0.6666666666666666,
              "#ed7953"
             ],
             [
              0.7777777777777778,
              "#fb9f3a"
             ],
             [
              0.8888888888888888,
              "#fdca26"
             ],
             [
              1,
              "#f0f921"
             ]
            ],
            "type": "histogram2d"
           }
          ],
          "histogram2dcontour": [
           {
            "colorbar": {
             "outlinewidth": 0,
             "ticks": ""
            },
            "colorscale": [
             [
              0,
              "#0d0887"
             ],
             [
              0.1111111111111111,
              "#46039f"
             ],
             [
              0.2222222222222222,
              "#7201a8"
             ],
             [
              0.3333333333333333,
              "#9c179e"
             ],
             [
              0.4444444444444444,
              "#bd3786"
             ],
             [
              0.5555555555555556,
              "#d8576b"
             ],
             [
              0.6666666666666666,
              "#ed7953"
             ],
             [
              0.7777777777777778,
              "#fb9f3a"
             ],
             [
              0.8888888888888888,
              "#fdca26"
             ],
             [
              1,
              "#f0f921"
             ]
            ],
            "type": "histogram2dcontour"
           }
          ],
          "mesh3d": [
           {
            "colorbar": {
             "outlinewidth": 0,
             "ticks": ""
            },
            "type": "mesh3d"
           }
          ],
          "parcoords": [
           {
            "line": {
             "colorbar": {
              "outlinewidth": 0,
              "ticks": ""
             }
            },
            "type": "parcoords"
           }
          ],
          "pie": [
           {
            "automargin": true,
            "type": "pie"
           }
          ],
          "scatter": [
           {
            "fillpattern": {
             "fillmode": "overlay",
             "size": 10,
             "solidity": 0.2
            },
            "type": "scatter"
           }
          ],
          "scatter3d": [
           {
            "line": {
             "colorbar": {
              "outlinewidth": 0,
              "ticks": ""
             }
            },
            "marker": {
             "colorbar": {
              "outlinewidth": 0,
              "ticks": ""
             }
            },
            "type": "scatter3d"
           }
          ],
          "scattercarpet": [
           {
            "marker": {
             "colorbar": {
              "outlinewidth": 0,
              "ticks": ""
             }
            },
            "type": "scattercarpet"
           }
          ],
          "scattergeo": [
           {
            "marker": {
             "colorbar": {
              "outlinewidth": 0,
              "ticks": ""
             }
            },
            "type": "scattergeo"
           }
          ],
          "scattergl": [
           {
            "marker": {
             "colorbar": {
              "outlinewidth": 0,
              "ticks": ""
             }
            },
            "type": "scattergl"
           }
          ],
          "scattermap": [
           {
            "marker": {
             "colorbar": {
              "outlinewidth": 0,
              "ticks": ""
             }
            },
            "type": "scattermap"
           }
          ],
          "scattermapbox": [
           {
            "marker": {
             "colorbar": {
              "outlinewidth": 0,
              "ticks": ""
             }
            },
            "type": "scattermapbox"
           }
          ],
          "scatterpolar": [
           {
            "marker": {
             "colorbar": {
              "outlinewidth": 0,
              "ticks": ""
             }
            },
            "type": "scatterpolar"
           }
          ],
          "scatterpolargl": [
           {
            "marker": {
             "colorbar": {
              "outlinewidth": 0,
              "ticks": ""
             }
            },
            "type": "scatterpolargl"
           }
          ],
          "scatterternary": [
           {
            "marker": {
             "colorbar": {
              "outlinewidth": 0,
              "ticks": ""
             }
            },
            "type": "scatterternary"
           }
          ],
          "surface": [
           {
            "colorbar": {
             "outlinewidth": 0,
             "ticks": ""
            },
            "colorscale": [
             [
              0,
              "#0d0887"
             ],
             [
              0.1111111111111111,
              "#46039f"
             ],
             [
              0.2222222222222222,
              "#7201a8"
             ],
             [
              0.3333333333333333,
              "#9c179e"
             ],
             [
              0.4444444444444444,
              "#bd3786"
             ],
             [
              0.5555555555555556,
              "#d8576b"
             ],
             [
              0.6666666666666666,
              "#ed7953"
             ],
             [
              0.7777777777777778,
              "#fb9f3a"
             ],
             [
              0.8888888888888888,
              "#fdca26"
             ],
             [
              1,
              "#f0f921"
             ]
            ],
            "type": "surface"
           }
          ],
          "table": [
           {
            "cells": {
             "fill": {
              "color": "#EBF0F8"
             },
             "line": {
              "color": "white"
             }
            },
            "header": {
             "fill": {
              "color": "#C8D4E3"
             },
             "line": {
              "color": "white"
             }
            },
            "type": "table"
           }
          ]
         },
         "layout": {
          "annotationdefaults": {
           "arrowcolor": "#2a3f5f",
           "arrowhead": 0,
           "arrowwidth": 1
          },
          "autotypenumbers": "strict",
          "coloraxis": {
           "colorbar": {
            "outlinewidth": 0,
            "ticks": ""
           }
          },
          "colorscale": {
           "diverging": [
            [
             0,
             "#8e0152"
            ],
            [
             0.1,
             "#c51b7d"
            ],
            [
             0.2,
             "#de77ae"
            ],
            [
             0.3,
             "#f1b6da"
            ],
            [
             0.4,
             "#fde0ef"
            ],
            [
             0.5,
             "#f7f7f7"
            ],
            [
             0.6,
             "#e6f5d0"
            ],
            [
             0.7,
             "#b8e186"
            ],
            [
             0.8,
             "#7fbc41"
            ],
            [
             0.9,
             "#4d9221"
            ],
            [
             1,
             "#276419"
            ]
           ],
           "sequential": [
            [
             0,
             "#0d0887"
            ],
            [
             0.1111111111111111,
             "#46039f"
            ],
            [
             0.2222222222222222,
             "#7201a8"
            ],
            [
             0.3333333333333333,
             "#9c179e"
            ],
            [
             0.4444444444444444,
             "#bd3786"
            ],
            [
             0.5555555555555556,
             "#d8576b"
            ],
            [
             0.6666666666666666,
             "#ed7953"
            ],
            [
             0.7777777777777778,
             "#fb9f3a"
            ],
            [
             0.8888888888888888,
             "#fdca26"
            ],
            [
             1,
             "#f0f921"
            ]
           ],
           "sequentialminus": [
            [
             0,
             "#0d0887"
            ],
            [
             0.1111111111111111,
             "#46039f"
            ],
            [
             0.2222222222222222,
             "#7201a8"
            ],
            [
             0.3333333333333333,
             "#9c179e"
            ],
            [
             0.4444444444444444,
             "#bd3786"
            ],
            [
             0.5555555555555556,
             "#d8576b"
            ],
            [
             0.6666666666666666,
             "#ed7953"
            ],
            [
             0.7777777777777778,
             "#fb9f3a"
            ],
            [
             0.8888888888888888,
             "#fdca26"
            ],
            [
             1,
             "#f0f921"
            ]
           ]
          },
          "colorway": [
           "#636efa",
           "#EF553B",
           "#00cc96",
           "#ab63fa",
           "#FFA15A",
           "#19d3f3",
           "#FF6692",
           "#B6E880",
           "#FF97FF",
           "#FECB52"
          ],
          "font": {
           "color": "#2a3f5f"
          },
          "geo": {
           "bgcolor": "white",
           "lakecolor": "white",
           "landcolor": "#E5ECF6",
           "showlakes": true,
           "showland": true,
           "subunitcolor": "white"
          },
          "hoverlabel": {
           "align": "left"
          },
          "hovermode": "closest",
          "mapbox": {
           "style": "light"
          },
          "paper_bgcolor": "white",
          "plot_bgcolor": "#E5ECF6",
          "polar": {
           "angularaxis": {
            "gridcolor": "white",
            "linecolor": "white",
            "ticks": ""
           },
           "bgcolor": "#E5ECF6",
           "radialaxis": {
            "gridcolor": "white",
            "linecolor": "white",
            "ticks": ""
           }
          },
          "scene": {
           "xaxis": {
            "backgroundcolor": "#E5ECF6",
            "gridcolor": "white",
            "gridwidth": 2,
            "linecolor": "white",
            "showbackground": true,
            "ticks": "",
            "zerolinecolor": "white"
           },
           "yaxis": {
            "backgroundcolor": "#E5ECF6",
            "gridcolor": "white",
            "gridwidth": 2,
            "linecolor": "white",
            "showbackground": true,
            "ticks": "",
            "zerolinecolor": "white"
           },
           "zaxis": {
            "backgroundcolor": "#E5ECF6",
            "gridcolor": "white",
            "gridwidth": 2,
            "linecolor": "white",
            "showbackground": true,
            "ticks": "",
            "zerolinecolor": "white"
           }
          },
          "shapedefaults": {
           "line": {
            "color": "#2a3f5f"
           }
          },
          "ternary": {
           "aaxis": {
            "gridcolor": "white",
            "linecolor": "white",
            "ticks": ""
           },
           "baxis": {
            "gridcolor": "white",
            "linecolor": "white",
            "ticks": ""
           },
           "bgcolor": "#E5ECF6",
           "caxis": {
            "gridcolor": "white",
            "linecolor": "white",
            "ticks": ""
           }
          },
          "title": {
           "x": 0.05
          },
          "xaxis": {
           "automargin": true,
           "gridcolor": "white",
           "linecolor": "white",
           "ticks": "",
           "title": {
            "standoff": 15
           },
           "zerolinecolor": "white",
           "zerolinewidth": 2
          },
          "yaxis": {
           "automargin": true,
           "gridcolor": "white",
           "linecolor": "white",
           "ticks": "",
           "title": {
            "standoff": 15
           },
           "zerolinecolor": "white",
           "zerolinewidth": 2
          }
         }
        }
       }
      }
     },
     "metadata": {},
     "output_type": "display_data"
    }
   ],
   "source": [
    "\n",
    "df_daily['Date'] = pd.to_datetime(df_daily['Date'],format='%Y-%m-%d')\n",
    "weight_df['Date'] = pd.to_datetime(weight_df['Date'],format='%Y-%m-%d')\n",
    "\n",
    "joined_df = pd.merge(df_daily, weight_df, on='Date',how='left')\n",
    "# joined_df['calorie_deficit'] = joined_df['bmr'] - joined_df['Calories']\n",
    "# joined_df['cumulative_deficit'] = (joined_df['calorie_deficit'] * -1).cumsum()\n",
    "joined_df['Calories weekly rolling'] = joined_df['Calories'].rolling(window=7).mean()\n",
    "\n",
    "\n",
    "fig = go.Figure()\n",
    "\n",
    "joined_df['Calorie goal'] = joined_df['bmr'] - 300\n",
    "\n",
    "x_data = joined_df['Date']\n",
    "y_data = joined_df['Calories']\n",
    "y2_data = joined_df['Calorie goal']\n",
    "y3_data = joined_df['Calories weekly rolling']\n",
    "\n",
    "fig.add_trace(go.Bar(x=x_data, y=y_data, name='Calories (kcal)', marker=dict(color='#8CA0D7')))\n",
    "fig.add_trace(go.Scatter(x=x_data, y=y2_data, name='Goal Calories (kcsl)', line=dict(color='#9D79BC',width=2,dash='dash')))\n",
    "fig.add_trace(go.Scatter(x=x_data, y=y3_data, name='rolling avg', line=dict(color='blue',width=2,dash='dash')))\n",
    "fig.update_layout(plot_bgcolor='white',paper_bgcolor='white')\n",
    "fig.show()"
   ]
  },
  {
   "cell_type": "markdown",
   "id": "a42f07e2",
   "metadata": {},
   "source": [
    "# Macronutrient Breakdown\n"
   ]
  },
  {
   "cell_type": "code",
   "execution_count": 180,
   "id": "95f8cdfc",
   "metadata": {},
   "outputs": [
    {
     "name": "stdout",
     "output_type": "stream",
     "text": [
      "            Date       Meal  Calories  Fat (g)  Saturated Fat  \\\n",
      "10    2024-03-19  Breakfast     651.7     28.6           10.6   \n",
      "11    2024-03-19     Dinner     552.2     20.6            8.8   \n",
      "24    2024-06-02  Breakfast      78.0      4.3            2.8   \n",
      "25    2024-06-02     Dinner     812.8     40.5           12.9   \n",
      "26    2024-06-02      Lunch     505.7     22.0            3.8   \n",
      "...          ...        ...       ...      ...            ...   \n",
      "1079  2025-06-28      Lunch     483.0     19.8            9.1   \n",
      "1080  2025-06-29  Breakfast     278.4     13.7            6.0   \n",
      "1081  2025-06-29     Dinner     585.4     31.4            5.2   \n",
      "1082  2025-06-29      Lunch     449.6     19.9            6.4   \n",
      "1083  2025-06-29     Snacks     155.0     10.0            8.3   \n",
      "\n",
      "      Polyunsaturated Fat  Monounsaturated Fat  Trans Fat  Cholesterol  \\\n",
      "10                    2.8                  5.1        0.0        137.7   \n",
      "11                    0.4                  1.6        0.0         19.5   \n",
      "24                    0.0                  0.0        0.0          0.0   \n",
      "25                    4.6                 10.1        0.0        202.0   \n",
      "26                    0.1                  0.0        0.0          0.0   \n",
      "...                   ...                  ...        ...          ...   \n",
      "1079                  0.0                  0.0        0.0          0.0   \n",
      "1080                  0.0                  0.0        0.0          0.0   \n",
      "1081                  0.0                  0.0        0.0          0.0   \n",
      "1082                  0.0                  0.0        0.0         45.0   \n",
      "1083                  0.0                  0.0        0.0          0.0   \n",
      "\n",
      "      Sodium (mg)  ...  zero_calorie  zero_protein  zero_carbs  zero_fats  \\\n",
      "10         1029.8  ...         False         False       False      False   \n",
      "11         1787.6  ...         False         False       False      False   \n",
      "24           48.0  ...         False         False       False      False   \n",
      "25         1482.6  ...         False         False       False      False   \n",
      "26         1633.2  ...         False         False       False      False   \n",
      "...           ...  ...           ...           ...         ...        ...   \n",
      "1079       7502.3  ...         False         False       False      False   \n",
      "1080        292.0  ...         False         False       False      False   \n",
      "1081        924.7  ...         False         False       False      False   \n",
      "1082       1356.0  ...         False         False       False      False   \n",
      "1083         30.0  ...         False         False       False      False   \n",
      "\n",
      "      cal_macro_discrepancy  macro_pct_diff  macro_mismatch  likely_alcohol  \\\n",
      "10                    -14.1        0.021636           False           False   \n",
      "11                    -25.2        0.045636           False           False   \n",
      "24                     -1.9        0.024359           False           False   \n",
      "25                    -20.9        0.025714           False           False   \n",
      "26                    -24.7        0.048843           False           False   \n",
      "...                     ...             ...             ...             ...   \n",
      "1079                  -17.2        0.035611           False           False   \n",
      "1080                   -4.5        0.016164           False           False   \n",
      "1081                   -5.6        0.009566           False           False   \n",
      "1082                    2.9        0.006450           False           False   \n",
      "1083                    1.8        0.011613           False           False   \n",
      "\n",
      "      Estimated Alcohol (g)  missing_main_meal  \n",
      "10                      0.0              False  \n",
      "11                      0.0              False  \n",
      "24                      0.0              False  \n",
      "25                      0.0              False  \n",
      "26                      0.0              False  \n",
      "...                     ...                ...  \n",
      "1079                    0.0              False  \n",
      "1080                    0.0              False  \n",
      "1081                    0.0              False  \n",
      "1082                    0.0              False  \n",
      "1083                    0.0              False  \n",
      "\n",
      "[978 rows x 30 columns]\n"
     ]
    },
    {
     "data": {
      "application/vnd.plotly.v1+json": {
       "config": {
        "plotlyServerURL": "https://plot.ly"
       },
       "data": [
        {
         "hoverinfo": "label+percent",
         "labels": [
          "Carbs (g)",
          "Protein (g)",
          "Fats (g)"
         ],
         "marker": {
          "colors": [
           "91C4F2",
           "9D79BC",
           "8CA0D7"
          ]
         },
         "textinfo": "label+value",
         "type": "pie",
         "values": [
          128.3282142857143,
          79.91714285714285,
          63.83714285714285
         ]
        }
       ],
       "layout": {
        "template": {
         "data": {
          "bar": [
           {
            "error_x": {
             "color": "#2a3f5f"
            },
            "error_y": {
             "color": "#2a3f5f"
            },
            "marker": {
             "line": {
              "color": "#E5ECF6",
              "width": 0.5
             },
             "pattern": {
              "fillmode": "overlay",
              "size": 10,
              "solidity": 0.2
             }
            },
            "type": "bar"
           }
          ],
          "barpolar": [
           {
            "marker": {
             "line": {
              "color": "#E5ECF6",
              "width": 0.5
             },
             "pattern": {
              "fillmode": "overlay",
              "size": 10,
              "solidity": 0.2
             }
            },
            "type": "barpolar"
           }
          ],
          "carpet": [
           {
            "aaxis": {
             "endlinecolor": "#2a3f5f",
             "gridcolor": "white",
             "linecolor": "white",
             "minorgridcolor": "white",
             "startlinecolor": "#2a3f5f"
            },
            "baxis": {
             "endlinecolor": "#2a3f5f",
             "gridcolor": "white",
             "linecolor": "white",
             "minorgridcolor": "white",
             "startlinecolor": "#2a3f5f"
            },
            "type": "carpet"
           }
          ],
          "choropleth": [
           {
            "colorbar": {
             "outlinewidth": 0,
             "ticks": ""
            },
            "type": "choropleth"
           }
          ],
          "contour": [
           {
            "colorbar": {
             "outlinewidth": 0,
             "ticks": ""
            },
            "colorscale": [
             [
              0,
              "#0d0887"
             ],
             [
              0.1111111111111111,
              "#46039f"
             ],
             [
              0.2222222222222222,
              "#7201a8"
             ],
             [
              0.3333333333333333,
              "#9c179e"
             ],
             [
              0.4444444444444444,
              "#bd3786"
             ],
             [
              0.5555555555555556,
              "#d8576b"
             ],
             [
              0.6666666666666666,
              "#ed7953"
             ],
             [
              0.7777777777777778,
              "#fb9f3a"
             ],
             [
              0.8888888888888888,
              "#fdca26"
             ],
             [
              1,
              "#f0f921"
             ]
            ],
            "type": "contour"
           }
          ],
          "contourcarpet": [
           {
            "colorbar": {
             "outlinewidth": 0,
             "ticks": ""
            },
            "type": "contourcarpet"
           }
          ],
          "heatmap": [
           {
            "colorbar": {
             "outlinewidth": 0,
             "ticks": ""
            },
            "colorscale": [
             [
              0,
              "#0d0887"
             ],
             [
              0.1111111111111111,
              "#46039f"
             ],
             [
              0.2222222222222222,
              "#7201a8"
             ],
             [
              0.3333333333333333,
              "#9c179e"
             ],
             [
              0.4444444444444444,
              "#bd3786"
             ],
             [
              0.5555555555555556,
              "#d8576b"
             ],
             [
              0.6666666666666666,
              "#ed7953"
             ],
             [
              0.7777777777777778,
              "#fb9f3a"
             ],
             [
              0.8888888888888888,
              "#fdca26"
             ],
             [
              1,
              "#f0f921"
             ]
            ],
            "type": "heatmap"
           }
          ],
          "histogram": [
           {
            "marker": {
             "pattern": {
              "fillmode": "overlay",
              "size": 10,
              "solidity": 0.2
             }
            },
            "type": "histogram"
           }
          ],
          "histogram2d": [
           {
            "colorbar": {
             "outlinewidth": 0,
             "ticks": ""
            },
            "colorscale": [
             [
              0,
              "#0d0887"
             ],
             [
              0.1111111111111111,
              "#46039f"
             ],
             [
              0.2222222222222222,
              "#7201a8"
             ],
             [
              0.3333333333333333,
              "#9c179e"
             ],
             [
              0.4444444444444444,
              "#bd3786"
             ],
             [
              0.5555555555555556,
              "#d8576b"
             ],
             [
              0.6666666666666666,
              "#ed7953"
             ],
             [
              0.7777777777777778,
              "#fb9f3a"
             ],
             [
              0.8888888888888888,
              "#fdca26"
             ],
             [
              1,
              "#f0f921"
             ]
            ],
            "type": "histogram2d"
           }
          ],
          "histogram2dcontour": [
           {
            "colorbar": {
             "outlinewidth": 0,
             "ticks": ""
            },
            "colorscale": [
             [
              0,
              "#0d0887"
             ],
             [
              0.1111111111111111,
              "#46039f"
             ],
             [
              0.2222222222222222,
              "#7201a8"
             ],
             [
              0.3333333333333333,
              "#9c179e"
             ],
             [
              0.4444444444444444,
              "#bd3786"
             ],
             [
              0.5555555555555556,
              "#d8576b"
             ],
             [
              0.6666666666666666,
              "#ed7953"
             ],
             [
              0.7777777777777778,
              "#fb9f3a"
             ],
             [
              0.8888888888888888,
              "#fdca26"
             ],
             [
              1,
              "#f0f921"
             ]
            ],
            "type": "histogram2dcontour"
           }
          ],
          "mesh3d": [
           {
            "colorbar": {
             "outlinewidth": 0,
             "ticks": ""
            },
            "type": "mesh3d"
           }
          ],
          "parcoords": [
           {
            "line": {
             "colorbar": {
              "outlinewidth": 0,
              "ticks": ""
             }
            },
            "type": "parcoords"
           }
          ],
          "pie": [
           {
            "automargin": true,
            "type": "pie"
           }
          ],
          "scatter": [
           {
            "fillpattern": {
             "fillmode": "overlay",
             "size": 10,
             "solidity": 0.2
            },
            "type": "scatter"
           }
          ],
          "scatter3d": [
           {
            "line": {
             "colorbar": {
              "outlinewidth": 0,
              "ticks": ""
             }
            },
            "marker": {
             "colorbar": {
              "outlinewidth": 0,
              "ticks": ""
             }
            },
            "type": "scatter3d"
           }
          ],
          "scattercarpet": [
           {
            "marker": {
             "colorbar": {
              "outlinewidth": 0,
              "ticks": ""
             }
            },
            "type": "scattercarpet"
           }
          ],
          "scattergeo": [
           {
            "marker": {
             "colorbar": {
              "outlinewidth": 0,
              "ticks": ""
             }
            },
            "type": "scattergeo"
           }
          ],
          "scattergl": [
           {
            "marker": {
             "colorbar": {
              "outlinewidth": 0,
              "ticks": ""
             }
            },
            "type": "scattergl"
           }
          ],
          "scattermap": [
           {
            "marker": {
             "colorbar": {
              "outlinewidth": 0,
              "ticks": ""
             }
            },
            "type": "scattermap"
           }
          ],
          "scattermapbox": [
           {
            "marker": {
             "colorbar": {
              "outlinewidth": 0,
              "ticks": ""
             }
            },
            "type": "scattermapbox"
           }
          ],
          "scatterpolar": [
           {
            "marker": {
             "colorbar": {
              "outlinewidth": 0,
              "ticks": ""
             }
            },
            "type": "scatterpolar"
           }
          ],
          "scatterpolargl": [
           {
            "marker": {
             "colorbar": {
              "outlinewidth": 0,
              "ticks": ""
             }
            },
            "type": "scatterpolargl"
           }
          ],
          "scatterternary": [
           {
            "marker": {
             "colorbar": {
              "outlinewidth": 0,
              "ticks": ""
             }
            },
            "type": "scatterternary"
           }
          ],
          "surface": [
           {
            "colorbar": {
             "outlinewidth": 0,
             "ticks": ""
            },
            "colorscale": [
             [
              0,
              "#0d0887"
             ],
             [
              0.1111111111111111,
              "#46039f"
             ],
             [
              0.2222222222222222,
              "#7201a8"
             ],
             [
              0.3333333333333333,
              "#9c179e"
             ],
             [
              0.4444444444444444,
              "#bd3786"
             ],
             [
              0.5555555555555556,
              "#d8576b"
             ],
             [
              0.6666666666666666,
              "#ed7953"
             ],
             [
              0.7777777777777778,
              "#fb9f3a"
             ],
             [
              0.8888888888888888,
              "#fdca26"
             ],
             [
              1,
              "#f0f921"
             ]
            ],
            "type": "surface"
           }
          ],
          "table": [
           {
            "cells": {
             "fill": {
              "color": "#EBF0F8"
             },
             "line": {
              "color": "white"
             }
            },
            "header": {
             "fill": {
              "color": "#C8D4E3"
             },
             "line": {
              "color": "white"
             }
            },
            "type": "table"
           }
          ]
         },
         "layout": {
          "annotationdefaults": {
           "arrowcolor": "#2a3f5f",
           "arrowhead": 0,
           "arrowwidth": 1
          },
          "autotypenumbers": "strict",
          "coloraxis": {
           "colorbar": {
            "outlinewidth": 0,
            "ticks": ""
           }
          },
          "colorscale": {
           "diverging": [
            [
             0,
             "#8e0152"
            ],
            [
             0.1,
             "#c51b7d"
            ],
            [
             0.2,
             "#de77ae"
            ],
            [
             0.3,
             "#f1b6da"
            ],
            [
             0.4,
             "#fde0ef"
            ],
            [
             0.5,
             "#f7f7f7"
            ],
            [
             0.6,
             "#e6f5d0"
            ],
            [
             0.7,
             "#b8e186"
            ],
            [
             0.8,
             "#7fbc41"
            ],
            [
             0.9,
             "#4d9221"
            ],
            [
             1,
             "#276419"
            ]
           ],
           "sequential": [
            [
             0,
             "#0d0887"
            ],
            [
             0.1111111111111111,
             "#46039f"
            ],
            [
             0.2222222222222222,
             "#7201a8"
            ],
            [
             0.3333333333333333,
             "#9c179e"
            ],
            [
             0.4444444444444444,
             "#bd3786"
            ],
            [
             0.5555555555555556,
             "#d8576b"
            ],
            [
             0.6666666666666666,
             "#ed7953"
            ],
            [
             0.7777777777777778,
             "#fb9f3a"
            ],
            [
             0.8888888888888888,
             "#fdca26"
            ],
            [
             1,
             "#f0f921"
            ]
           ],
           "sequentialminus": [
            [
             0,
             "#0d0887"
            ],
            [
             0.1111111111111111,
             "#46039f"
            ],
            [
             0.2222222222222222,
             "#7201a8"
            ],
            [
             0.3333333333333333,
             "#9c179e"
            ],
            [
             0.4444444444444444,
             "#bd3786"
            ],
            [
             0.5555555555555556,
             "#d8576b"
            ],
            [
             0.6666666666666666,
             "#ed7953"
            ],
            [
             0.7777777777777778,
             "#fb9f3a"
            ],
            [
             0.8888888888888888,
             "#fdca26"
            ],
            [
             1,
             "#f0f921"
            ]
           ]
          },
          "colorway": [
           "#636efa",
           "#EF553B",
           "#00cc96",
           "#ab63fa",
           "#FFA15A",
           "#19d3f3",
           "#FF6692",
           "#B6E880",
           "#FF97FF",
           "#FECB52"
          ],
          "font": {
           "color": "#2a3f5f"
          },
          "geo": {
           "bgcolor": "white",
           "lakecolor": "white",
           "landcolor": "#E5ECF6",
           "showlakes": true,
           "showland": true,
           "subunitcolor": "white"
          },
          "hoverlabel": {
           "align": "left"
          },
          "hovermode": "closest",
          "mapbox": {
           "style": "light"
          },
          "paper_bgcolor": "white",
          "plot_bgcolor": "#E5ECF6",
          "polar": {
           "angularaxis": {
            "gridcolor": "white",
            "linecolor": "white",
            "ticks": ""
           },
           "bgcolor": "#E5ECF6",
           "radialaxis": {
            "gridcolor": "white",
            "linecolor": "white",
            "ticks": ""
           }
          },
          "scene": {
           "xaxis": {
            "backgroundcolor": "#E5ECF6",
            "gridcolor": "white",
            "gridwidth": 2,
            "linecolor": "white",
            "showbackground": true,
            "ticks": "",
            "zerolinecolor": "white"
           },
           "yaxis": {
            "backgroundcolor": "#E5ECF6",
            "gridcolor": "white",
            "gridwidth": 2,
            "linecolor": "white",
            "showbackground": true,
            "ticks": "",
            "zerolinecolor": "white"
           },
           "zaxis": {
            "backgroundcolor": "#E5ECF6",
            "gridcolor": "white",
            "gridwidth": 2,
            "linecolor": "white",
            "showbackground": true,
            "ticks": "",
            "zerolinecolor": "white"
           }
          },
          "shapedefaults": {
           "line": {
            "color": "#2a3f5f"
           }
          },
          "ternary": {
           "aaxis": {
            "gridcolor": "white",
            "linecolor": "white",
            "ticks": ""
           },
           "baxis": {
            "gridcolor": "white",
            "linecolor": "white",
            "ticks": ""
           },
           "bgcolor": "#E5ECF6",
           "caxis": {
            "gridcolor": "white",
            "linecolor": "white",
            "ticks": ""
           }
          },
          "title": {
           "x": 0.05
          },
          "xaxis": {
           "automargin": true,
           "gridcolor": "white",
           "linecolor": "white",
           "ticks": "",
           "title": {
            "standoff": 15
           },
           "zerolinecolor": "white",
           "zerolinewidth": 2
          },
          "yaxis": {
           "automargin": true,
           "gridcolor": "white",
           "linecolor": "white",
           "ticks": "",
           "title": {
            "standoff": 15
           },
           "zerolinecolor": "white",
           "zerolinewidth": 2
          }
         }
        },
        "title": {
         "text": "Average Macronutrient Breakdown"
        }
       }
      }
     },
     "metadata": {},
     "output_type": "display_data"
    },
    {
     "name": "stdout",
     "output_type": "stream",
     "text": [
      "14.471014492753621 9.412318840579712 9.156884057971014\n",
      "55.583397683397685 36.0019305019305 27.54594594594595\n",
      "47.60932835820896 32.62723880597016 22.15186567164179\n",
      "27.32857142857143 9.773714285714286 13.005714285714285\n"
     ]
    },
    {
     "data": {
      "application/vnd.plotly.v1+json": {
       "config": {
        "plotlyServerURL": "https://plot.ly"
       },
       "data": [
        {
         "domain": {
          "x": [
           0,
           0.2125
          ],
          "y": [
           0,
           1
          ]
         },
         "hoverinfo": "label+percent",
         "labels": [
          "Carbs (g)",
          "Protein (g)",
          "Fats (g)"
         ],
         "marker": {
          "colors": [
           "#91C4F2",
           "#9D79BC",
           "#8CA0D7"
          ]
         },
         "name": "Breakfast",
         "textinfo": "label+value",
         "type": "pie",
         "values": [
          14.471014492753621,
          9.412318840579712,
          9.156884057971014
         ]
        },
        {
         "domain": {
          "x": [
           0.2625,
           0.475
          ],
          "y": [
           0,
           1
          ]
         },
         "hoverinfo": "label+percent",
         "labels": [
          "Carbs (g)",
          "Protein (g)",
          "Fats (g)"
         ],
         "marker": {
          "colors": [
           "#91C4F2",
           "#9D79BC",
           "#8CA0D7"
          ]
         },
         "name": "Dinner",
         "textinfo": "label+value",
         "type": "pie",
         "values": [
          55.583397683397685,
          36.0019305019305,
          27.54594594594595
         ]
        },
        {
         "domain": {
          "x": [
           0.525,
           0.7375
          ],
          "y": [
           0,
           1
          ]
         },
         "hoverinfo": "label+percent",
         "labels": [
          "Carbs (g)",
          "Protein (g)",
          "Fats (g)"
         ],
         "marker": {
          "colors": [
           "#91C4F2",
           "#9D79BC",
           "#8CA0D7"
          ]
         },
         "name": "Lunch",
         "textinfo": "label+value",
         "type": "pie",
         "values": [
          47.60932835820896,
          32.62723880597016,
          22.15186567164179
         ]
        },
        {
         "domain": {
          "x": [
           0.7875,
           1
          ],
          "y": [
           0,
           1
          ]
         },
         "hoverinfo": "label+percent",
         "labels": [
          "Carbs (g)",
          "Protein (g)",
          "Fats (g)"
         ],
         "marker": {
          "colors": [
           "#91C4F2",
           "#9D79BC",
           "#8CA0D7"
          ]
         },
         "name": "Snacks",
         "textinfo": "label+value",
         "type": "pie",
         "values": [
          27.32857142857143,
          9.773714285714286,
          13.005714285714285
         ]
        }
       ],
       "layout": {
        "annotations": [
         {
          "align": "center",
          "font": {
           "size": 12
          },
          "showarrow": false,
          "text": "Avg Calories: 176kcal",
          "x": 0.1,
          "xanchor": "center",
          "xref": "paper",
          "y": -0.15,
          "yanchor": "bottom",
          "yref": "paper"
         },
         {
          "align": "center",
          "font": {
           "size": 12
          },
          "showarrow": false,
          "text": "Avg Calories: 611kcal",
          "x": 0.37,
          "xanchor": "center",
          "xref": "paper",
          "y": -0.15,
          "yanchor": "bottom",
          "yref": "paper"
         },
         {
          "align": "center",
          "font": {
           "size": 12
          },
          "showarrow": false,
          "text": "Avg Calories: 516kcal",
          "x": 0.64,
          "xanchor": "center",
          "xref": "paper",
          "y": -0.15,
          "yanchor": "bottom",
          "yref": "paper"
         },
         {
          "align": "center",
          "font": {
           "size": 12
          },
          "showarrow": false,
          "text": "Avg Calories: 283kcal",
          "x": 0.91,
          "xanchor": "center",
          "xref": "paper",
          "y": -0.15,
          "yanchor": "bottom",
          "yref": "paper"
         }
        ],
        "margin": {
         "b": 100,
         "t": 100
        },
        "template": {
         "data": {
          "bar": [
           {
            "error_x": {
             "color": "#2a3f5f"
            },
            "error_y": {
             "color": "#2a3f5f"
            },
            "marker": {
             "line": {
              "color": "#E5ECF6",
              "width": 0.5
             },
             "pattern": {
              "fillmode": "overlay",
              "size": 10,
              "solidity": 0.2
             }
            },
            "type": "bar"
           }
          ],
          "barpolar": [
           {
            "marker": {
             "line": {
              "color": "#E5ECF6",
              "width": 0.5
             },
             "pattern": {
              "fillmode": "overlay",
              "size": 10,
              "solidity": 0.2
             }
            },
            "type": "barpolar"
           }
          ],
          "carpet": [
           {
            "aaxis": {
             "endlinecolor": "#2a3f5f",
             "gridcolor": "white",
             "linecolor": "white",
             "minorgridcolor": "white",
             "startlinecolor": "#2a3f5f"
            },
            "baxis": {
             "endlinecolor": "#2a3f5f",
             "gridcolor": "white",
             "linecolor": "white",
             "minorgridcolor": "white",
             "startlinecolor": "#2a3f5f"
            },
            "type": "carpet"
           }
          ],
          "choropleth": [
           {
            "colorbar": {
             "outlinewidth": 0,
             "ticks": ""
            },
            "type": "choropleth"
           }
          ],
          "contour": [
           {
            "colorbar": {
             "outlinewidth": 0,
             "ticks": ""
            },
            "colorscale": [
             [
              0,
              "#0d0887"
             ],
             [
              0.1111111111111111,
              "#46039f"
             ],
             [
              0.2222222222222222,
              "#7201a8"
             ],
             [
              0.3333333333333333,
              "#9c179e"
             ],
             [
              0.4444444444444444,
              "#bd3786"
             ],
             [
              0.5555555555555556,
              "#d8576b"
             ],
             [
              0.6666666666666666,
              "#ed7953"
             ],
             [
              0.7777777777777778,
              "#fb9f3a"
             ],
             [
              0.8888888888888888,
              "#fdca26"
             ],
             [
              1,
              "#f0f921"
             ]
            ],
            "type": "contour"
           }
          ],
          "contourcarpet": [
           {
            "colorbar": {
             "outlinewidth": 0,
             "ticks": ""
            },
            "type": "contourcarpet"
           }
          ],
          "heatmap": [
           {
            "colorbar": {
             "outlinewidth": 0,
             "ticks": ""
            },
            "colorscale": [
             [
              0,
              "#0d0887"
             ],
             [
              0.1111111111111111,
              "#46039f"
             ],
             [
              0.2222222222222222,
              "#7201a8"
             ],
             [
              0.3333333333333333,
              "#9c179e"
             ],
             [
              0.4444444444444444,
              "#bd3786"
             ],
             [
              0.5555555555555556,
              "#d8576b"
             ],
             [
              0.6666666666666666,
              "#ed7953"
             ],
             [
              0.7777777777777778,
              "#fb9f3a"
             ],
             [
              0.8888888888888888,
              "#fdca26"
             ],
             [
              1,
              "#f0f921"
             ]
            ],
            "type": "heatmap"
           }
          ],
          "histogram": [
           {
            "marker": {
             "pattern": {
              "fillmode": "overlay",
              "size": 10,
              "solidity": 0.2
             }
            },
            "type": "histogram"
           }
          ],
          "histogram2d": [
           {
            "colorbar": {
             "outlinewidth": 0,
             "ticks": ""
            },
            "colorscale": [
             [
              0,
              "#0d0887"
             ],
             [
              0.1111111111111111,
              "#46039f"
             ],
             [
              0.2222222222222222,
              "#7201a8"
             ],
             [
              0.3333333333333333,
              "#9c179e"
             ],
             [
              0.4444444444444444,
              "#bd3786"
             ],
             [
              0.5555555555555556,
              "#d8576b"
             ],
             [
              0.6666666666666666,
              "#ed7953"
             ],
             [
              0.7777777777777778,
              "#fb9f3a"
             ],
             [
              0.8888888888888888,
              "#fdca26"
             ],
             [
              1,
              "#f0f921"
             ]
            ],
            "type": "histogram2d"
           }
          ],
          "histogram2dcontour": [
           {
            "colorbar": {
             "outlinewidth": 0,
             "ticks": ""
            },
            "colorscale": [
             [
              0,
              "#0d0887"
             ],
             [
              0.1111111111111111,
              "#46039f"
             ],
             [
              0.2222222222222222,
              "#7201a8"
             ],
             [
              0.3333333333333333,
              "#9c179e"
             ],
             [
              0.4444444444444444,
              "#bd3786"
             ],
             [
              0.5555555555555556,
              "#d8576b"
             ],
             [
              0.6666666666666666,
              "#ed7953"
             ],
             [
              0.7777777777777778,
              "#fb9f3a"
             ],
             [
              0.8888888888888888,
              "#fdca26"
             ],
             [
              1,
              "#f0f921"
             ]
            ],
            "type": "histogram2dcontour"
           }
          ],
          "mesh3d": [
           {
            "colorbar": {
             "outlinewidth": 0,
             "ticks": ""
            },
            "type": "mesh3d"
           }
          ],
          "parcoords": [
           {
            "line": {
             "colorbar": {
              "outlinewidth": 0,
              "ticks": ""
             }
            },
            "type": "parcoords"
           }
          ],
          "pie": [
           {
            "automargin": true,
            "type": "pie"
           }
          ],
          "scatter": [
           {
            "fillpattern": {
             "fillmode": "overlay",
             "size": 10,
             "solidity": 0.2
            },
            "type": "scatter"
           }
          ],
          "scatter3d": [
           {
            "line": {
             "colorbar": {
              "outlinewidth": 0,
              "ticks": ""
             }
            },
            "marker": {
             "colorbar": {
              "outlinewidth": 0,
              "ticks": ""
             }
            },
            "type": "scatter3d"
           }
          ],
          "scattercarpet": [
           {
            "marker": {
             "colorbar": {
              "outlinewidth": 0,
              "ticks": ""
             }
            },
            "type": "scattercarpet"
           }
          ],
          "scattergeo": [
           {
            "marker": {
             "colorbar": {
              "outlinewidth": 0,
              "ticks": ""
             }
            },
            "type": "scattergeo"
           }
          ],
          "scattergl": [
           {
            "marker": {
             "colorbar": {
              "outlinewidth": 0,
              "ticks": ""
             }
            },
            "type": "scattergl"
           }
          ],
          "scattermap": [
           {
            "marker": {
             "colorbar": {
              "outlinewidth": 0,
              "ticks": ""
             }
            },
            "type": "scattermap"
           }
          ],
          "scattermapbox": [
           {
            "marker": {
             "colorbar": {
              "outlinewidth": 0,
              "ticks": ""
             }
            },
            "type": "scattermapbox"
           }
          ],
          "scatterpolar": [
           {
            "marker": {
             "colorbar": {
              "outlinewidth": 0,
              "ticks": ""
             }
            },
            "type": "scatterpolar"
           }
          ],
          "scatterpolargl": [
           {
            "marker": {
             "colorbar": {
              "outlinewidth": 0,
              "ticks": ""
             }
            },
            "type": "scatterpolargl"
           }
          ],
          "scatterternary": [
           {
            "marker": {
             "colorbar": {
              "outlinewidth": 0,
              "ticks": ""
             }
            },
            "type": "scatterternary"
           }
          ],
          "surface": [
           {
            "colorbar": {
             "outlinewidth": 0,
             "ticks": ""
            },
            "colorscale": [
             [
              0,
              "#0d0887"
             ],
             [
              0.1111111111111111,
              "#46039f"
             ],
             [
              0.2222222222222222,
              "#7201a8"
             ],
             [
              0.3333333333333333,
              "#9c179e"
             ],
             [
              0.4444444444444444,
              "#bd3786"
             ],
             [
              0.5555555555555556,
              "#d8576b"
             ],
             [
              0.6666666666666666,
              "#ed7953"
             ],
             [
              0.7777777777777778,
              "#fb9f3a"
             ],
             [
              0.8888888888888888,
              "#fdca26"
             ],
             [
              1,
              "#f0f921"
             ]
            ],
            "type": "surface"
           }
          ],
          "table": [
           {
            "cells": {
             "fill": {
              "color": "#EBF0F8"
             },
             "line": {
              "color": "white"
             }
            },
            "header": {
             "fill": {
              "color": "#C8D4E3"
             },
             "line": {
              "color": "white"
             }
            },
            "type": "table"
           }
          ]
         },
         "layout": {
          "annotationdefaults": {
           "arrowcolor": "#2a3f5f",
           "arrowhead": 0,
           "arrowwidth": 1
          },
          "autotypenumbers": "strict",
          "coloraxis": {
           "colorbar": {
            "outlinewidth": 0,
            "ticks": ""
           }
          },
          "colorscale": {
           "diverging": [
            [
             0,
             "#8e0152"
            ],
            [
             0.1,
             "#c51b7d"
            ],
            [
             0.2,
             "#de77ae"
            ],
            [
             0.3,
             "#f1b6da"
            ],
            [
             0.4,
             "#fde0ef"
            ],
            [
             0.5,
             "#f7f7f7"
            ],
            [
             0.6,
             "#e6f5d0"
            ],
            [
             0.7,
             "#b8e186"
            ],
            [
             0.8,
             "#7fbc41"
            ],
            [
             0.9,
             "#4d9221"
            ],
            [
             1,
             "#276419"
            ]
           ],
           "sequential": [
            [
             0,
             "#0d0887"
            ],
            [
             0.1111111111111111,
             "#46039f"
            ],
            [
             0.2222222222222222,
             "#7201a8"
            ],
            [
             0.3333333333333333,
             "#9c179e"
            ],
            [
             0.4444444444444444,
             "#bd3786"
            ],
            [
             0.5555555555555556,
             "#d8576b"
            ],
            [
             0.6666666666666666,
             "#ed7953"
            ],
            [
             0.7777777777777778,
             "#fb9f3a"
            ],
            [
             0.8888888888888888,
             "#fdca26"
            ],
            [
             1,
             "#f0f921"
            ]
           ],
           "sequentialminus": [
            [
             0,
             "#0d0887"
            ],
            [
             0.1111111111111111,
             "#46039f"
            ],
            [
             0.2222222222222222,
             "#7201a8"
            ],
            [
             0.3333333333333333,
             "#9c179e"
            ],
            [
             0.4444444444444444,
             "#bd3786"
            ],
            [
             0.5555555555555556,
             "#d8576b"
            ],
            [
             0.6666666666666666,
             "#ed7953"
            ],
            [
             0.7777777777777778,
             "#fb9f3a"
            ],
            [
             0.8888888888888888,
             "#fdca26"
            ],
            [
             1,
             "#f0f921"
            ]
           ]
          },
          "colorway": [
           "#636efa",
           "#EF553B",
           "#00cc96",
           "#ab63fa",
           "#FFA15A",
           "#19d3f3",
           "#FF6692",
           "#B6E880",
           "#FF97FF",
           "#FECB52"
          ],
          "font": {
           "color": "#2a3f5f"
          },
          "geo": {
           "bgcolor": "white",
           "lakecolor": "white",
           "landcolor": "#E5ECF6",
           "showlakes": true,
           "showland": true,
           "subunitcolor": "white"
          },
          "hoverlabel": {
           "align": "left"
          },
          "hovermode": "closest",
          "mapbox": {
           "style": "light"
          },
          "paper_bgcolor": "white",
          "plot_bgcolor": "#E5ECF6",
          "polar": {
           "angularaxis": {
            "gridcolor": "white",
            "linecolor": "white",
            "ticks": ""
           },
           "bgcolor": "#E5ECF6",
           "radialaxis": {
            "gridcolor": "white",
            "linecolor": "white",
            "ticks": ""
           }
          },
          "scene": {
           "xaxis": {
            "backgroundcolor": "#E5ECF6",
            "gridcolor": "white",
            "gridwidth": 2,
            "linecolor": "white",
            "showbackground": true,
            "ticks": "",
            "zerolinecolor": "white"
           },
           "yaxis": {
            "backgroundcolor": "#E5ECF6",
            "gridcolor": "white",
            "gridwidth": 2,
            "linecolor": "white",
            "showbackground": true,
            "ticks": "",
            "zerolinecolor": "white"
           },
           "zaxis": {
            "backgroundcolor": "#E5ECF6",
            "gridcolor": "white",
            "gridwidth": 2,
            "linecolor": "white",
            "showbackground": true,
            "ticks": "",
            "zerolinecolor": "white"
           }
          },
          "shapedefaults": {
           "line": {
            "color": "#2a3f5f"
           }
          },
          "ternary": {
           "aaxis": {
            "gridcolor": "white",
            "linecolor": "white",
            "ticks": ""
           },
           "baxis": {
            "gridcolor": "white",
            "linecolor": "white",
            "ticks": ""
           },
           "bgcolor": "#E5ECF6",
           "caxis": {
            "gridcolor": "white",
            "linecolor": "white",
            "ticks": ""
           }
          },
          "title": {
           "x": 0.05
          },
          "xaxis": {
           "automargin": true,
           "gridcolor": "white",
           "linecolor": "white",
           "ticks": "",
           "title": {
            "standoff": 15
           },
           "zerolinecolor": "white",
           "zerolinewidth": 2
          },
          "yaxis": {
           "automargin": true,
           "gridcolor": "white",
           "linecolor": "white",
           "ticks": "",
           "title": {
            "standoff": 15
           },
           "zerolinecolor": "white",
           "zerolinewidth": 2
          }
         }
        },
        "title": {
         "text": "Average Macronutrient Breakdown by Meal"
        }
       }
      }
     },
     "metadata": {},
     "output_type": "display_data"
    }
   ],
   "source": [
    "# print(df_daily)\n",
    "print(df)\n",
    "\n",
    "df_daily = pd.read_csv('../data/myfitnesspal/cleaned/mfp_nutrition_daily.csv')\n",
    "# only interested in days with consistent trackin\n",
    "df_daily = df_daily[df_daily['missing_main_meal']==False]\n",
    "\n",
    "avg_carbs = df_daily['Carbohydrates (g)'].mean()\n",
    "avg_protein = df_daily['Protein (g)'].mean()\n",
    "avg_fat = df_daily['Fat (g)'].mean()\n",
    "\n",
    "fig = go.Figure()\n",
    "\n",
    "fig.add_trace(go.Pie(labels=['Carbs (g)','Protein (g)','Fats (g)'],\n",
    "                     values = [avg_carbs,avg_protein, avg_fat],\n",
    "                     hoverinfo='label+percent',\n",
    "                     textinfo='label+value',\n",
    "                     marker=dict(colors=['91C4F2','9D79BC','8CA0D7'])))\n",
    "\n",
    "fig.update_layout(title_text='Average Macronutrient Breakdown')\n",
    "fig.show()\n",
    "\n",
    "\n",
    "#  Creating subplots for broken down by meal\n",
    "\n",
    "fig = go.Figure()\n",
    "meals = df['Meal'].unique()\n",
    "\n",
    "fig = make_subplots(rows=1, cols=4, specs=[[{'type':'domain'},{'type':'domain'},{'type':'domain'},{'type':'domain'}]], subplot_titles=meals)\n",
    "annotations = []\n",
    "# annotation_spacing\n",
    "x = 0.1\n",
    "\n",
    "for i, meal in enumerate(meals, start=1):\n",
    "    df_meal = df[df['Meal'] == meal]\n",
    "    avg_carbs = df_meal['Carbohydrates (g)'].mean()\n",
    "    avg_protein = df_meal['Protein (g)'].mean()    \n",
    "    avg_fat = df_meal['Fat (g)'].mean()\n",
    "    avg_calories = df_meal['Calories'].mean()\n",
    "    \n",
    "    print(avg_carbs,avg_protein,avg_fat)\n",
    "    \n",
    "    fig.add_trace(go.Pie(labels=['Carbs (g)','Protein (g)','Fats (g)'],\n",
    "                         values=[avg_carbs,avg_protein,avg_fat],\n",
    "                         name=meal,\n",
    "                         hoverinfo='label+percent',\n",
    "                         textinfo='label+value',\n",
    "                         marker=dict(colors=['#91C4F2','#9D79BC','#8CA0D7'])\n",
    "                         ), row=1, col=i)\n",
    "    # spacing for annotations\n",
    "    \n",
    "    annotations.append(dict(\n",
    "        x=x,  # x-position normalized between 0 and 1\n",
    "        y=-0.15,                       # slightly below the plot area\n",
    "        text=f'Avg Calories: {avg_calories:.0f}kcal',\n",
    "        showarrow=False,\n",
    "        xref='paper',\n",
    "        yref='paper',\n",
    "        font=dict(size=12),\n",
    "        align='center'\n",
    "    ))\n",
    "    x+=0.27\n",
    "\n",
    "fig.update_layout(title_text='Average Macronutrient Breakdown by Meal', annotations=annotations, margin=dict(t=100,b=100))\n",
    "fig.show()\n",
    "\n",
    "\n",
    "\n",
    "\n",
    "\n"
   ]
  },
  {
   "cell_type": "markdown",
   "id": "eaf36fe1",
   "metadata": {},
   "source": [
    "# Weekly breakdowns\n"
   ]
  },
  {
   "cell_type": "code",
   "execution_count": 181,
   "id": "38a84b92",
   "metadata": {},
   "outputs": [
    {
     "name": "stdout",
     "output_type": "stream",
     "text": [
      "           Date  Calories  Protein (g)  Carbohydrates (g)  Fat (g)  \\\n",
      "0    2024-02-28     530.7         31.6               56.1     19.8   \n",
      "1    2024-02-29      47.4          3.1                4.1      2.0   \n",
      "2    2024-03-01     771.9         44.2               42.6     44.9   \n",
      "3    2024-03-02    1055.5         53.9              115.1     43.1   \n",
      "4    2024-03-07     560.2          4.8               39.2     17.0   \n",
      "..          ...       ...          ...                ...      ...   \n",
      "336  2025-06-26    1503.6        100.7              126.0     66.9   \n",
      "337  2025-06-27    1709.2         99.1              203.1     57.6   \n",
      "338  2025-06-28     761.4         38.4               82.0     33.5   \n",
      "339  2025-06-29    1468.4         57.1              142.6     75.0   \n",
      "340  2025-06-30     864.8         44.2               70.8     46.5   \n",
      "\n",
      "     Estimated Alcohol (g)  missing_main_meal  Meal  \n",
      "0                 0.000000               True     1  \n",
      "1                 0.000000               True     1  \n",
      "2                 0.000000               True     2  \n",
      "3                 0.000000               True     2  \n",
      "4                33.214286               True     2  \n",
      "..                     ...                ...   ...  \n",
      "336               0.000000              False     4  \n",
      "337               0.000000              False     3  \n",
      "338               0.000000              False     2  \n",
      "339               0.000000              False     4  \n",
      "340               0.000000               True     3  \n",
      "\n",
      "[341 rows x 8 columns]\n",
      "         Date     Calories  Protein (g)    Fat (g)  Carbohydrates (g)\n",
      "0  2024-03-24   410.900000    23.100000  11.200000          52.300000\n",
      "1  2024-03-31          NaN          NaN        NaN                NaN\n",
      "2  2024-04-07          NaN          NaN        NaN                NaN\n",
      "3  2024-04-14          NaN          NaN        NaN                NaN\n",
      "4  2024-04-21          NaN          NaN        NaN                NaN\n",
      "5  2024-04-28          NaN          NaN        NaN                NaN\n",
      "6  2024-05-05          NaN          NaN        NaN                NaN\n",
      "7  2024-05-12          NaN          NaN        NaN                NaN\n",
      "8  2024-05-19          NaN          NaN        NaN                NaN\n",
      "9  2024-05-26          NaN          NaN        NaN                NaN\n",
      "10 2024-06-02  1266.800000    85.225000  62.025000          93.900000\n",
      "11 2024-06-09  1338.443478    88.565217  58.560870         113.473913\n",
      "12 2024-06-16  1306.282609    73.230435  61.300000         118.113043\n",
      "13 2024-06-23  1035.071429    62.804762  46.380952          93.357143\n",
      "14 2024-06-30   818.325000    44.553571  38.378571          74.457143\n",
      "15 2024-07-07  1203.496429    56.625000  53.442857         124.550000\n",
      "16 2024-07-14  1320.437037    76.777778  55.244444         115.329630\n",
      "17 2024-07-21  1294.813043    72.604348  56.608696         125.056522\n",
      "18 2024-07-28  1423.876471    84.088235  58.729412         142.641176\n",
      "19 2024-08-04  1447.663636    87.745455  73.381818         113.409091\n",
      "20 2024-08-11  1444.664000    83.012000  65.848000         132.280000\n",
      "21 2024-08-18  1290.263158    64.926316  62.289474         118.357895\n",
      "22 2024-08-25  1566.657143    76.700000  77.728571         127.100000\n",
      "23 2024-09-01          NaN          NaN        NaN                NaN\n",
      "24 2024-09-08  1225.950000    59.925000  58.050000         118.950000\n",
      "25 2024-09-15          NaN          NaN        NaN                NaN\n",
      "26 2024-09-22          NaN          NaN        NaN                NaN\n",
      "27 2024-09-29   969.100000    60.200000  52.166667          66.366667\n"
     ]
    }
   ],
   "source": [
    "# Breaking these down by week\n",
    "df_daily = pd.read_csv('../data/myfitnesspal/cleaned/mfp_nutrition_daily.csv')\n",
    "print(df_daily)\n",
    "df_daily['Date'] = pd.to_datetime(df['Date'],format='%Y-%m-%d')\n",
    "df_daily = df_daily.set_index('Date')\n",
    "weekly_df = df_daily.resample('W').mean().reset_index()[['Date','Calories','Protein (g)','Fat (g)','Carbohydrates (g)']]\n",
    "\n",
    "print(weekly_df)\n",
    "\n",
    "# fig = go.Figure()\n",
    "\n",
    "# x_data = weekly_df['Date']\n",
    "# y1_data = weekly_df['Carbohydrates (g)']\n",
    "# y2_data = weekly_df['Protein (g)']\n",
    "# y3_data = weekly_df['Fat (g)']\n",
    "\n",
    "\n",
    "# # CPF = ['#91C4F2','#9D79BC','#8CA0D7']\n",
    "\n",
    "# fig.add_trace(go.Bar(x=x_data,y=y1_data,name='Carbohydrates (g)', marker=dict(color='#91C4F2') ))\n",
    "# fig.add_trace(go.Bar(x=x_data,y=y2_data,name='Protein (g)', marker=dict(color='#9D79BC') ))\n",
    "# fig.add_trace(go.Bar(x=x_data,y=y3_data,name='Fat (g)', marker=dict(color='#8CA0D7') ))\n",
    "\n",
    "# fig.update_layout(barmode='stack', title='Weekly Macronutrient Intake', xaxis_title='Date',yaxis_title='Grams',legend_title='Macronutrient')\n"
   ]
  },
  {
   "cell_type": "code",
   "execution_count": null,
   "id": "6f13a552",
   "metadata": {},
   "outputs": [],
   "source": []
  }
 ],
 "metadata": {
  "kernelspec": {
   "display_name": "Python 3",
   "language": "python",
   "name": "python3"
  },
  "language_info": {
   "codemirror_mode": {
    "name": "ipython",
    "version": 3
   },
   "file_extension": ".py",
   "mimetype": "text/x-python",
   "name": "python",
   "nbconvert_exporter": "python",
   "pygments_lexer": "ipython3",
   "version": "3.12.4"
  }
 },
 "nbformat": 4,
 "nbformat_minor": 5
}
